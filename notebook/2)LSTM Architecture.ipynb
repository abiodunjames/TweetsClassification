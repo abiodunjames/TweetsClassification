{
  "nbformat": 4,
  "nbformat_minor": 0,
  "metadata": {
    "accelerator": "GPU",
    "colab": {
      "name": "LSTM.ipynb",
      "provenance": [],
      "collapsed_sections": [],
      "toc_visible": true,
      "machine_shape": "hm",
      "include_colab_link": true
    },
    "kernelspec": {
      "display_name": "Python 3",
      "language": "python",
      "name": "python3"
    },
    "language_info": {
      "codemirror_mode": {
        "name": "ipython",
        "version": 3
      },
      "file_extension": ".py",
      "mimetype": "text/x-python",
      "name": "python",
      "nbconvert_exporter": "python",
      "pygments_lexer": "ipython3",
      "version": "3.7.4"
    }
  },
  "cells": [
    {
      "cell_type": "markdown",
      "metadata": {
        "id": "view-in-github",
        "colab_type": "text"
      },
      "source": [
        "<a href=\"https://colab.research.google.com/github/abiodunjames/TweetsClassification/blob/master/notebook/LSTM.ipynb\" target=\"_parent\"><img src=\"https://colab.research.google.com/assets/colab-badge.svg\" alt=\"Open In Colab\"/></a>"
      ]
    },
    {
      "cell_type": "markdown",
      "metadata": {
        "colab_type": "text",
        "id": "I7KyPq5jM2T_"
      },
      "source": [
        "### Install Libraries\n",
        "There are python libraries needed for the training. In the block below, I'll install them using pip\n",
        "\n",
        "* `demoji` is used to remove emojis from tweets. This will be used at the pre-processing step."
      ]
    },
    {
      "cell_type": "code",
      "metadata": {
        "colab_type": "code",
        "id": "5hX22ezxcwDi",
        "outputId": "0026a9be-5980-4295-d62d-7fa426636778",
        "colab": {
          "base_uri": "https://localhost:8080/",
          "height": 632
        }
      },
      "source": [
        "\n",
        "!pip install demoji\n",
        "!python -m spacy download en"
      ],
      "execution_count": 1,
      "outputs": [
        {
          "output_type": "stream",
          "text": [
            "Requirement already satisfied: demoji in /usr/local/lib/python3.6/dist-packages (0.2.1)\n",
            "Requirement already satisfied: setuptools in /usr/local/lib/python3.6/dist-packages (from demoji) (46.3.0)\n",
            "Requirement already satisfied: colorama in /usr/local/lib/python3.6/dist-packages (from demoji) (0.4.3)\n",
            "Requirement already satisfied: requests<3.0.0 in /usr/local/lib/python3.6/dist-packages (from demoji) (2.23.0)\n",
            "Requirement already satisfied: urllib3!=1.25.0,!=1.25.1,<1.26,>=1.21.1 in /usr/local/lib/python3.6/dist-packages (from requests<3.0.0->demoji) (1.24.3)\n",
            "Requirement already satisfied: chardet<4,>=3.0.2 in /usr/local/lib/python3.6/dist-packages (from requests<3.0.0->demoji) (3.0.4)\n",
            "Requirement already satisfied: idna<3,>=2.5 in /usr/local/lib/python3.6/dist-packages (from requests<3.0.0->demoji) (2.9)\n",
            "Requirement already satisfied: certifi>=2017.4.17 in /usr/local/lib/python3.6/dist-packages (from requests<3.0.0->demoji) (2020.4.5.1)\n",
            "Requirement already satisfied: en_core_web_sm==2.2.5 from https://github.com/explosion/spacy-models/releases/download/en_core_web_sm-2.2.5/en_core_web_sm-2.2.5.tar.gz#egg=en_core_web_sm==2.2.5 in /usr/local/lib/python3.6/dist-packages (2.2.5)\n",
            "Requirement already satisfied: spacy>=2.2.2 in /usr/local/lib/python3.6/dist-packages (from en_core_web_sm==2.2.5) (2.2.4)\n",
            "Requirement already satisfied: blis<0.5.0,>=0.4.0 in /usr/local/lib/python3.6/dist-packages (from spacy>=2.2.2->en_core_web_sm==2.2.5) (0.4.1)\n",
            "Requirement already satisfied: plac<1.2.0,>=0.9.6 in /usr/local/lib/python3.6/dist-packages (from spacy>=2.2.2->en_core_web_sm==2.2.5) (1.1.3)\n",
            "Requirement already satisfied: srsly<1.1.0,>=1.0.2 in /usr/local/lib/python3.6/dist-packages (from spacy>=2.2.2->en_core_web_sm==2.2.5) (1.0.2)\n",
            "Requirement already satisfied: wasabi<1.1.0,>=0.4.0 in /usr/local/lib/python3.6/dist-packages (from spacy>=2.2.2->en_core_web_sm==2.2.5) (0.6.0)\n",
            "Requirement already satisfied: catalogue<1.1.0,>=0.0.7 in /usr/local/lib/python3.6/dist-packages (from spacy>=2.2.2->en_core_web_sm==2.2.5) (1.0.0)\n",
            "Requirement already satisfied: requests<3.0.0,>=2.13.0 in /usr/local/lib/python3.6/dist-packages (from spacy>=2.2.2->en_core_web_sm==2.2.5) (2.23.0)\n",
            "Requirement already satisfied: numpy>=1.15.0 in /usr/local/lib/python3.6/dist-packages (from spacy>=2.2.2->en_core_web_sm==2.2.5) (1.18.4)\n",
            "Requirement already satisfied: preshed<3.1.0,>=3.0.2 in /usr/local/lib/python3.6/dist-packages (from spacy>=2.2.2->en_core_web_sm==2.2.5) (3.0.2)\n",
            "Requirement already satisfied: thinc==7.4.0 in /usr/local/lib/python3.6/dist-packages (from spacy>=2.2.2->en_core_web_sm==2.2.5) (7.4.0)\n",
            "Requirement already satisfied: setuptools in /usr/local/lib/python3.6/dist-packages (from spacy>=2.2.2->en_core_web_sm==2.2.5) (46.3.0)\n",
            "Requirement already satisfied: tqdm<5.0.0,>=4.38.0 in /usr/local/lib/python3.6/dist-packages (from spacy>=2.2.2->en_core_web_sm==2.2.5) (4.41.1)\n",
            "Requirement already satisfied: murmurhash<1.1.0,>=0.28.0 in /usr/local/lib/python3.6/dist-packages (from spacy>=2.2.2->en_core_web_sm==2.2.5) (1.0.2)\n",
            "Requirement already satisfied: cymem<2.1.0,>=2.0.2 in /usr/local/lib/python3.6/dist-packages (from spacy>=2.2.2->en_core_web_sm==2.2.5) (2.0.3)\n",
            "Requirement already satisfied: importlib-metadata>=0.20; python_version < \"3.8\" in /usr/local/lib/python3.6/dist-packages (from catalogue<1.1.0,>=0.0.7->spacy>=2.2.2->en_core_web_sm==2.2.5) (1.6.0)\n",
            "Requirement already satisfied: idna<3,>=2.5 in /usr/local/lib/python3.6/dist-packages (from requests<3.0.0,>=2.13.0->spacy>=2.2.2->en_core_web_sm==2.2.5) (2.9)\n",
            "Requirement already satisfied: chardet<4,>=3.0.2 in /usr/local/lib/python3.6/dist-packages (from requests<3.0.0,>=2.13.0->spacy>=2.2.2->en_core_web_sm==2.2.5) (3.0.4)\n",
            "Requirement already satisfied: urllib3!=1.25.0,!=1.25.1,<1.26,>=1.21.1 in /usr/local/lib/python3.6/dist-packages (from requests<3.0.0,>=2.13.0->spacy>=2.2.2->en_core_web_sm==2.2.5) (1.24.3)\n",
            "Requirement already satisfied: certifi>=2017.4.17 in /usr/local/lib/python3.6/dist-packages (from requests<3.0.0,>=2.13.0->spacy>=2.2.2->en_core_web_sm==2.2.5) (2020.4.5.1)\n",
            "Requirement already satisfied: zipp>=0.5 in /usr/local/lib/python3.6/dist-packages (from importlib-metadata>=0.20; python_version < \"3.8\"->catalogue<1.1.0,>=0.0.7->spacy>=2.2.2->en_core_web_sm==2.2.5) (3.1.0)\n",
            "\u001b[38;5;2m✔ Download and installation successful\u001b[0m\n",
            "You can now load the model via spacy.load('en_core_web_sm')\n",
            "\u001b[38;5;2m✔ Linking successful\u001b[0m\n",
            "/usr/local/lib/python3.6/dist-packages/en_core_web_sm -->\n",
            "/usr/local/lib/python3.6/dist-packages/spacy/data/en\n",
            "You can now load the model via spacy.load('en')\n"
          ],
          "name": "stdout"
        }
      ]
    },
    {
      "cell_type": "code",
      "metadata": {
        "colab_type": "code",
        "id": "UBWo1LfZXTtu",
        "colab": {}
      },
      "source": [
        "import pandas as pd\n",
        "import numpy as np\n",
        "import matplotlib.pyplot as plt\n",
        "import glob\n",
        "import re\n",
        "import demoji\n",
        "from sklearn.model_selection import train_test_split\n",
        "from sklearn.preprocessing import LabelEncoder\n",
        "import demoji\n",
        "from sklearn.utils import shuffle, resample\n",
        "import math\n",
        "import spacy\n",
        "from collections import Counter\n",
        "from sklearn.feature_extraction.text import CountVectorizer\n",
        "from sklearn.metrics import accuracy_score\n",
        "import torch.optim as optim\n",
        "import torch\n",
        "from spacy.lang.en import English\n",
        "import nltk\n",
        "from nltk.stem.snowball import SnowballStemmer\n",
        "from sklearn.metrics import f1_score, recall_score, precision_score\n",
        "import matplotlib.pyplot as plt\n",
        "from sklearn.model_selection import train_test_split\n",
        "from torch.utils.data import Dataset, DataLoader\n",
        "from torchvision import transforms, utils\n",
        "import time\n",
        "import json\n",
        "%matplotlib inline  "
      ],
      "execution_count": 0,
      "outputs": []
    },
    {
      "cell_type": "code",
      "metadata": {
        "colab_type": "code",
        "id": "L-TmCx3UxHsc",
        "outputId": "ad33b612-bd23-46e9-8e06-0d46010d8305",
        "colab": {
          "base_uri": "https://localhost:8080/",
          "height": 85
        }
      },
      "source": [
        "demoji.download_codes()\n",
        "pd.options.display.max_colwidth = 8000"
      ],
      "execution_count": 3,
      "outputs": [
        {
          "output_type": "stream",
          "text": [
            "Downloading emoji data ...\n",
            "... OK (Got response in 0.12 seconds)\n",
            "Writing emoji data to /root/.demoji/codes.json ...\n",
            "... OK\n"
          ],
          "name": "stdout"
        }
      ]
    },
    {
      "cell_type": "markdown",
      "metadata": {
        "id": "cRK7KfasP6J6",
        "colab_type": "text"
      },
      "source": [
        "### Download Datasets"
      ]
    },
    {
      "cell_type": "code",
      "metadata": {
        "id": "RrHEC_f0P9dG",
        "colab_type": "code",
        "colab": {
          "base_uri": "https://localhost:8080/",
          "height": 34
        },
        "outputId": "0108e94b-6273-4ab9-fd19-ee30f4ff7a80"
      },
      "source": [
        "! git clone https://github.com/abiodunjames/TweetsClassification/\n",
        "! cp -r ./TweetsClassification/data ./data"
      ],
      "execution_count": 4,
      "outputs": [
        {
          "output_type": "stream",
          "text": [
            "fatal: destination path 'TweetsClassification' already exists and is not an empty directory.\n"
          ],
          "name": "stdout"
        }
      ]
    },
    {
      "cell_type": "markdown",
      "metadata": {
        "colab_type": "text",
        "id": "Qu2g7X2PaHpe"
      },
      "source": [
        "### Loading data into dataframes\n",
        "\n",
        "There are multiple files for the tweets. In the cell below we'll read the files and load **them** into dataframes."
      ]
    },
    {
      "cell_type": "code",
      "metadata": {
        "colab_type": "code",
        "id": "cKVpYfZnU6QY",
        "colab": {}
      },
      "source": [
        "diction = spacy.lang.en.stop_words.STOP_WORDS"
      ],
      "execution_count": 0,
      "outputs": []
    },
    {
      "cell_type": "code",
      "metadata": {
        "colab_type": "code",
        "id": "k0oBj_wJYtWl",
        "colab": {}
      },
      "source": [
        "df = pd.concat([pd.read_csv(f, index_col=False) for f in glob.glob('./data/tweet*.csv')],ignore_index=True, axis=0)"
      ],
      "execution_count": 0,
      "outputs": []
    },
    {
      "cell_type": "markdown",
      "metadata": {
        "colab_type": "text",
        "id": "-b51sDGqGrIJ"
      },
      "source": [
        "### Data Exploration\n",
        " To make sense of the raw datasets, I'll do the following:\n",
        "\n",
        " * Read the number of columns\n",
        " * Visualize the distribution of spam and non-spam tweets\n",
        " * Find the frequencies of words in the spam and non-spam messages \n",
        " * Drop columns not needed for training"
      ]
    },
    {
      "cell_type": "code",
      "metadata": {
        "colab_type": "code",
        "id": "bqPHc__kGvlM",
        "outputId": "f7fbe0ae-a17c-4aa2-aeef-34aac9671e13",
        "colab": {
          "base_uri": "https://localhost:8080/",
          "height": 187
        }
      },
      "source": [
        "df.info()"
      ],
      "execution_count": 7,
      "outputs": [
        {
          "output_type": "stream",
          "text": [
            "<class 'pandas.core.frame.DataFrame'>\n",
            "RangeIndex: 110527 entries, 0 to 110526\n",
            "Data columns (total 3 columns):\n",
            " #   Column      Non-Null Count   Dtype \n",
            "---  ------      --------------   ----- \n",
            " 0   Unnamed: 0  110527 non-null  int64 \n",
            " 1   spam        110527 non-null  object\n",
            " 2   tweet       110527 non-null  object\n",
            "dtypes: int64(1), object(2)\n",
            "memory usage: 2.5+ MB\n"
          ],
          "name": "stdout"
        }
      ]
    },
    {
      "cell_type": "markdown",
      "metadata": {
        "colab_type": "text",
        "id": "Kh5X5i-ePJQW"
      },
      "source": [
        "From the info above, there are 110,527 tweets in the datasets.\n",
        "There are 3 columns: `Unnamed :0`, `tweet` and `spam` column."
      ]
    },
    {
      "cell_type": "code",
      "metadata": {
        "colab_type": "code",
        "id": "SyQ6Yt9W6q7T",
        "outputId": "29e47397-4d36-4e3d-f624-55cc9fe9c862",
        "colab": {
          "base_uri": "https://localhost:8080/",
          "height": 170
        }
      },
      "source": [
        "# From the info above, we have an `Unnamed:0` column, let's get rid of that\n",
        "df.drop(df.columns[df.columns.str.contains('unnamed',case = False)],axis = 1, inplace = True)\n",
        "df.info()"
      ],
      "execution_count": 8,
      "outputs": [
        {
          "output_type": "stream",
          "text": [
            "<class 'pandas.core.frame.DataFrame'>\n",
            "RangeIndex: 110527 entries, 0 to 110526\n",
            "Data columns (total 2 columns):\n",
            " #   Column  Non-Null Count   Dtype \n",
            "---  ------  --------------   ----- \n",
            " 0   spam    110527 non-null  object\n",
            " 1   tweet   110527 non-null  object\n",
            "dtypes: object(2)\n",
            "memory usage: 1.7+ MB\n"
          ],
          "name": "stdout"
        }
      ]
    },
    {
      "cell_type": "code",
      "metadata": {
        "colab_type": "code",
        "id": "gsmkBd3VqCfG",
        "outputId": "ffb1c2d2-9941-4594-c075-36e91f78c3cc",
        "colab": {
          "base_uri": "https://localhost:8080/",
          "height": 204
        }
      },
      "source": [
        "df = shuffle(df)\n",
        "df.head()"
      ],
      "execution_count": 9,
      "outputs": [
        {
          "output_type": "execute_result",
          "data": {
            "text/html": [
              "<div>\n",
              "<style scoped>\n",
              "    .dataframe tbody tr th:only-of-type {\n",
              "        vertical-align: middle;\n",
              "    }\n",
              "\n",
              "    .dataframe tbody tr th {\n",
              "        vertical-align: top;\n",
              "    }\n",
              "\n",
              "    .dataframe thead th {\n",
              "        text-align: right;\n",
              "    }\n",
              "</style>\n",
              "<table border=\"1\" class=\"dataframe\">\n",
              "  <thead>\n",
              "    <tr style=\"text-align: right;\">\n",
              "      <th></th>\n",
              "      <th>spam</th>\n",
              "      <th>tweet</th>\n",
              "    </tr>\n",
              "  </thead>\n",
              "  <tbody>\n",
              "    <tr>\n",
              "      <th>52575</th>\n",
              "      <td>yes</td>\n",
              "      <td>@ASOS_Julia I foresee a 'The Office' style stationery in the jelly episode...!</td>\n",
              "    </tr>\n",
              "    <tr>\n",
              "      <th>2157</th>\n",
              "      <td>yes</td>\n",
              "      <td>grace u suck! U know I know we know....</td>\n",
              "    </tr>\n",
              "    <tr>\n",
              "      <th>90433</th>\n",
              "      <td>yes</td>\n",
              "      <td>@backie Happy 4.20. to you to Bakie</td>\n",
              "    </tr>\n",
              "    <tr>\n",
              "      <th>69725</th>\n",
              "      <td>yes</td>\n",
              "      <td>@brajana They said I need to floss more. Heh</td>\n",
              "    </tr>\n",
              "    <tr>\n",
              "      <th>36736</th>\n",
              "      <td>yes</td>\n",
              "      <td>@alexcovic Isn't the Yugo a classic now?  (Classic 'what' I'm not sure of)</td>\n",
              "    </tr>\n",
              "  </tbody>\n",
              "</table>\n",
              "</div>"
            ],
            "text/plain": [
              "      spam                                                                             tweet\n",
              "52575  yes  @ASOS_Julia I foresee a 'The Office' style stationery in the jelly episode...!  \n",
              "2157   yes                                           grace u suck! U know I know we know....\n",
              "90433  yes                                              @backie Happy 4.20. to you to Bakie \n",
              "69725  yes                                     @brajana They said I need to floss more. Heh \n",
              "36736  yes       @alexcovic Isn't the Yugo a classic now?  (Classic 'what' I'm not sure of) "
            ]
          },
          "metadata": {
            "tags": []
          },
          "execution_count": 9
        }
      ]
    },
    {
      "cell_type": "code",
      "metadata": {
        "colab_type": "code",
        "id": "QY_zOcP8LDR8",
        "outputId": "2aaf0eba-f37c-420b-ad77-f6ca0a888e88",
        "colab": {
          "base_uri": "https://localhost:8080/",
          "height": 190
        }
      },
      "source": [
        "# Let's show some basic stastictics\n",
        "df.describe()"
      ],
      "execution_count": 10,
      "outputs": [
        {
          "output_type": "execute_result",
          "data": {
            "text/html": [
              "<div>\n",
              "<style scoped>\n",
              "    .dataframe tbody tr th:only-of-type {\n",
              "        vertical-align: middle;\n",
              "    }\n",
              "\n",
              "    .dataframe tbody tr th {\n",
              "        vertical-align: top;\n",
              "    }\n",
              "\n",
              "    .dataframe thead th {\n",
              "        text-align: right;\n",
              "    }\n",
              "</style>\n",
              "<table border=\"1\" class=\"dataframe\">\n",
              "  <thead>\n",
              "    <tr style=\"text-align: right;\">\n",
              "      <th></th>\n",
              "      <th>spam</th>\n",
              "      <th>tweet</th>\n",
              "    </tr>\n",
              "  </thead>\n",
              "  <tbody>\n",
              "    <tr>\n",
              "      <th>count</th>\n",
              "      <td>110527</td>\n",
              "      <td>110527</td>\n",
              "    </tr>\n",
              "    <tr>\n",
              "      <th>unique</th>\n",
              "      <td>2</td>\n",
              "      <td>110166</td>\n",
              "    </tr>\n",
              "    <tr>\n",
              "      <th>top</th>\n",
              "      <td>yes</td>\n",
              "      <td>The Data Science Capabilities Venn Diagram identifies the key objectives and capabilities for the three key data science roles. Link &amp;gt;&amp;gt; https://t.co/5cvK5co8SS @schmarzo on @DataScienceCtrl ht @bobehayes via @antgrasso #DataScience #DigitalTransformation https://t.co/ZIsB2vsrTZ</td>\n",
              "    </tr>\n",
              "    <tr>\n",
              "      <th>freq</th>\n",
              "      <td>99989</td>\n",
              "      <td>23</td>\n",
              "    </tr>\n",
              "  </tbody>\n",
              "</table>\n",
              "</div>"
            ],
            "text/plain": [
              "          spam                                                                                                                                                                                                                                                                                         tweet\n",
              "count   110527                                                                                                                                                                                                                                                                                        110527\n",
              "unique       2                                                                                                                                                                                                                                                                                        110166\n",
              "top        yes  The Data Science Capabilities Venn Diagram identifies the key objectives and capabilities for the three key data science roles. Link &gt;&gt; https://t.co/5cvK5co8SS @schmarzo on @DataScienceCtrl ht @bobehayes via @antgrasso #DataScience #DigitalTransformation https://t.co/ZIsB2vsrTZ\n",
              "freq     99989                                                                                                                                                                                                                                                                                            23"
            ]
          },
          "metadata": {
            "tags": []
          },
          "execution_count": 10
        }
      ]
    },
    {
      "cell_type": "code",
      "metadata": {
        "colab_type": "code",
        "id": "6THlAeWkLfr9",
        "outputId": "5c2d006c-580a-4302-fbfa-b1f1761de29b",
        "colab": {
          "base_uri": "https://localhost:8080/",
          "height": 316
        }
      },
      "source": [
        "# Let's see how spam/ham we have in the data.\n",
        "print(df[\"spam\"].value_counts())\n",
        "df[\"spam\"].value_counts().plot.pie()\n"
      ],
      "execution_count": 11,
      "outputs": [
        {
          "output_type": "stream",
          "text": [
            "yes    99989\n",
            "no     10538\n",
            "Name: spam, dtype: int64\n"
          ],
          "name": "stdout"
        },
        {
          "output_type": "execute_result",
          "data": {
            "text/plain": [
              "<matplotlib.axes._subplots.AxesSubplot at 0x7f14d3ce6048>"
            ]
          },
          "metadata": {
            "tags": []
          },
          "execution_count": 11
        },
        {
          "output_type": "display_data",
          "data": {
            "image/png": "[encoded data removed]",
            "text/plain": [
              "<Figure size 432x288 with 1 Axes>"
            ]
          },
          "metadata": {
            "tags": []
          }
        }
      ]
    },
    {
      "cell_type": "markdown",
      "metadata": {
        "colab_type": "text",
        "id": "Rjae_L-d3UtJ"
      },
      "source": [
        "### Unbalanced Datasets\n",
        "\n",
        "Looking at the pie chart above, we have unbalanced datasets which can affect how the model generalizes on unseen data. There are a total of 99,989 Spam and 10,538 Ham, which makes spam to be 10 times larger than Ham. If we use the dataset as it's now, the algorithm learns that a given class is more predominant, making it “natural” to leans towards the predominant class. One way to tackle unbalanced datasets is through **downsampling**\n",
        "\n",
        "**Downsampling** (in model training context) refers to training on a disproportionately low subset of the majority class sample.\n",
        "\n",
        "In the block below, we downsample the datasets.\n"
      ]
    },
    {
      "cell_type": "code",
      "metadata": {
        "colab_type": "code",
        "id": "f8xi9rcn6Acn",
        "colab": {}
      },
      "source": [
        "# Select spam and ham\n",
        "spam = df.loc[df['spam'] == 'yes']\n",
        "ham = df.loc[df['spam'] =='no']"
      ],
      "execution_count": 0,
      "outputs": []
    },
    {
      "cell_type": "code",
      "metadata": {
        "colab_type": "code",
        "id": "DEiGU8yRZHu6",
        "colab": {}
      },
      "source": [
        "# Downsampling\n",
        "spam_downsampled = resample(spam, replace=False, n_samples=10000, random_state=123) #\n",
        "ham_downsampled = resample(ham, replace=False, n_samples=10000, random_state=123)\n",
        "datasets = pd.concat([ham_downsampled, spam_downsampled], ignore_index=True)"
      ],
      "execution_count": 0,
      "outputs": []
    },
    {
      "cell_type": "code",
      "metadata": {
        "colab_type": "code",
        "id": "4WFEXaHufKjC",
        "outputId": "dd5798d3-57b1-4b7b-f0de-89a1a4116cf0",
        "colab": {
          "base_uri": "https://localhost:8080/",
          "height": 316
        }
      },
      "source": [
        "# Plot a pie chart of the downsampled datasets\n",
        "print(datasets[\"spam\"].value_counts())\n",
        "datasets[\"spam\"].value_counts().plot.pie()"
      ],
      "execution_count": 14,
      "outputs": [
        {
          "output_type": "stream",
          "text": [
            "no     10000\n",
            "yes    10000\n",
            "Name: spam, dtype: int64\n"
          ],
          "name": "stdout"
        },
        {
          "output_type": "execute_result",
          "data": {
            "text/plain": [
              "<matplotlib.axes._subplots.AxesSubplot at 0x7f14d3cdafd0>"
            ]
          },
          "metadata": {
            "tags": []
          },
          "execution_count": 14
        },
        {
          "output_type": "display_data",
          "data": {
            "image/png": "[encoded data removed]",
            "text/plain": [
              "<Figure size 432x288 with 1 Axes>"
            ]
          },
          "metadata": {
            "tags": []
          }
        }
      ]
    },
    {
      "cell_type": "code",
      "metadata": {
        "colab_type": "code",
        "id": "msCmgHJEBfRs",
        "outputId": "536db789-8ffa-4429-bae0-80f928d5453d",
        "colab": {
          "base_uri": "https://localhost:8080/",
          "height": 255
        }
      },
      "source": [
        "datasets.head()"
      ],
      "execution_count": 15,
      "outputs": [
        {
          "output_type": "execute_result",
          "data": {
            "text/html": [
              "<div>\n",
              "<style scoped>\n",
              "    .dataframe tbody tr th:only-of-type {\n",
              "        vertical-align: middle;\n",
              "    }\n",
              "\n",
              "    .dataframe tbody tr th {\n",
              "        vertical-align: top;\n",
              "    }\n",
              "\n",
              "    .dataframe thead th {\n",
              "        text-align: right;\n",
              "    }\n",
              "</style>\n",
              "<table border=\"1\" class=\"dataframe\">\n",
              "  <thead>\n",
              "    <tr style=\"text-align: right;\">\n",
              "      <th></th>\n",
              "      <th>spam</th>\n",
              "      <th>tweet</th>\n",
              "    </tr>\n",
              "  </thead>\n",
              "  <tbody>\n",
              "    <tr>\n",
              "      <th>0</th>\n",
              "      <td>no</td>\n",
              "      <td>Click below to see my weekly #Gold price prediction on the Pynk Beta !! 🙌 Comment below to tell me your prediction... 🧠 CrowdWisdom $XAUUSD $XAU #AI #Fintech #artificialintelligence 🎖️ https://t.co/6wiAB89UR6 via @Pynk_io</td>\n",
              "    </tr>\n",
              "    <tr>\n",
              "      <th>1</th>\n",
              "      <td>no</td>\n",
              "      <td>Are you an aspiring #DataScientist?\\nYou have come to the right place.\\n#AISciences offers the most updated books on #DataScience, #MachineLearning, #ArtificialIntelligence, and #DeepLearning\\nTake your skill sets to the next level!\\nLearn more-https://t.co/h8APhHdap6 https://t.co/ZcucOdW9RL</td>\n",
              "    </tr>\n",
              "    <tr>\n",
              "      <th>2</th>\n",
              "      <td>no</td>\n",
              "      <td>Video: #AI, the end of #deeplearning ?\\n#DeepLearning #QuantumMechanics #MachineLearning #CognitiveComputing #RPA #IntelligentAutomation #2AFHD04 https://t.co/ZjP8vcfcBS</td>\n",
              "    </tr>\n",
              "    <tr>\n",
              "      <th>3</th>\n",
              "      <td>no</td>\n",
              "      <td>Best Cloud VPS Dedicated Server available...\\nTo avail such services, connect with us today.\\nVisit at &amp;gt;&amp;gt; https://t.co/RdDVh3mHjY #BeSafeGoDigital #StayHome #StaySafe #HellOfABird #HTGAWM #100DaysOfCode #linux #serverless #mlforlife #machineLearning #AI #IoT Dettol https://t.co/m8m8Yb79xD</td>\n",
              "    </tr>\n",
              "    <tr>\n",
              "      <th>4</th>\n",
              "      <td>no</td>\n",
              "      <td>RT @machinelearnflx: Unsupervised Machine Learning Hidden Markov Models in Python https://t.co/Yg3Zj81gHc  #machinelearning #ad</td>\n",
              "    </tr>\n",
              "  </tbody>\n",
              "</table>\n",
              "</div>"
            ],
            "text/plain": [
              "  spam                                                                                                                                                                                                                                                                                                    tweet\n",
              "0   no                                                                            Click below to see my weekly #Gold price prediction on the Pynk Beta !! 🙌 Comment below to tell me your prediction... 🧠 CrowdWisdom $XAUUSD $XAU #AI #Fintech #artificialintelligence 🎖️ https://t.co/6wiAB89UR6 via @Pynk_io\n",
              "1   no     Are you an aspiring #DataScientist?\\nYou have come to the right place.\\n#AISciences offers the most updated books on #DataScience, #MachineLearning, #ArtificialIntelligence, and #DeepLearning\\nTake your skill sets to the next level!\\nLearn more-https://t.co/h8APhHdap6 https://t.co/ZcucOdW9RL\n",
              "2   no                                                                                                                                Video: #AI, the end of #deeplearning ?\\n#DeepLearning #QuantumMechanics #MachineLearning #CognitiveComputing #RPA #IntelligentAutomation #2AFHD04 https://t.co/ZjP8vcfcBS\n",
              "3   no  Best Cloud VPS Dedicated Server available...\\nTo avail such services, connect with us today.\\nVisit at &gt;&gt; https://t.co/RdDVh3mHjY #BeSafeGoDigital #StayHome #StaySafe #HellOfABird #HTGAWM #100DaysOfCode #linux #serverless #mlforlife #machineLearning #AI #IoT Dettol https://t.co/m8m8Yb79xD\n",
              "4   no                                                                                                                                                                          RT @machinelearnflx: Unsupervised Machine Learning Hidden Markov Models in Python https://t.co/Yg3Zj81gHc  #machinelearning #ad"
            ]
          },
          "metadata": {
            "tags": []
          },
          "execution_count": 15
        }
      ]
    },
    {
      "cell_type": "code",
      "metadata": {
        "colab_type": "code",
        "id": "7wuZyV3nhKgr",
        "outputId": "de587edf-47eb-4ece-81c9-2faac885d2cb",
        "colab": {
          "base_uri": "https://localhost:8080/",
          "height": 51
        }
      },
      "source": [
        "# Calculate the mean of the length of tweets\n",
        "datasets['number_of_words'] = datasets['tweet'].apply(lambda x: len(x.split()))\n",
        "datasets['tweet_length'] = datasets['tweet'].apply(lambda x: len(x))\n",
        "\n",
        "print(\"average number of words: \",np.mean(datasets['number_of_words']))\n",
        "print(\"average lenght of tweets: \", np.mean(datasets['tweet_length']))\n"
      ],
      "execution_count": 16,
      "outputs": [
        {
          "output_type": "stream",
          "text": [
            "average number of words:  16.5304\n",
            "average lenght of tweets:  122.0566\n"
          ],
          "name": "stdout"
        }
      ]
    },
    {
      "cell_type": "markdown",
      "metadata": {
        "colab_type": "text",
        "id": "apKodfzh9ZZP"
      },
      "source": [
        "### Data Preprocessing\n",
        "\n",
        "We have balanced datasets, that is, total number of tweets that are spam are equivalent to the total number of non-spam tweets.\n",
        "\n",
        "However, the tweets are not clean.  For example:\n",
        "\n",
        "```\n",
        "An analog view of a #digital classification #algorithm &gt;&gt;&gt; \\nRT @MikeQuindazzi\\n\\n#AI #MachineLearning #DeepLearning #DataAnalytics #STEM #4IR #DigitalTransformation #EmergingTech #Technology\\n\\n@mvollmer1\\n@evankirstel\\n@HeinzVHoenen\\n@Fabriziobustama https://t.co/Y3crrNhGZ6\n",
        "```\n",
        "\n",
        "The tweets contain usernames, links, emojis, tags, \"RT\", '-'. These characters don't add meaning to the tweets themselves. They are noises and should be removed.\n",
        "\n",
        "The function `clean_tweet` below removes noises from a tweet"
      ]
    },
    {
      "cell_type": "code",
      "metadata": {
        "colab_type": "code",
        "id": "U4otD211fY08",
        "colab": {}
      },
      "source": [
        "tok = English()\n",
        "def clean_tweet(tweet):\n",
        "        # Remove usernames, \"RT\" and Hash\n",
        "        tweet = re.sub(r'(RT|[@*])(\\w*)',\" \", tweet)\n",
        "        # Hashtags are very useful. It gives context to the tweet.\n",
        "        # Remove links in tweets\n",
        "        tweet = re.sub(r'http\\S+', \" \", tweet)\n",
        "        # We remove \"#\" and keep the tags\n",
        "        tweet = re.sub(r'(\\\\n)|(\\#)|(\\.)|(\\;)|(\\:)|(\\!)|(\\')|(\\?)|(\\,)|(\\\")|(\\()|(\\))|(\\[)|(\\])','', tweet)\n",
        "        tweet = re.sub(r'(<br\\s*/><br\\s*/>)|(\\-)|(\\/)', \" \", tweet)\n",
        "        # convert to lower case\n",
        "        tweet = re.sub(r\"[^a-zA-Z0-9]\", \" \", tweet.lower()) # Convert to lower case\n",
        "        # Tweets are usually full of emojis. We need to remove them.\n",
        "        tweet = demoji.replace(tweet, repl=\"\")\n",
        "        # Stop words don't meaning to tweets. They can be removed\n",
        "        tweet_words = tok(tweet)\n",
        "        clean_tweets = []\n",
        "        for word in tweet_words:\n",
        "          if word.is_stop==False and len(word) > 1:\n",
        "            clean_tweets.append(word.text.strip())\n",
        "\n",
        "        tweet = \" \".join(clean_tweets)\n",
        "        \n",
        "        return tweet\n"
      ],
      "execution_count": 0,
      "outputs": []
    },
    {
      "cell_type": "code",
      "metadata": {
        "colab_type": "code",
        "id": "sw7DfrEfUKV0",
        "colab": {}
      },
      "source": [
        ""
      ],
      "execution_count": 0,
      "outputs": []
    },
    {
      "cell_type": "code",
      "metadata": {
        "colab_type": "code",
        "id": "MnrpLHWmGcJ0",
        "outputId": "8f0fa16f-fc0a-4b4b-ce9b-6abd9e890289",
        "colab": {
          "base_uri": "https://localhost:8080/",
          "height": 221
        }
      },
      "source": [
        "datasets['tweet'] = datasets['tweet'].apply(lambda x: clean_tweet(x)) # Clean tweet\n",
        "shuffle(datasets) # Shuffle datasets\n",
        "datasets.head()"
      ],
      "execution_count": 18,
      "outputs": [
        {
          "output_type": "execute_result",
          "data": {
            "text/html": [
              "<div>\n",
              "<style scoped>\n",
              "    .dataframe tbody tr th:only-of-type {\n",
              "        vertical-align: middle;\n",
              "    }\n",
              "\n",
              "    .dataframe tbody tr th {\n",
              "        vertical-align: top;\n",
              "    }\n",
              "\n",
              "    .dataframe thead th {\n",
              "        text-align: right;\n",
              "    }\n",
              "</style>\n",
              "<table border=\"1\" class=\"dataframe\">\n",
              "  <thead>\n",
              "    <tr style=\"text-align: right;\">\n",
              "      <th></th>\n",
              "      <th>spam</th>\n",
              "      <th>tweet</th>\n",
              "      <th>number_of_words</th>\n",
              "      <th>tweet_length</th>\n",
              "    </tr>\n",
              "  </thead>\n",
              "  <tbody>\n",
              "    <tr>\n",
              "      <th>0</th>\n",
              "      <td>no</td>\n",
              "      <td>click weekly gold price prediction pynk beta  comment tell prediction  crowdwisdom xauusd xau ai fintech artificialintelligence</td>\n",
              "      <td>33</td>\n",
              "      <td>221</td>\n",
              "    </tr>\n",
              "    <tr>\n",
              "      <th>1</th>\n",
              "      <td>no</td>\n",
              "      <td>aspiring datascientist come right place aisciences offers updated books datascience machinelearning artificialintelligence deeplearning skill sets level learn</td>\n",
              "      <td>35</td>\n",
              "      <td>288</td>\n",
              "    </tr>\n",
              "    <tr>\n",
              "      <th>2</th>\n",
              "      <td>no</td>\n",
              "      <td>video ai end deeplearning deeplearning quantummechanics machinelearning cognitivecomputing rpa intelligentautomation 2afhd04</td>\n",
              "      <td>15</td>\n",
              "      <td>168</td>\n",
              "    </tr>\n",
              "    <tr>\n",
              "      <th>3</th>\n",
              "      <td>no</td>\n",
              "      <td>best cloud vps dedicated server available avail services connect today visit gt gt  besafegodigital stayhome staysafe hellofabird htgawm 100daysofcode linux serverless mlforlife machinelearning ai iot dettol</td>\n",
              "      <td>32</td>\n",
              "      <td>293</td>\n",
              "    </tr>\n",
              "    <tr>\n",
              "      <th>4</th>\n",
              "      <td>no</td>\n",
              "      <td>unsupervised machine learning hidden markov models python  machinelearning ad</td>\n",
              "      <td>13</td>\n",
              "      <td>127</td>\n",
              "    </tr>\n",
              "  </tbody>\n",
              "</table>\n",
              "</div>"
            ],
            "text/plain": [
              "  spam  ... tweet_length\n",
              "0   no  ...          221\n",
              "1   no  ...          288\n",
              "2   no  ...          168\n",
              "3   no  ...          293\n",
              "4   no  ...          127\n",
              "\n",
              "[5 rows x 4 columns]"
            ]
          },
          "metadata": {
            "tags": []
          },
          "execution_count": 18
        }
      ]
    },
    {
      "cell_type": "markdown",
      "metadata": {
        "colab_type": "text",
        "id": "ry86aGwgCb3P"
      },
      "source": [
        "### Categorical  Data Encoding\n",
        "Tweets are categorized as spam or non-spam indicated by `yes` or `no`. Most Machine learning learning models don't do well with strings data. They have to be converted to numeric data. The process of converting categorical data  like `yes` and `no` to numeric data is known as **Encoding**\n",
        "\n",
        "In the block below, we'll encode categorical variables."
      ]
    },
    {
      "cell_type": "code",
      "metadata": {
        "colab_type": "code",
        "id": "7Mqa1UUEPgYM",
        "outputId": "a3d95286-dea0-4c26-f001-edba2b5def8e",
        "colab": {
          "base_uri": "https://localhost:8080/",
          "height": 255
        }
      },
      "source": [
        "# Encode categorical variables\n",
        "encoder = LabelEncoder()\n",
        "spam_encoded = encoder.fit_transform(datasets['spam'])\n",
        "\n",
        "spam_index_mapping = {index: label for index, label in \n",
        "                  enumerate(encoder.classes_)}\n",
        "print(spam_index_mapping)\n",
        "# From the block above, we know that 0 means not a spam and 1 means a spam\n",
        "datasets['label'] = spam_encoded\n",
        "datasets.head()"
      ],
      "execution_count": 19,
      "outputs": [
        {
          "output_type": "stream",
          "text": [
            "{0: 'no', 1: 'yes'}\n"
          ],
          "name": "stdout"
        },
        {
          "output_type": "execute_result",
          "data": {
            "text/html": [
              "<div>\n",
              "<style scoped>\n",
              "    .dataframe tbody tr th:only-of-type {\n",
              "        vertical-align: middle;\n",
              "    }\n",
              "\n",
              "    .dataframe tbody tr th {\n",
              "        vertical-align: top;\n",
              "    }\n",
              "\n",
              "    .dataframe thead th {\n",
              "        text-align: right;\n",
              "    }\n",
              "</style>\n",
              "<table border=\"1\" class=\"dataframe\">\n",
              "  <thead>\n",
              "    <tr style=\"text-align: right;\">\n",
              "      <th></th>\n",
              "      <th>spam</th>\n",
              "      <th>tweet</th>\n",
              "      <th>number_of_words</th>\n",
              "      <th>tweet_length</th>\n",
              "      <th>label</th>\n",
              "    </tr>\n",
              "  </thead>\n",
              "  <tbody>\n",
              "    <tr>\n",
              "      <th>0</th>\n",
              "      <td>no</td>\n",
              "      <td>click weekly gold price prediction pynk beta  comment tell prediction  crowdwisdom xauusd xau ai fintech artificialintelligence</td>\n",
              "      <td>33</td>\n",
              "      <td>221</td>\n",
              "      <td>0</td>\n",
              "    </tr>\n",
              "    <tr>\n",
              "      <th>1</th>\n",
              "      <td>no</td>\n",
              "      <td>aspiring datascientist come right place aisciences offers updated books datascience machinelearning artificialintelligence deeplearning skill sets level learn</td>\n",
              "      <td>35</td>\n",
              "      <td>288</td>\n",
              "      <td>0</td>\n",
              "    </tr>\n",
              "    <tr>\n",
              "      <th>2</th>\n",
              "      <td>no</td>\n",
              "      <td>video ai end deeplearning deeplearning quantummechanics machinelearning cognitivecomputing rpa intelligentautomation 2afhd04</td>\n",
              "      <td>15</td>\n",
              "      <td>168</td>\n",
              "      <td>0</td>\n",
              "    </tr>\n",
              "    <tr>\n",
              "      <th>3</th>\n",
              "      <td>no</td>\n",
              "      <td>best cloud vps dedicated server available avail services connect today visit gt gt  besafegodigital stayhome staysafe hellofabird htgawm 100daysofcode linux serverless mlforlife machinelearning ai iot dettol</td>\n",
              "      <td>32</td>\n",
              "      <td>293</td>\n",
              "      <td>0</td>\n",
              "    </tr>\n",
              "    <tr>\n",
              "      <th>4</th>\n",
              "      <td>no</td>\n",
              "      <td>unsupervised machine learning hidden markov models python  machinelearning ad</td>\n",
              "      <td>13</td>\n",
              "      <td>127</td>\n",
              "      <td>0</td>\n",
              "    </tr>\n",
              "  </tbody>\n",
              "</table>\n",
              "</div>"
            ],
            "text/plain": [
              "  spam  ... label\n",
              "0   no  ...     0\n",
              "1   no  ...     0\n",
              "2   no  ...     0\n",
              "3   no  ...     0\n",
              "4   no  ...     0\n",
              "\n",
              "[5 rows x 5 columns]"
            ]
          },
          "metadata": {
            "tags": []
          },
          "execution_count": 19
        }
      ]
    },
    {
      "cell_type": "code",
      "metadata": {
        "colab_type": "code",
        "id": "76ezd4qGqtWs",
        "outputId": "cdea553b-9121-4837-b88f-8d87efe8d8ad",
        "colab": {
          "base_uri": "https://localhost:8080/",
          "height": 68
        }
      },
      "source": [
        "# Calculate the mean of the length of tweets\n",
        "datasets['number_of_words'] = datasets['tweet'].apply(lambda x: len(x.split()))\n",
        "datasets['tweet_length'] = datasets['tweet'].apply(lambda x: len(x))\n",
        "\n",
        "print(\"average number of words: \",np.mean(datasets['number_of_words']))\n",
        "print(\"average lenght of tweets: \", np.mean(datasets['tweet_length']))\n",
        "print(\"maximum lenght of tweets\", np.max(datasets['tweet_length']))"
      ],
      "execution_count": 20,
      "outputs": [
        {
          "output_type": "stream",
          "text": [
            "average number of words:  8.99595\n",
            "average lenght of tweets:  69.39885\n",
            "maximum lenght of tweets 375\n"
          ],
          "name": "stdout"
        }
      ]
    },
    {
      "cell_type": "markdown",
      "metadata": {
        "colab_type": "text",
        "id": "rsEmLcbhSkED"
      },
      "source": [
        "### Text Analytics\n",
        " Here, we'll find the frequencies of words in the spam and non-spam in tweets."
      ]
    },
    {
      "cell_type": "code",
      "metadata": {
        "colab_type": "code",
        "id": "gVb7O2OhSwLP",
        "outputId": "131d707a-34fd-4ed4-bcd9-a52bedd131b2",
        "colab": {
          "base_uri": "https://localhost:8080/",
          "height": 385
        }
      },
      "source": [
        "count1 = Counter(\" \".join(datasets[datasets['spam']=='no'][\"tweet\"]).split()).most_common(20)\n",
        "df1 = pd.DataFrame.from_dict(count1)\n",
        "df1 = df1.rename(columns={0: \"words in non-spam\", 1 : \"count\"})\n",
        "\n",
        "df1.plot.bar(legend = False)\n",
        "y_pos = np.arange(len(df1[\"words in non-spam\"]))\n",
        "plt.xticks(y_pos, df1[\"words in non-spam\"])\n",
        "plt.title('More frequent words in non-spam messages')\n",
        "plt.xlabel('words')\n",
        "plt.ylabel('number')\n",
        "plt.show()\n"
      ],
      "execution_count": 21,
      "outputs": [
        {
          "output_type": "display_data",
          "data": {
            "image/png": "[encoded data removed]",
            "text/plain": [
              "<Figure size 432x288 with 1 Axes>"
            ]
          },
          "metadata": {
            "tags": [],
            "needs_background": "light"
          }
        }
      ]
    },
    {
      "cell_type": "code",
      "metadata": {
        "colab_type": "code",
        "id": "TwcooG7ZTSC_",
        "outputId": "1025b1f8-9d9a-4d27-d2f8-2d3dd09026d3",
        "colab": {
          "base_uri": "https://localhost:8080/",
          "height": 319
        }
      },
      "source": [
        "count2 = Counter(\" \".join(datasets[datasets['spam']=='yes'][\"tweet\"]).split()).most_common(20)\n",
        "df2 = pd.DataFrame.from_dict(count2)\n",
        "df2 = df2.rename(columns={0: \"words in spam\", 1 : \"count_\"})\n",
        "df2.plot.bar(legend = False, color = 'orange')\n",
        "\n",
        "y_pos = np.arange(len(df2[\"words in spam\"]))\n",
        "plt.xticks(y_pos, df2[\"words in spam\"])\n",
        "plt.title('More frequent words in spam messages')\n",
        "plt.xlabel('words')\n",
        "plt.ylabel('number')\n",
        "plt.show()"
      ],
      "execution_count": 22,
      "outputs": [
        {
          "output_type": "display_data",
          "data": {
            "image/png": "[encoded data removed]",
            "text/plain": [
              "<Figure size 432x288 with 1 Axes>"
            ]
          },
          "metadata": {
            "tags": [],
            "needs_background": "light"
          }
        }
      ]
    },
    {
      "cell_type": "markdown",
      "metadata": {
        "colab_type": "text",
        "id": "1QwblK2OR3Ga"
      },
      "source": [
        "### Feature engineering.\n",
        "To further preprocess the input data, we need to perform a number of steps such as:\n",
        "* Tokenization\n",
        "* Word Stemming\n",
        "* Sentence encoding"
      ]
    },
    {
      "cell_type": "code",
      "metadata": {
        "colab_type": "code",
        "id": "qBQoq1jcITOG",
        "colab": {}
      },
      "source": [
        "stemmer = SnowballStemmer(language='english')\n",
        "def stem_tweet(tweet):\n",
        "  tokenized_tweets = []\n",
        "  doc = tweet.split() # Tokenize tweet\n",
        "  for word in doc:\n",
        "    word = stemmer.stem(word) # Stem word\n",
        "    tokenized_tweets.append(word)\n",
        "  return tokenized_tweets\n",
        "\n",
        "def save_dict(filename, data):\n",
        "  json.dump(data, open( filename, 'w' ) )\n"
      ],
      "execution_count": 0,
      "outputs": []
    },
    {
      "cell_type": "code",
      "metadata": {
        "colab_type": "code",
        "id": "A6jiDvaiX_KG",
        "outputId": "7e536f7a-d4a3-49e8-ed29-cb24de4fd959",
        "colab": {
          "base_uri": "https://localhost:8080/",
          "height": 54
        }
      },
      "source": [
        "# Testing the `stem_tweet` function\n",
        "text = 'best practices in mlops production model deployment model monitoring lifecycle management amp governance by with bigdata datascience ai machinelearning analyticsstrategy aistrategy artificialintelligence'\n",
        "print(stem_tweet(text))"
      ],
      "execution_count": 24,
      "outputs": [
        {
          "output_type": "stream",
          "text": [
            "['best', 'practic', 'in', 'mlop', 'product', 'model', 'deploy', 'model', 'monitor', 'lifecycl', 'manag', 'amp', 'govern', 'by', 'with', 'bigdata', 'datasci', 'ai', 'machinelearn', 'analyticsstrategi', 'aistrategi', 'artificialintellig']\n"
          ],
          "name": "stdout"
        }
      ]
    },
    {
      "cell_type": "code",
      "metadata": {
        "colab_type": "code",
        "id": "QddyHzx3JRZb",
        "colab": {}
      },
      "source": [
        "# Build a vocabulary dictionary\n",
        "counts = Counter()\n",
        "for index, row in datasets.iterrows():\n",
        "  counts.update(stem_tweet(row['tweet']))\n"
      ],
      "execution_count": 0,
      "outputs": []
    },
    {
      "cell_type": "code",
      "metadata": {
        "colab_type": "code",
        "id": "t03vTZAeYtWX",
        "outputId": "b030a92d-79c5-4c56-be89-38b0a87cf945",
        "colab": {
          "base_uri": "https://localhost:8080/",
          "height": 357
        }
      },
      "source": [
        "#Return top 10 most common\n",
        "counts.most_common(20)"
      ],
      "execution_count": 26,
      "outputs": [
        {
          "output_type": "execute_result",
          "data": {
            "text/plain": [
              "[('ai', 4065),\n",
              " ('machinelearn', 3370),\n",
              " ('artificialintellig', 2602),\n",
              " ('datasci', 2582),\n",
              " ('robot', 1793),\n",
              " ('data', 1689),\n",
              " ('nt', 1676),\n",
              " ('learn', 1474),\n",
              " ('bigdata', 1199),\n",
              " ('gt', 1001),\n",
              " ('deeplearn', 879),\n",
              " ('thank', 854),\n",
              " ('iot', 848),\n",
              " ('amp', 807),\n",
              " ('python', 783),\n",
              " ('analyt', 777),\n",
              " ('like', 757),\n",
              " ('machin', 729),\n",
              " ('intellig', 707),\n",
              " ('good', 705)]"
            ]
          },
          "metadata": {
            "tags": []
          },
          "execution_count": 26
        }
      ]
    },
    {
      "cell_type": "code",
      "metadata": {
        "colab_type": "code",
        "id": "ueeoG4bGKUCe",
        "outputId": "b6c9035e-3086-45d2-de35-739df8de0439",
        "colab": {
          "base_uri": "https://localhost:8080/",
          "height": 51
        }
      },
      "source": [
        "# Removing infrequent words \n",
        "print(\"num_words before:\", len(counts.keys()))\n",
        "\n",
        "for word in list(counts):\n",
        "  if(counts[word] < 2):\n",
        "    del counts[word]\n",
        "print (\"num_words after:\", len(counts.keys()))   \n"
      ],
      "execution_count": 27,
      "outputs": [
        {
          "output_type": "stream",
          "text": [
            "num_words before: 20890\n",
            "num_words after: 9661\n"
          ],
          "name": "stdout"
        }
      ]
    },
    {
      "cell_type": "code",
      "metadata": {
        "colab_type": "code",
        "id": "SrBSH60gLRKt",
        "colab": {}
      },
      "source": [
        "# Creat vocabulary list\n",
        "vocab2index = {\"\":0, \"UNK\":1}\n",
        "words = [\"\", \"UNK\"]\n",
        "\n",
        "for word in counts:\n",
        "  vocab2index[word] = len(words)\n",
        "  words.append(word)\n",
        "\n",
        "# Save word_list\n",
        "save_dict(\"words.json\", words)\n",
        "save_dict(\"vocab2index.json\", vocab2index)\n"
      ],
      "execution_count": 0,
      "outputs": []
    },
    {
      "cell_type": "code",
      "metadata": {
        "colab_type": "code",
        "id": "-zTZM91DL87-",
        "colab": {}
      },
      "source": [
        "# According to data exploration I did earlier, the number of characters in tweets average 69\n",
        "# I'll set the number of characters to be slightly higher. N=75\n",
        "def encode_sentence(text, vocab2index, N=75):\n",
        "  tokenized = stem_tweet(text)\n",
        "  encoded = np.zeros(N, dtype=int)\n",
        "  enc = np.array([vocab2index.get(word, vocab2index[\"UNK\"]) for word in tokenized])\n",
        "  length = min(N, len(enc))\n",
        "  encoded[:length] = enc[:length]\n",
        "  return encoded, length"
      ],
      "execution_count": 0,
      "outputs": []
    },
    {
      "cell_type": "code",
      "metadata": {
        "colab_type": "code",
        "id": "rrphm8U8OHor",
        "outputId": "3abf3486-a0b2-49eb-9612-23b5a9fed448",
        "colab": {
          "base_uri": "https://localhost:8080/",
          "height": 459
        }
      },
      "source": [
        "datasets['encoded_tweet'] = datasets['tweet'].apply(lambda x: np.array(encode_sentence(x, vocab2index)))\n",
        "datasets.head()"
      ],
      "execution_count": 30,
      "outputs": [
        {
          "output_type": "execute_result",
          "data": {
            "text/html": [
              "<div>\n",
              "<style scoped>\n",
              "    .dataframe tbody tr th:only-of-type {\n",
              "        vertical-align: middle;\n",
              "    }\n",
              "\n",
              "    .dataframe tbody tr th {\n",
              "        vertical-align: top;\n",
              "    }\n",
              "\n",
              "    .dataframe thead th {\n",
              "        text-align: right;\n",
              "    }\n",
              "</style>\n",
              "<table border=\"1\" class=\"dataframe\">\n",
              "  <thead>\n",
              "    <tr style=\"text-align: right;\">\n",
              "      <th></th>\n",
              "      <th>spam</th>\n",
              "      <th>tweet</th>\n",
              "      <th>number_of_words</th>\n",
              "      <th>tweet_length</th>\n",
              "      <th>label</th>\n",
              "      <th>encoded_tweet</th>\n",
              "    </tr>\n",
              "  </thead>\n",
              "  <tbody>\n",
              "    <tr>\n",
              "      <th>0</th>\n",
              "      <td>no</td>\n",
              "      <td>click weekly gold price prediction pynk beta  comment tell prediction  crowdwisdom xauusd xau ai fintech artificialintelligence</td>\n",
              "      <td>16</td>\n",
              "      <td>128</td>\n",
              "      <td>0</td>\n",
              "      <td>[[2, 3, 4, 5, 6, 7, 8, 9, 10, 6, 11, 12, 13, 14, 15, 16, 0, 0, 0, 0, 0, 0, 0, 0, 0, 0, 0, 0, 0, 0, 0, 0, 0, 0, 0, 0, 0, 0, 0, 0, 0, 0, 0, 0, 0, 0, 0, 0, 0, 0, 0, 0, 0, 0, 0, 0, 0, 0, 0, 0, 0, 0, 0, 0, 0, 0, 0, 0, 0, 0, 0, 0, 0, 0, 0], 16]</td>\n",
              "    </tr>\n",
              "    <tr>\n",
              "      <th>1</th>\n",
              "      <td>no</td>\n",
              "      <td>aspiring datascientist come right place aisciences offers updated books datascience machinelearning artificialintelligence deeplearning skill sets level learn</td>\n",
              "      <td>17</td>\n",
              "      <td>159</td>\n",
              "      <td>0</td>\n",
              "      <td>[[17, 18, 19, 20, 21, 22, 23, 24, 25, 26, 27, 16, 28, 29, 30, 31, 32, 0, 0, 0, 0, 0, 0, 0, 0, 0, 0, 0, 0, 0, 0, 0, 0, 0, 0, 0, 0, 0, 0, 0, 0, 0, 0, 0, 0, 0, 0, 0, 0, 0, 0, 0, 0, 0, 0, 0, 0, 0, 0, 0, 0, 0, 0, 0, 0, 0, 0, 0, 0, 0, 0, 0, 0, 0, 0], 17]</td>\n",
              "    </tr>\n",
              "    <tr>\n",
              "      <th>2</th>\n",
              "      <td>no</td>\n",
              "      <td>video ai end deeplearning deeplearning quantummechanics machinelearning cognitivecomputing rpa intelligentautomation 2afhd04</td>\n",
              "      <td>11</td>\n",
              "      <td>124</td>\n",
              "      <td>0</td>\n",
              "      <td>[[33, 14, 34, 28, 28, 35, 27, 36, 37, 38, 39, 0, 0, 0, 0, 0, 0, 0, 0, 0, 0, 0, 0, 0, 0, 0, 0, 0, 0, 0, 0, 0, 0, 0, 0, 0, 0, 0, 0, 0, 0, 0, 0, 0, 0, 0, 0, 0, 0, 0, 0, 0, 0, 0, 0, 0, 0, 0, 0, 0, 0, 0, 0, 0, 0, 0, 0, 0, 0, 0, 0, 0, 0, 0, 0], 11]</td>\n",
              "    </tr>\n",
              "    <tr>\n",
              "      <th>3</th>\n",
              "      <td>no</td>\n",
              "      <td>best cloud vps dedicated server available avail services connect today visit gt gt  besafegodigital stayhome staysafe hellofabird htgawm 100daysofcode linux serverless mlforlife machinelearning ai iot dettol</td>\n",
              "      <td>26</td>\n",
              "      <td>207</td>\n",
              "      <td>0</td>\n",
              "      <td>[[40, 41, 42, 43, 44, 45, 45, 46, 47, 48, 49, 50, 50, 51, 52, 53, 54, 55, 56, 57, 58, 59, 27, 14, 60, 61, 0, 0, 0, 0, 0, 0, 0, 0, 0, 0, 0, 0, 0, 0, 0, 0, 0, 0, 0, 0, 0, 0, 0, 0, 0, 0, 0, 0, 0, 0, 0, 0, 0, 0, 0, 0, 0, 0, 0, 0, 0, 0, 0, 0, 0, 0, 0, 0, 0], 26]</td>\n",
              "    </tr>\n",
              "    <tr>\n",
              "      <th>4</th>\n",
              "      <td>no</td>\n",
              "      <td>unsupervised machine learning hidden markov models python  machinelearning ad</td>\n",
              "      <td>9</td>\n",
              "      <td>78</td>\n",
              "      <td>0</td>\n",
              "      <td>[[62, 63, 32, 64, 65, 66, 67, 27, 68, 0, 0, 0, 0, 0, 0, 0, 0, 0, 0, 0, 0, 0, 0, 0, 0, 0, 0, 0, 0, 0, 0, 0, 0, 0, 0, 0, 0, 0, 0, 0, 0, 0, 0, 0, 0, 0, 0, 0, 0, 0, 0, 0, 0, 0, 0, 0, 0, 0, 0, 0, 0, 0, 0, 0, 0, 0, 0, 0, 0, 0, 0, 0, 0, 0, 0], 9]</td>\n",
              "    </tr>\n",
              "  </tbody>\n",
              "</table>\n",
              "</div>"
            ],
            "text/plain": [
              "  spam  ...                                                                                                                                                                                                                                                      encoded_tweet\n",
              "0   no  ...                     [[2, 3, 4, 5, 6, 7, 8, 9, 10, 6, 11, 12, 13, 14, 15, 16, 0, 0, 0, 0, 0, 0, 0, 0, 0, 0, 0, 0, 0, 0, 0, 0, 0, 0, 0, 0, 0, 0, 0, 0, 0, 0, 0, 0, 0, 0, 0, 0, 0, 0, 0, 0, 0, 0, 0, 0, 0, 0, 0, 0, 0, 0, 0, 0, 0, 0, 0, 0, 0, 0, 0, 0, 0, 0, 0], 16]\n",
              "1   no  ...           [[17, 18, 19, 20, 21, 22, 23, 24, 25, 26, 27, 16, 28, 29, 30, 31, 32, 0, 0, 0, 0, 0, 0, 0, 0, 0, 0, 0, 0, 0, 0, 0, 0, 0, 0, 0, 0, 0, 0, 0, 0, 0, 0, 0, 0, 0, 0, 0, 0, 0, 0, 0, 0, 0, 0, 0, 0, 0, 0, 0, 0, 0, 0, 0, 0, 0, 0, 0, 0, 0, 0, 0, 0, 0, 0], 17]\n",
              "2   no  ...                 [[33, 14, 34, 28, 28, 35, 27, 36, 37, 38, 39, 0, 0, 0, 0, 0, 0, 0, 0, 0, 0, 0, 0, 0, 0, 0, 0, 0, 0, 0, 0, 0, 0, 0, 0, 0, 0, 0, 0, 0, 0, 0, 0, 0, 0, 0, 0, 0, 0, 0, 0, 0, 0, 0, 0, 0, 0, 0, 0, 0, 0, 0, 0, 0, 0, 0, 0, 0, 0, 0, 0, 0, 0, 0, 0], 11]\n",
              "3   no  ...  [[40, 41, 42, 43, 44, 45, 45, 46, 47, 48, 49, 50, 50, 51, 52, 53, 54, 55, 56, 57, 58, 59, 27, 14, 60, 61, 0, 0, 0, 0, 0, 0, 0, 0, 0, 0, 0, 0, 0, 0, 0, 0, 0, 0, 0, 0, 0, 0, 0, 0, 0, 0, 0, 0, 0, 0, 0, 0, 0, 0, 0, 0, 0, 0, 0, 0, 0, 0, 0, 0, 0, 0, 0, 0, 0], 26]\n",
              "4   no  ...                    [[62, 63, 32, 64, 65, 66, 67, 27, 68, 0, 0, 0, 0, 0, 0, 0, 0, 0, 0, 0, 0, 0, 0, 0, 0, 0, 0, 0, 0, 0, 0, 0, 0, 0, 0, 0, 0, 0, 0, 0, 0, 0, 0, 0, 0, 0, 0, 0, 0, 0, 0, 0, 0, 0, 0, 0, 0, 0, 0, 0, 0, 0, 0, 0, 0, 0, 0, 0, 0, 0, 0, 0, 0, 0, 0], 9]\n",
              "\n",
              "[5 rows x 6 columns]"
            ]
          },
          "metadata": {
            "tags": []
          },
          "execution_count": 30
        }
      ]
    },
    {
      "cell_type": "code",
      "metadata": {
        "colab_type": "code",
        "id": "VP7mgc0GRVOK",
        "colab": {}
      },
      "source": [
        "# Drop rows whose tweet_length =\n",
        "tweet_datasets = datasets.loc[datasets['number_of_words'] > 0]\n",
        "tweet_datasets = tweet_datasets.reset_index()"
      ],
      "execution_count": 0,
      "outputs": []
    },
    {
      "cell_type": "markdown",
      "metadata": {
        "colab_type": "text",
        "id": "Q2TBUEk_PN10"
      },
      "source": [
        "### Datasets splitting\n",
        "One of the major challenges in machine learning is overfitting. Overfitting is when a model is so tuned to the training sets that it’s unable to make accurate predictions on data outside of the training sets.\n",
        "\n",
        "To be prevent overfitting, I'm going to split the datasets into train and test datasets.\n",
        "A train dataset will be used in learning (fitting the model).\n",
        "\n",
        "Besides holding out some data for training, I’ll also hold out some independent data for testing. \n",
        "\n",
        "60% of the dataset will be used for training and 40% will be used for validation.\n",
        "\n"
      ]
    },
    {
      "cell_type": "code",
      "metadata": {
        "colab_type": "code",
        "id": "xFOsJiHFPgf2",
        "colab": {}
      },
      "source": [
        "X = list(tweet_datasets['encoded_tweet'])\n",
        "y = list(tweet_datasets['label'])\n",
        "\n",
        "X_train, X_test, y_train, y_test = train_test_split(X, y, test_size=0.4, shuffle=True)\n",
        "\n",
        "assert len(X_train) == len(y_train)\n",
        "assert len(X_test) == len(y_test)\n",
        "assert (len(X_test)+ len(X_train) ==  tweet_datasets['encoded_tweet'].count())\n",
        "\n"
      ],
      "execution_count": 0,
      "outputs": []
    },
    {
      "cell_type": "markdown",
      "metadata": {
        "colab_type": "text",
        "id": "ZuqFxNYAQqrI"
      },
      "source": [
        "### Creating a custom TweetLoader\n",
        " We'll create a custom dataset. This custom dataset will extend Pytorch `Dataset` class"
      ]
    },
    {
      "cell_type": "code",
      "metadata": {
        "colab_type": "code",
        "id": "33y2tSlKQGYx",
        "colab": {}
      },
      "source": [
        "class TweetDataset(Dataset):\n",
        "    def __init__(self, X, y):\n",
        "        self.X = X\n",
        "        self.y = y\n",
        "        \n",
        "    def __len__(self):\n",
        "        return len(self.y)\n",
        "    \n",
        "    def __getitem__(self, index):\n",
        "        tweet = torch.from_numpy(self.X[index][0].astype(np.int32))\n",
        "        label = self.y[index]\n",
        "        length = self.X[index][1]\n",
        "\n",
        "        return tweet, label, length\n",
        "        "
      ],
      "execution_count": 0,
      "outputs": []
    },
    {
      "cell_type": "code",
      "metadata": {
        "colab_type": "code",
        "id": "F-xwcAe_UMkL",
        "colab": {}
      },
      "source": [
        "train_dataset = TweetDataset(X_train, y_train)\n",
        "test_dataset = TweetDataset(X_test, y_test)"
      ],
      "execution_count": 0,
      "outputs": []
    },
    {
      "cell_type": "markdown",
      "metadata": {
        "colab_type": "text",
        "id": "8c_RrlFJnVKd"
      },
      "source": [
        "### Network Architecture\n",
        "Within the __init__ method, I define the layers of the network module.\n",
        "There are three layers: an embedding layer, LSTM layer and a linear layer.\n",
        "The embedding layer is used to transform the sparse encoded vector into a dense embedding vector. \n",
        "\n",
        "\n",
        "The linear layer takes the final hidden state and feeds it through a fully connected  layer, transforming it to the correct output dimension."
      ]
    },
    {
      "cell_type": "code",
      "metadata": {
        "colab_type": "code",
        "id": "ZOgJy_LIBAYo",
        "colab": {}
      },
      "source": [
        "import torch.nn as nn\n",
        "from torch.nn.utils.rnn import pack_padded_sequence, pad_packed_sequence\n",
        "\n",
        "class LSTMClassifier(nn.Module):\n",
        "    def __init__(\n",
        "        self,\n",
        "        input_dim,\n",
        "        embed_dim,\n",
        "        hidden_dim,\n",
        "        output_dim,\n",
        "        n_layers,\n",
        "        bidirectional,\n",
        "        dropout,\n",
        "        pad_idx,\n",
        "        batch_first,\n",
        "    ):\n",
        "        \"\"\"\n",
        "        Initialize the model by settingg up the various layers.\n",
        "        \"\"\"\n",
        "        super().__init__()\n",
        "\n",
        "        self.embedding = nn.Embedding(input_dim, embed_dim, padding_idx=pad_idx)\n",
        "        self.batch_first = batch_first\n",
        "        self.lstm = nn.LSTM(\n",
        "            embed_dim,\n",
        "            hidden_dim,\n",
        "            num_layers=n_layers,\n",
        "            bidirectional=bidirectional,\n",
        "            dropout=dropout,\n",
        "            batch_first=self.batch_first,\n",
        "        )\n",
        "        self.fc = nn.Linear(hidden_dim * 2, output_dim)\n",
        "        self.dropout = nn.Dropout(dropout)\n",
        "        self.sig = nn.Sigmoid()\n",
        "\n",
        "    def forward(self, tweet, length):\n",
        "        \"\"\"\n",
        "        Perform a forward pass of our model on input.\n",
        "        \"\"\"\n",
        "        embeds = self.dropout(self.embedding(tweet))\n",
        "        # embeds = [batch_size, length, embed dim]\n",
        "        packed_embeds = pack_padded_sequence(\n",
        "            embeds, length, batch_first=self.batch_first, enforce_sorted=False\n",
        "        )\n",
        "\n",
        "        lstm_out, (hidden, _) = self.lstm(packed_embeds)\n",
        "        output, output_lengths = pad_packed_sequence(\n",
        "            lstm_out, batch_first=self.batch_first\n",
        "        )\n",
        "        # output = [batch_size, length, hidden_dim * num]\n",
        "        hidden = self.dropout(torch.cat((hidden[-2, :, :], hidden[-1, :, :]), dim=1))\n",
        "        result = self.fc(hidden)\n",
        "\n",
        "        return self.sig(result)\n"
      ],
      "execution_count": 0,
      "outputs": []
    },
    {
      "cell_type": "code",
      "metadata": {
        "colab_type": "code",
        "id": "rnwH9XE52Daf",
        "colab": {}
      },
      "source": [
        "# vocab2index = {\"\":0, \"UNK\":1}\n",
        "\n",
        "def index2word(tensor):\n",
        "  \"\"\"\n",
        "    It takes a tensor argument and contructs back to a text\n",
        "  \"\"\"\n",
        "  index2word = {index:word for word,index in vocab2index.items()}\n",
        "  data = tensor.numpy()\n",
        "  print(data.shape)\n",
        "  words_list = []\n",
        "  for row in data:\n",
        "    for cell in row:\n",
        "      word = index2word[cell]\n",
        "      words_list.append(word)\n",
        "\n",
        "  word = \" \".join(words_list)\n",
        "  print(word)\n"
      ],
      "execution_count": 0,
      "outputs": []
    },
    {
      "cell_type": "code",
      "metadata": {
        "colab_type": "code",
        "id": "8n5cpE5I_ihi",
        "colab": {}
      },
      "source": [
        "# Trainable parameters\n",
        "def count_trainable_params(model):\n",
        "  \"\"\"\n",
        "   Print a string of trainable parameters in a model\n",
        "  Args:\n",
        "      model (object): The model object\n",
        "  \"\"\"\n",
        "  n_params = sum(p.numel() for p in model.parameters() if p.requires_grad)\n",
        "\n",
        "  print(f'The model has {n_params} trainable paramters')"
      ],
      "execution_count": 0,
      "outputs": []
    },
    {
      "cell_type": "code",
      "metadata": {
        "colab_type": "code",
        "id": "Nk_mh2NiAwC9",
        "colab": {}
      },
      "source": [
        "# Calculate accuracy\n",
        "def cal_accuracy(preds, y):\n",
        "  \"\"\"\n",
        "  Returns accuracy per batch. i.e 6 out of 10 means 0.6\n",
        "  \"\"\"\n",
        "  preds = torch.round(preds) # Round prediction up i.e 0.0 and 1.0\n",
        "  correct = (preds == y)\n",
        "  correct = correct.float()\n",
        "  #print(f'correct: {correct.sum()}, wrong {len(correct)}')\n",
        "  acc = correct.sum()/ len(correct)\n",
        "  return acc\n",
        "\n",
        "\n",
        "def convert_pred(y_preds, y_true):\n",
        "  #y_true = y_true.cpu().detach()\n",
        "  #y_preds = y_preds.cpu().detach()\n",
        "  y_preds = torch.round(y_preds) # Round prediction up i.e 0.0 and 1.0  \n",
        "\n",
        "  return y_preds, y_true\n",
        "\n",
        "\n",
        "def cal_f1_score(y_pred, y_true):\n",
        "  \"\"\"\n",
        "    Returns an f1 score \n",
        "  \"\"\"\n",
        "  y_pred, y_true = convert_pred(y_pred, y_true)\n",
        "  f1 = f1_score(y_pred, y_true)\n",
        "\n",
        "  return f1"
      ],
      "execution_count": 0,
      "outputs": []
    },
    {
      "cell_type": "code",
      "metadata": {
        "colab_type": "code",
        "id": "1H0kmjNAJ9e2",
        "colab": {}
      },
      "source": [
        "\n",
        "def train(model, train_loader, optimizer, loss_fn, device):\n",
        "    epoch_loss = 0\n",
        "    epoch_acc = 0\n",
        "    model.train()\n",
        "\n",
        "    for batch in train_loader:\n",
        "      optimizer.zero_grad()\n",
        "      tweet, label, length = batch\n",
        "      tweet, length, label = tweet.long(), length.long(), label.float()\n",
        "      tweet = tweet.to(device)\n",
        "      label = label.to(device)\n",
        "      length = length.to(device)\n",
        "      predictions = model(tweet, length).squeeze(1)  # Outputs is 2 dim Float tensor\n",
        "      loss = loss_fn(predictions, label)\n",
        "      acc = cal_accuracy(predictions,label)\n",
        "      loss.backward()\n",
        "      optimizer.step()\n",
        "      epoch_loss += loss.item()\n",
        "      epoch_acc += acc.item() \n",
        "\n",
        "    return epoch_loss/len(train_loader), epoch_acc/ len(train_loader)"
      ],
      "execution_count": 0,
      "outputs": []
    },
    {
      "cell_type": "code",
      "metadata": {
        "colab_type": "code",
        "id": "aTeFXkOzMNIP",
        "colab": {}
      },
      "source": [
        "def evaluate_model(model, loader, criterion):\n",
        "  device = torch.device(\"cuda\" if torch.cuda.is_available() else \"cpu\")\n",
        "  epoch_loss = 0 \n",
        "  epoch_acc = 0\n",
        "  y_preds = None\n",
        "  y_true = None\n",
        "\n",
        "  model.eval()\n",
        "  with torch.no_grad():\n",
        "    for batch in loader:\n",
        "      tweet, label, length = batch\n",
        "      tweet, length, label = tweet.long(), length.long(), label.float()\n",
        "      tweet = tweet.to(device)\n",
        "      label = label.to(device)\n",
        "      length = length.to(device)\n",
        "      predictions = model(tweet, length).squeeze(1)\n",
        "      loss = criterion(predictions, label)\n",
        "      acc = cal_accuracy(predictions ,label)\n",
        "      pred = torch.round(predictions) # Round up to 0.0, or 1.0\n",
        "      \n",
        "      if y_preds == None:\n",
        "        y_preds = pred\n",
        "        y_true = label\n",
        "      else:\n",
        "        y_preds = torch.cat([y_preds, pred])\n",
        "        y_true = torch.cat([y_true, label])\n",
        "\n",
        "      epoch_loss += loss.item()\n",
        "      epoch_acc += acc.item()\n",
        "\n",
        "  return epoch_loss/ len(loader), epoch_acc / len(loader), y_preds, y_true"
      ],
      "execution_count": 0,
      "outputs": []
    },
    {
      "cell_type": "code",
      "metadata": {
        "colab_type": "code",
        "id": "DpJdykmlpKpm",
        "colab": {}
      },
      "source": [
        "def epoch_time(start_time, end_time):\n",
        "    elapsed_time = end_time - start_time\n",
        "    elapsed_mins = int(elapsed_time / 60)\n",
        "    elapsed_secs = int(elapsed_time - (elapsed_mins * 60))\n",
        "    return elapsed_mins, elapsed_secs"
      ],
      "execution_count": 0,
      "outputs": []
    },
    {
      "cell_type": "code",
      "metadata": {
        "colab_type": "code",
        "id": "l2SLDr0xNYU_",
        "colab": {}
      },
      "source": [
        "train_loss_list = []\n",
        "valid_loss_list = []\n",
        "\n",
        "def start_training(model, train_loader, test_loader, optimizer, criterion, epochs=5):\n",
        "  best_valid_loss = float('inf')\n",
        "  device = torch.device(\"cuda\" if torch.cuda.is_available() else \"cpu\")\n",
        "  # Take advantage of GPU if one is available\n",
        "  model = model.to(device)\n",
        "  criterion = criterion.to(device)\n",
        "\n",
        "  for epoch in range(epochs):\n",
        "    start_time  = time.time()\n",
        "    \n",
        "    train_loss, train_acc = train(model=model, train_loader=train_loader, optimizer=optimizer, loss_fn=criterion, device=device)\n",
        "    valid_loss, valid_acc, _, _ = evaluate_model(model= model, loader=test_loader,criterion=criterion)\n",
        "\n",
        "    end_time = time.time()\n",
        "    epoch_mins, epoch_secs = epoch_time(start_time, end_time)\n",
        "\n",
        "    train_loss_list.append(train_loss)\n",
        "    valid_loss_list.append(valid_loss)\n",
        "\n",
        "    if valid_loss < best_valid_loss:\n",
        "      best_valid_loss = best_valid_loss\n",
        "      torch.save(model.state_dict(), 'model.pt')\n",
        "    print(f'Epoch {epoch+1} | Epoch time: {epoch_mins}:{epoch_secs}s')\n",
        "    print(f'\\t Train Loss : {train_loss:.3f} | Train acc: {train_acc *100:.2f}%')\n",
        "    print(f'\\t Val. Loss : {valid_loss:.3f} | Val acc: {valid_acc *100:.2f}%')\n",
        "  \n"
      ],
      "execution_count": 0,
      "outputs": []
    },
    {
      "cell_type": "markdown",
      "metadata": {
        "colab_type": "text",
        "id": "aJFpdYzyYwOM"
      },
      "source": [
        "### Defining model hyper-\n",
        "\n",
        "```\n",
        "# This is formatted as code\n",
        "```\n",
        "\n",
        "parametters"
      ]
    },
    {
      "cell_type": "code",
      "metadata": {
        "colab_type": "code",
        "id": "PJw7T7oGbfoI",
        "outputId": "84d60834-c728-489c-b09b-209d893eca2a",
        "colab": {
          "base_uri": "https://localhost:8080/",
          "height": 34
        }
      },
      "source": [
        "print(len(words))"
      ],
      "execution_count": 43,
      "outputs": [
        {
          "output_type": "stream",
          "text": [
            "9663\n"
          ],
          "name": "stdout"
        }
      ]
    },
    {
      "cell_type": "code",
      "metadata": {
        "colab_type": "code",
        "id": "_Hyp9aNoUZS5",
        "colab": {}
      },
      "source": [
        "batch_size = 70\n",
        "embed_dim = 160\n",
        "hidden_dim = 500\n",
        "output_dim = (\n",
        "    len(spam_index_mapping) - 1\n",
        ") \n",
        "input_dim = len(words)\n",
        "n_layers = 2\n",
        "bidirectional = True\n",
        "dropout = 0.5\n",
        "pad_idx = 1\n",
        "batch_first = True\n",
        "\n",
        "lr = 1e-3\n",
        "train_loader = DataLoader(train_dataset, batch_size=batch_size, shuffle=True)\n",
        "test_loader = DataLoader(test_dataset, batch_size=batch_size, shuffle=True)\n"
      ],
      "execution_count": 0,
      "outputs": []
    },
    {
      "cell_type": "code",
      "metadata": {
        "colab_type": "code",
        "id": "pJHrsQCoUc8F",
        "outputId": "bc6d7498-3391-4ab1-b218-44df6bf4b19a",
        "colab": {
          "base_uri": "https://localhost:8080/",
          "height": 153
        }
      },
      "source": [
        "model = LSTMClassifier(\n",
        "    input_dim=input_dim,\n",
        "    hidden_dim=hidden_dim,\n",
        "    embed_dim=embed_dim,\n",
        "    output_dim=output_dim,\n",
        "    bidirectional=bidirectional,\n",
        "    dropout=dropout,\n",
        "    n_layers=n_layers,\n",
        "    pad_idx=pad_idx,\n",
        "    batch_first=batch_first,\n",
        ")\n",
        "optimizer = optim.Adam(model.parameters(), lr=lr)\n",
        "loss_fn = torch.nn.BCELoss()\n",
        "count_trainable_params(model)\n",
        "model\n"
      ],
      "execution_count": 45,
      "outputs": [
        {
          "output_type": "stream",
          "text": [
            "The model has 10203081 trainable paramters\n"
          ],
          "name": "stdout"
        },
        {
          "output_type": "execute_result",
          "data": {
            "text/plain": [
              "LSTMClassifier(\n",
              "  (embedding): Embedding(9663, 160, padding_idx=1)\n",
              "  (lstm): LSTM(160, 500, num_layers=2, batch_first=True, dropout=0.5, bidirectional=True)\n",
              "  (fc): Linear(in_features=1000, out_features=1, bias=True)\n",
              "  (dropout): Dropout(p=0.5, inplace=False)\n",
              "  (sig): Sigmoid()\n",
              ")"
            ]
          },
          "metadata": {
            "tags": []
          },
          "execution_count": 45
        }
      ]
    },
    {
      "cell_type": "markdown",
      "metadata": {
        "colab_type": "text",
        "id": "QM0z_hKgZcaa"
      },
      "source": [
        "### Training the model"
      ]
    },
    {
      "cell_type": "code",
      "metadata": {
        "colab_type": "code",
        "id": "tjFJh-aLGJN4",
        "outputId": "6c3ec41f-703a-4088-d717-1b33e26a29b4",
        "colab": {
          "base_uri": "https://localhost:8080/",
          "height": 527
        }
      },
      "source": [
        "start_training(model, train_loader, test_loader , optimizer, loss_fn, epochs=10)"
      ],
      "execution_count": 46,
      "outputs": [
        {
          "output_type": "stream",
          "text": [
            "Epoch 1 | Epoch time: 0:17s\n",
            "\t Train Loss : 0.281 | Train acc: 88.32%\n",
            "\t Val. Loss : 0.144 | Val acc: 94.95%\n",
            "Epoch 2 | Epoch time: 0:17s\n",
            "\t Train Loss : 0.150 | Train acc: 94.58%\n",
            "\t Val. Loss : 0.116 | Val acc: 96.02%\n",
            "Epoch 3 | Epoch time: 0:17s\n",
            "\t Train Loss : 0.120 | Train acc: 95.72%\n",
            "\t Val. Loss : 0.126 | Val acc: 95.72%\n",
            "Epoch 4 | Epoch time: 0:17s\n",
            "\t Train Loss : 0.097 | Train acc: 96.77%\n",
            "\t Val. Loss : 0.104 | Val acc: 96.37%\n",
            "Epoch 5 | Epoch time: 0:17s\n",
            "\t Train Loss : 0.084 | Train acc: 96.97%\n",
            "\t Val. Loss : 0.099 | Val acc: 96.69%\n",
            "Epoch 6 | Epoch time: 0:17s\n",
            "\t Train Loss : 0.075 | Train acc: 97.30%\n",
            "\t Val. Loss : 0.102 | Val acc: 96.83%\n",
            "Epoch 7 | Epoch time: 0:17s\n",
            "\t Train Loss : 0.065 | Train acc: 97.84%\n",
            "\t Val. Loss : 0.099 | Val acc: 97.03%\n",
            "Epoch 8 | Epoch time: 0:17s\n",
            "\t Train Loss : 0.058 | Train acc: 98.05%\n",
            "\t Val. Loss : 0.092 | Val acc: 97.22%\n",
            "Epoch 9 | Epoch time: 0:17s\n",
            "\t Train Loss : 0.043 | Train acc: 98.51%\n",
            "\t Val. Loss : 0.114 | Val acc: 97.03%\n",
            "Epoch 10 | Epoch time: 0:17s\n",
            "\t Train Loss : 0.042 | Train acc: 98.55%\n",
            "\t Val. Loss : 0.104 | Val acc: 97.29%\n"
          ],
          "name": "stdout"
        }
      ]
    },
    {
      "cell_type": "code",
      "metadata": {
        "colab_type": "code",
        "id": "aVkilSriVwZ4",
        "outputId": "eedc49c9-9e35-4496-93ff-06839060fd81",
        "colab": {
          "base_uri": "https://localhost:8080/",
          "height": 295
        }
      },
      "source": [
        "epochs = range(1,11)\n",
        "plt.plot(epochs, train_loss_list, 'g', label='Training loss')\n",
        "plt.plot(epochs, valid_loss_list, 'b', label='validation loss')\n",
        "plt.title('Training and Validation loss')\n",
        "plt.xlabel('Epochs')\n",
        "plt.ylabel('Loss')\n",
        "plt.legend()\n",
        "plt.show()"
      ],
      "execution_count": 47,
      "outputs": [
        {
          "output_type": "display_data",
          "data": {
            "image/png": "[encoded data removed]",
            "text/plain": [
              "<Figure size 432x288 with 1 Axes>"
            ]
          },
          "metadata": {
            "tags": [],
            "needs_background": "light"
          }
        }
      ]
    },
    {
      "cell_type": "code",
      "metadata": {
        "colab_type": "code",
        "id": "8qCkcUHucNAO",
        "colab": {}
      },
      "source": [
        ""
      ],
      "execution_count": 0,
      "outputs": []
    },
    {
      "cell_type": "markdown",
      "metadata": {
        "colab_type": "text",
        "id": "8uiMqQCTpzsL"
      },
      "source": [
        "## Testing the model"
      ]
    },
    {
      "cell_type": "code",
      "metadata": {
        "colab_type": "code",
        "id": "kDj8ndJfkMT2",
        "outputId": "afca5fce-1284-4725-e110-d012583782f4",
        "colab": {
          "base_uri": "https://localhost:8080/",
          "height": 34
        }
      },
      "source": [
        "model.load_state_dict(torch.load('model.pt'))\n",
        "test_loss, test_acc, y_preds, y_true = evaluate_model(model, test_loader, loss_fn)\n",
        "y_true = y_true.cpu().numpy()\n",
        "y_preds = y_preds.cpu().numpy()\n",
        "\n",
        "print(f'Test Loss: {test_loss:.3f} | Test Acc: {test_acc*100:.2f}% | F1 Score: {f1_score(y_true, y_preds)} |Recall {recall_score(y_true, y_preds)} | Precision {precision_score(y_true, y_preds)} '  )"
      ],
      "execution_count": 48,
      "outputs": [
        {
          "output_type": "stream",
          "text": [
            "Test Loss: 0.103 | Test Acc: 97.29% | F1 Score: 0.9731142643764004 |Recall 0.986872002019692 | Precision 0.959734839184876 \n"
          ],
          "name": "stdout"
        }
      ]
    },
    {
      "cell_type": "code",
      "metadata": {
        "colab_type": "code",
        "id": "kyU8vKnZoeYf",
        "colab": {
          "base_uri": "https://localhost:8080/",
          "height": 68
        },
        "outputId": "2ce08450-3230-4c76-ec77-e1f6595ea55f"
      },
      "source": [
        "# Archive model artifacts\n",
        "!zip model_artifacts.zip *.json model.pt"
      ],
      "execution_count": 49,
      "outputs": [
        {
          "output_type": "stream",
          "text": [
            "updating: vocab2index.json (deflated 60%)\n",
            "updating: words.json (deflated 61%)\n",
            "updating: model.pt (deflated 7%)\n"
          ],
          "name": "stdout"
        }
      ]
    }
  ]
}