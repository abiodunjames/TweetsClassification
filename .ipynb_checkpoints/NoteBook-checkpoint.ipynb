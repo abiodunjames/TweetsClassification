{
 "cells": [
  {
   "cell_type": "markdown",
   "metadata": {
    "colab_type": "text",
    "id": "view-in-github"
   },
   "source": [
    "<a href=\"https://colab.research.google.com/github/abiodunjames/TweetsClassification/blob/master/TweetClassification.ipynb\" target=\"_parent\"><img src=\"https://colab.research.google.com/assets/colab-badge.svg\" alt=\"Open In Colab\"/></a>"
   ]
  },
  {
   "cell_type": "markdown",
   "metadata": {
    "colab_type": "text",
    "id": "I7KyPq5jM2T_"
   },
   "source": [
    "### Install Libraries\n",
    "There are python libraries needed for the training. In the block below, I'll install them using pip\n",
    "\n",
    "* `demoji` is used to remove emojis from tweets. This will be used at the pre-processing step."
   ]
  },
  {
   "cell_type": "code",
   "execution_count": 1,
   "metadata": {
    "colab": {
     "base_uri": "https://localhost:8080/",
     "height": 700
    },
    "colab_type": "code",
    "id": "5hX22ezxcwDi",
    "outputId": "a375ceff-a130-4a2d-d551-c816b7f4805f"
   },
   "outputs": [
    {
     "name": "stdout",
     "output_type": "stream",
     "text": [
      "/bin/sh: pip: command not found\n",
      "/System/Library/Frameworks/Python.framework/Versions/2.7/Resources/Python.app/Contents/MacOS/Python: No module named spacy\n"
     ]
    }
   ],
   "source": [
    "#! mkdir data\n",
    "#! cp ./drive/My\\ Drive/hubofml/*.csv ./data\n",
    "!pip install demoji\n",
    "!python -m spacy download en"
   ]
  },
  {
   "cell_type": "code",
   "execution_count": 0,
   "metadata": {
    "colab": {},
    "colab_type": "code",
    "id": "UBWo1LfZXTtu"
   },
   "outputs": [],
   "source": [
    "import pandas as pd\n",
    "import numpy as np\n",
    "import matplotlib.pyplot as plt\n",
    "import glob\n",
    "import re\n",
    "import demoji\n",
    "from sklearn.model_selection import train_test_split\n",
    "from sklearn.preprocessing import LabelEncoder\n",
    "import demoji\n",
    "from sklearn.utils import shuffle, resample\n",
    "import math\n",
    "import spacy\n",
    "from collections import Counter\n",
    "from sklearn.feature_extraction.text import CountVectorizer\n",
    "from sklearn.metrics import accuracy_score\n",
    "import torch.optim as optim\n",
    "import torch\n",
    "from spacy.lang.en import English\n",
    "import nltk\n",
    "from nltk.stem.snowball import SnowballStemmer\n",
    "from sklearn.metrics import f1_score, recall_score, precision_score\n",
    "import matplotlib.pyplot as plt\n",
    "from sklearn.model_selection import train_test_split\n",
    "from torch.utils.data import Dataset, DataLoader\n",
    "from torchvision import transforms, utils\n",
    "import time\n",
    "import json\n",
    "%matplotlib inline  "
   ]
  },
  {
   "cell_type": "code",
   "execution_count": 0,
   "metadata": {
    "colab": {
     "base_uri": "https://localhost:8080/",
     "height": 85
    },
    "colab_type": "code",
    "id": "L-TmCx3UxHsc",
    "outputId": "d499c11a-edd9-4dc6-e971-a133ab488d25"
   },
   "outputs": [
    {
     "name": "stdout",
     "output_type": "stream",
     "text": [
      "Downloading emoji data ...\n",
      "... OK (Got response in 0.26 seconds)\n",
      "Writing emoji data to /root/.demoji/codes.json ...\n",
      "... OK\n"
     ]
    }
   ],
   "source": [
    "demoji.download_codes()\n",
    "pd.options.display.max_colwidth = 8000"
   ]
  },
  {
   "cell_type": "markdown",
   "metadata": {
    "colab_type": "text",
    "id": "Qu2g7X2PaHpe"
   },
   "source": [
    "### Loading data into dataframes\n",
    "\n",
    "There are multiple files for the tweets. In the cell below we'll read the files and load **them** into dataframes."
   ]
  },
  {
   "cell_type": "code",
   "execution_count": 0,
   "metadata": {
    "colab": {},
    "colab_type": "code",
    "id": "cKVpYfZnU6QY"
   },
   "outputs": [],
   "source": [
    "diction = spacy.lang.en.stop_words.STOP_WORDS"
   ]
  },
  {
   "cell_type": "code",
   "execution_count": 0,
   "metadata": {
    "colab": {},
    "colab_type": "code",
    "id": "k0oBj_wJYtWl"
   },
   "outputs": [],
   "source": [
    "df = pd.concat([pd.read_csv(f, index_col=False) for f in glob.glob('./data/tweet*.csv')],ignore_index=True, axis=0)"
   ]
  },
  {
   "cell_type": "markdown",
   "metadata": {
    "colab_type": "text",
    "id": "-b51sDGqGrIJ"
   },
   "source": [
    "### Data Exploration\n",
    " To make sense of the raw datasets, I'll do the following:\n",
    "\n",
    " * Read the number of columns\n",
    " * Visualize the distribution of spam and non-spam tweets\n",
    " * Find the frequencies of words in the spam and non-spam messages \n",
    " * Drop columns not needed for training"
   ]
  },
  {
   "cell_type": "code",
   "execution_count": 0,
   "metadata": {
    "colab": {
     "base_uri": "https://localhost:8080/",
     "height": 187
    },
    "colab_type": "code",
    "id": "bqPHc__kGvlM",
    "outputId": "3ae1a38e-ede3-44bc-f2c6-6ab11bf356a4"
   },
   "outputs": [
    {
     "name": "stdout",
     "output_type": "stream",
     "text": [
      "<class 'pandas.core.frame.DataFrame'>\n",
      "RangeIndex: 110527 entries, 0 to 110526\n",
      "Data columns (total 3 columns):\n",
      " #   Column      Non-Null Count   Dtype \n",
      "---  ------      --------------   ----- \n",
      " 0   Unnamed: 0  110527 non-null  int64 \n",
      " 1   spam        110527 non-null  object\n",
      " 2   tweet       110527 non-null  object\n",
      "dtypes: int64(1), object(2)\n",
      "memory usage: 2.5+ MB\n"
     ]
    }
   ],
   "source": [
    "df.info()"
   ]
  },
  {
   "cell_type": "markdown",
   "metadata": {
    "colab_type": "text",
    "id": "Kh5X5i-ePJQW"
   },
   "source": [
    "From the info above, there are 110,527 tweets in the datasets.\n",
    "There are 3 columns: `Unnamed :0`, `tweet` and `spam` column."
   ]
  },
  {
   "cell_type": "code",
   "execution_count": 0,
   "metadata": {
    "colab": {
     "base_uri": "https://localhost:8080/",
     "height": 170
    },
    "colab_type": "code",
    "id": "SyQ6Yt9W6q7T",
    "outputId": "1563b61d-5990-4501-9ca8-be0a27f01e49"
   },
   "outputs": [
    {
     "name": "stdout",
     "output_type": "stream",
     "text": [
      "<class 'pandas.core.frame.DataFrame'>\n",
      "RangeIndex: 110527 entries, 0 to 110526\n",
      "Data columns (total 2 columns):\n",
      " #   Column  Non-Null Count   Dtype \n",
      "---  ------  --------------   ----- \n",
      " 0   spam    110527 non-null  object\n",
      " 1   tweet   110527 non-null  object\n",
      "dtypes: object(2)\n",
      "memory usage: 1.7+ MB\n"
     ]
    }
   ],
   "source": [
    "# From the info above, we have an `Unnamed:0` column, let's get rid of that\n",
    "df.drop(df.columns[df.columns.str.contains('unnamed',case = False)],axis = 1, inplace = True)\n",
    "df.info()"
   ]
  },
  {
   "cell_type": "code",
   "execution_count": 0,
   "metadata": {
    "colab": {
     "base_uri": "https://localhost:8080/",
     "height": 204
    },
    "colab_type": "code",
    "id": "gsmkBd3VqCfG",
    "outputId": "70e74692-465c-4769-f341-05a3d67a1c62"
   },
   "outputs": [
    {
     "data": {
      "text/html": [
       "<div>\n",
       "<style scoped>\n",
       "    .dataframe tbody tr th:only-of-type {\n",
       "        vertical-align: middle;\n",
       "    }\n",
       "\n",
       "    .dataframe tbody tr th {\n",
       "        vertical-align: top;\n",
       "    }\n",
       "\n",
       "    .dataframe thead th {\n",
       "        text-align: right;\n",
       "    }\n",
       "</style>\n",
       "<table border=\"1\" class=\"dataframe\">\n",
       "  <thead>\n",
       "    <tr style=\"text-align: right;\">\n",
       "      <th></th>\n",
       "      <th>spam</th>\n",
       "      <th>tweet</th>\n",
       "    </tr>\n",
       "  </thead>\n",
       "  <tbody>\n",
       "    <tr>\n",
       "      <th>107999</th>\n",
       "      <td>no</td>\n",
       "      <td>Artificial Intelligence in Healthcare? It’s Here: https://t.co/bkEfhyZ5bp\\n\\n#Healthcare #Artificialintelligence #ArtificialIntelligentBots #AI https://t.co/RnLrisrQr4</td>\n",
       "    </tr>\n",
       "    <tr>\n",
       "      <th>68107</th>\n",
       "      <td>yes</td>\n",
       "      <td>@brunnarae i know right? he got me stuff from NYC, so i figure i can at least get him an OSU shirt.</td>\n",
       "    </tr>\n",
       "    <tr>\n",
       "      <th>61591</th>\n",
       "      <td>yes</td>\n",
       "      <td>@billybilo slater! haha do enjoy, i could (and have done) watch it all day</td>\n",
       "    </tr>\n",
       "    <tr>\n",
       "      <th>99284</th>\n",
       "      <td>yes</td>\n",
       "      <td>@crazyspeak so give me a quick update grace, you've quit the foodland job and you start at JB's tomorrow full time? heaps exciting</td>\n",
       "    </tr>\n",
       "    <tr>\n",
       "      <th>7269</th>\n",
       "      <td>yes</td>\n",
       "      <td>#inaperfectworld Sade would go on tour once more- never seen her perform live</td>\n",
       "    </tr>\n",
       "  </tbody>\n",
       "</table>\n",
       "</div>"
      ],
      "text/plain": [
       "       spam                                                                                                                                                                    tweet\n",
       "107999   no  Artificial Intelligence in Healthcare? It’s Here: https://t.co/bkEfhyZ5bp\\n\\n#Healthcare #Artificialintelligence #ArtificialIntelligentBots #AI https://t.co/RnLrisrQr4\n",
       "68107   yes                                                                     @brunnarae i know right? he got me stuff from NYC, so i figure i can at least get him an OSU shirt. \n",
       "61591   yes                                                                                              @billybilo slater! haha do enjoy, i could (and have done) watch it all day \n",
       "99284   yes                                      @crazyspeak so give me a quick update grace, you've quit the foodland job and you start at JB's tomorrow full time? heaps exciting \n",
       "7269    yes                                                                                           #inaperfectworld Sade would go on tour once more- never seen her perform live "
      ]
     },
     "execution_count": 9,
     "metadata": {
      "tags": []
     },
     "output_type": "execute_result"
    }
   ],
   "source": [
    "df = shuffle(df)\n",
    "df.head()"
   ]
  },
  {
   "cell_type": "code",
   "execution_count": 0,
   "metadata": {
    "colab": {
     "base_uri": "https://localhost:8080/",
     "height": 190
    },
    "colab_type": "code",
    "id": "QY_zOcP8LDR8",
    "outputId": "6a329df0-12c8-456b-e6c3-dba746e3e844"
   },
   "outputs": [
    {
     "data": {
      "text/html": [
       "<div>\n",
       "<style scoped>\n",
       "    .dataframe tbody tr th:only-of-type {\n",
       "        vertical-align: middle;\n",
       "    }\n",
       "\n",
       "    .dataframe tbody tr th {\n",
       "        vertical-align: top;\n",
       "    }\n",
       "\n",
       "    .dataframe thead th {\n",
       "        text-align: right;\n",
       "    }\n",
       "</style>\n",
       "<table border=\"1\" class=\"dataframe\">\n",
       "  <thead>\n",
       "    <tr style=\"text-align: right;\">\n",
       "      <th></th>\n",
       "      <th>spam</th>\n",
       "      <th>tweet</th>\n",
       "    </tr>\n",
       "  </thead>\n",
       "  <tbody>\n",
       "    <tr>\n",
       "      <th>count</th>\n",
       "      <td>110527</td>\n",
       "      <td>110527</td>\n",
       "    </tr>\n",
       "    <tr>\n",
       "      <th>unique</th>\n",
       "      <td>2</td>\n",
       "      <td>110166</td>\n",
       "    </tr>\n",
       "    <tr>\n",
       "      <th>top</th>\n",
       "      <td>yes</td>\n",
       "      <td>The Data Science Capabilities Venn Diagram identifies the key objectives and capabilities for the three key data science roles. Link &amp;gt;&amp;gt; https://t.co/5cvK5co8SS @schmarzo on @DataScienceCtrl ht @bobehayes via @antgrasso #DataScience #DigitalTransformation https://t.co/ZIsB2vsrTZ</td>\n",
       "    </tr>\n",
       "    <tr>\n",
       "      <th>freq</th>\n",
       "      <td>99989</td>\n",
       "      <td>23</td>\n",
       "    </tr>\n",
       "  </tbody>\n",
       "</table>\n",
       "</div>"
      ],
      "text/plain": [
       "          spam                                                                                                                                                                                                                                                                                         tweet\n",
       "count   110527                                                                                                                                                                                                                                                                                        110527\n",
       "unique       2                                                                                                                                                                                                                                                                                        110166\n",
       "top        yes  The Data Science Capabilities Venn Diagram identifies the key objectives and capabilities for the three key data science roles. Link &gt;&gt; https://t.co/5cvK5co8SS @schmarzo on @DataScienceCtrl ht @bobehayes via @antgrasso #DataScience #DigitalTransformation https://t.co/ZIsB2vsrTZ\n",
       "freq     99989                                                                                                                                                                                                                                                                                            23"
      ]
     },
     "execution_count": 10,
     "metadata": {
      "tags": []
     },
     "output_type": "execute_result"
    }
   ],
   "source": [
    "# Let's show some basic stastictics\n",
    "df.describe()"
   ]
  },
  {
   "cell_type": "code",
   "execution_count": 0,
   "metadata": {
    "colab": {
     "base_uri": "https://localhost:8080/",
     "height": 316
    },
    "colab_type": "code",
    "id": "6THlAeWkLfr9",
    "outputId": "2bbb5d6a-ac58-4711-d29d-4de317910558"
   },
   "outputs": [
    {
     "name": "stdout",
     "output_type": "stream",
     "text": [
      "yes    99989\n",
      "no     10538\n",
      "Name: spam, dtype: int64\n"
     ]
    },
    {
     "data": {
      "text/plain": [
       "<matplotlib.axes._subplots.AxesSubplot at 0x7fe3991a6358>"
      ]
     },
     "execution_count": 11,
     "metadata": {
      "tags": []
     },
     "output_type": "execute_result"
    },
    {
     "data": {
      "image/png": "[encoded data removed]",
      "text/plain": [
       "<Figure size 432x288 with 1 Axes>"
      ]
     },
     "metadata": {
      "tags": []
     },
     "output_type": "display_data"
    }
   ],
   "source": [
    "# Let's see how spam/ham we have in the data.\n",
    "print(df[\"spam\"].value_counts())\n",
    "df[\"spam\"].value_counts().plot.pie()\n"
   ]
  },
  {
   "cell_type": "markdown",
   "metadata": {
    "colab_type": "text",
    "id": "Rjae_L-d3UtJ"
   },
   "source": [
    "### Unbalanced Datasets\n",
    "\n",
    "Looking at the pie chart above, we have unbalanced datasets which can affect how the model generalizes on unseen data. There are a total of 99,989 Spam and 10,538 Ham, which makes spam to be 10 times larger than Ham. If we use the dataset as it's now, the algorithm learns that a given class is more predominant, making it “natural” to leans towards the predominant class. One way to tackle unbalanced datasets is through **downsampling**\n",
    "\n",
    "**Downsampling** (in model training context) refers to training on a disproportionately low subset of the majority class sample.\n",
    "\n",
    "In the block below, we downsample the datasets.\n"
   ]
  },
  {
   "cell_type": "code",
   "execution_count": 0,
   "metadata": {
    "colab": {},
    "colab_type": "code",
    "id": "f8xi9rcn6Acn"
   },
   "outputs": [],
   "source": [
    "# Select spam and ham\n",
    "spam = df.loc[df['spam'] == 'yes']\n",
    "ham = df.loc[df['spam'] =='no']"
   ]
  },
  {
   "cell_type": "code",
   "execution_count": 0,
   "metadata": {
    "colab": {},
    "colab_type": "code",
    "id": "DEiGU8yRZHu6"
   },
   "outputs": [],
   "source": [
    "# Downsampling\n",
    "spam_downsampled = resample(spam, replace=False, n_samples=10000, random_state=123) #\n",
    "ham_downsampled = resample(ham, replace=False, n_samples=10000, random_state=123)\n",
    "datasets = pd.concat([ham_downsampled, spam_downsampled], ignore_index=True)"
   ]
  },
  {
   "cell_type": "code",
   "execution_count": 0,
   "metadata": {
    "colab": {
     "base_uri": "https://localhost:8080/",
     "height": 316
    },
    "colab_type": "code",
    "id": "4WFEXaHufKjC",
    "outputId": "fe16d3eb-6fd7-454a-f7fa-480212c98fd7"
   },
   "outputs": [
    {
     "name": "stdout",
     "output_type": "stream",
     "text": [
      "yes    10000\n",
      "no     10000\n",
      "Name: spam, dtype: int64\n"
     ]
    },
    {
     "data": {
      "text/plain": [
       "<matplotlib.axes._subplots.AxesSubplot at 0x7fe39913e2e8>"
      ]
     },
     "execution_count": 14,
     "metadata": {
      "tags": []
     },
     "output_type": "execute_result"
    },
    {
     "data": {
      "image/png": "[encoded data removed]",
      "text/plain": [
       "<Figure size 432x288 with 1 Axes>"
      ]
     },
     "metadata": {
      "tags": []
     },
     "output_type": "display_data"
    }
   ],
   "source": [
    "# Plot a pie chart of the downsampled datasets\n",
    "print(datasets[\"spam\"].value_counts())\n",
    "datasets[\"spam\"].value_counts().plot.pie()"
   ]
  },
  {
   "cell_type": "code",
   "execution_count": 0,
   "metadata": {
    "colab": {
     "base_uri": "https://localhost:8080/",
     "height": 221
    },
    "colab_type": "code",
    "id": "msCmgHJEBfRs",
    "outputId": "a129d6b0-b07c-4bf7-d69c-d84834f7e09b"
   },
   "outputs": [
    {
     "data": {
      "text/html": [
       "<div>\n",
       "<style scoped>\n",
       "    .dataframe tbody tr th:only-of-type {\n",
       "        vertical-align: middle;\n",
       "    }\n",
       "\n",
       "    .dataframe tbody tr th {\n",
       "        vertical-align: top;\n",
       "    }\n",
       "\n",
       "    .dataframe thead th {\n",
       "        text-align: right;\n",
       "    }\n",
       "</style>\n",
       "<table border=\"1\" class=\"dataframe\">\n",
       "  <thead>\n",
       "    <tr style=\"text-align: right;\">\n",
       "      <th></th>\n",
       "      <th>spam</th>\n",
       "      <th>tweet</th>\n",
       "    </tr>\n",
       "  </thead>\n",
       "  <tbody>\n",
       "    <tr>\n",
       "      <th>0</th>\n",
       "      <td>no</td>\n",
       "      <td>Building a neural Network for Peter. \\n @peteraltmaier  \\n#peteraltmaier \\n#Digitalisierung \\n#Grundeinkommen \\n#Klima #COVID19 #1Mai #mikrosteuer #Teilhabe #pflexit #Energiewende #cradletocradle \\n#LeaveNoOneBehind\\n@ARD_Presse @heutejournal \\n@EEnergiewende \\n@MartinSonneborn</td>\n",
       "    </tr>\n",
       "    <tr>\n",
       "      <th>1</th>\n",
       "      <td>no</td>\n",
       "      <td>RT @sunny_2309: Hello @machine_ml, @slashML @machinelearnflx,\\n\\nPlease find a short blog on CNN.</td>\n",
       "    </tr>\n",
       "    <tr>\n",
       "      <th>2</th>\n",
       "      <td>no</td>\n",
       "      <td>Covid-19 and the workforce: Critical workers, productivity, and the future of AI https://t.co/kzEr3kFhXT #ArtificialIntelligence #Coronavirus https://t.co/Ce9EoLhrHO</td>\n",
       "    </tr>\n",
       "    <tr>\n",
       "      <th>3</th>\n",
       "      <td>no</td>\n",
       "      <td>What can a PhD add to your data science career? by: Tivadar Danka on Towards Data Science. \\n#DataScience #ArtificialIntelligence #MachineLearning #BigData #Robotics https://t.co/LiSIoiv5QJ</td>\n",
       "    </tr>\n",
       "    <tr>\n",
       "      <th>4</th>\n",
       "      <td>no</td>\n",
       "      <td>RT @ine: Check out today's post from INE instructor Gilad Gressel where he discusses common issues #MachineLearning is able to solve, what…</td>\n",
       "    </tr>\n",
       "  </tbody>\n",
       "</table>\n",
       "</div>"
      ],
      "text/plain": [
       "  spam                                                                                                                                                                                                                                                                                   tweet\n",
       "0   no  Building a neural Network for Peter. \\n @peteraltmaier  \\n#peteraltmaier \\n#Digitalisierung \\n#Grundeinkommen \\n#Klima #COVID19 #1Mai #mikrosteuer #Teilhabe #pflexit #Energiewende #cradletocradle \\n#LeaveNoOneBehind\\n@ARD_Presse @heutejournal \\n@EEnergiewende \\n@MartinSonneborn\n",
       "1   no                                                                                                                                                                                       RT @sunny_2309: Hello @machine_ml, @slashML @machinelearnflx,\\n\\nPlease find a short blog on CNN.\n",
       "2   no                                                                                                                   Covid-19 and the workforce: Critical workers, productivity, and the future of AI https://t.co/kzEr3kFhXT #ArtificialIntelligence #Coronavirus https://t.co/Ce9EoLhrHO\n",
       "3   no                                                                                           What can a PhD add to your data science career? by: Tivadar Danka on Towards Data Science. \\n#DataScience #ArtificialIntelligence #MachineLearning #BigData #Robotics https://t.co/LiSIoiv5QJ\n",
       "4   no                                                                                                                                             RT @ine: Check out today's post from INE instructor Gilad Gressel where he discusses common issues #MachineLearning is able to solve, what…"
      ]
     },
     "execution_count": 15,
     "metadata": {
      "tags": []
     },
     "output_type": "execute_result"
    }
   ],
   "source": [
    "datasets.head()"
   ]
  },
  {
   "cell_type": "code",
   "execution_count": 0,
   "metadata": {
    "colab": {
     "base_uri": "https://localhost:8080/",
     "height": 51
    },
    "colab_type": "code",
    "id": "7wuZyV3nhKgr",
    "outputId": "549ee1af-2cd0-4b3f-f82a-575a21887ee7"
   },
   "outputs": [
    {
     "name": "stdout",
     "output_type": "stream",
     "text": [
      "average number of words:  16.6155\n",
      "average lenght of tweets:  122.62435\n"
     ]
    }
   ],
   "source": [
    "# Calculate the mean of the length of tweets\n",
    "datasets['number_of_words'] = datasets['tweet'].apply(lambda x: len(x.split()))\n",
    "datasets['tweet_length'] = datasets['tweet'].apply(lambda x: len(x))\n",
    "\n",
    "print(\"average number of words: \",np.mean(datasets['number_of_words']))\n",
    "print(\"average lenght of tweets: \", np.mean(datasets['tweet_length']))\n"
   ]
  },
  {
   "cell_type": "markdown",
   "metadata": {
    "colab_type": "text",
    "id": "apKodfzh9ZZP"
   },
   "source": [
    "### Data Preprocessing\n",
    "\n",
    "We have balanced datasets, that is, total number of tweets that are spam are equivalent to the total number of non-spam tweets.\n",
    "\n",
    "However, the tweets are not clean.  For example:\n",
    "\n",
    "```\n",
    "An analog view of a #digital classification #algorithm &gt;&gt;&gt; \\nRT @MikeQuindazzi\\n\\n#AI #MachineLearning #DeepLearning #DataAnalytics #STEM #4IR #DigitalTransformation #EmergingTech #Technology\\n\\n@mvollmer1\\n@evankirstel\\n@HeinzVHoenen\\n@Fabriziobustama https://t.co/Y3crrNhGZ6\n",
    "```\n",
    "\n",
    "The tweets contain usernames, links, emojis, tags, \"RT\", '-'. These characters don't add meaning to the tweets themselves. They are noises and should be removed.\n",
    "\n",
    "The function `clean_tweet` below removes noises from a tweet"
   ]
  },
  {
   "cell_type": "code",
   "execution_count": 0,
   "metadata": {
    "colab": {},
    "colab_type": "code",
    "id": "U4otD211fY08"
   },
   "outputs": [],
   "source": [
    "tok = English()\n",
    "def clean_tweet(tweet):\n",
    "        # Remove usernames, \"RT\" and Hash\n",
    "        tweet = re.sub(r'(RT|[@*])(\\w*)',\" \", tweet)\n",
    "        # Hashtags are very useful. It gives context to the tweet.\n",
    "        # Remove links in tweets\n",
    "        tweet = re.sub(r'http\\S+', \" \", tweet)\n",
    "        # We remove \"#\" and keep the tags\n",
    "        tweet = re.sub(r'(\\\\n)|(\\#)|(\\.)|(\\;)|(\\:)|(\\!)|(\\')|(\\?)|(\\,)|(\\\")|(\\()|(\\))|(\\[)|(\\])','', tweet)\n",
    "        tweet = re.sub(r'(<br\\s*/><br\\s*/>)|(\\-)|(\\/)', \" \", tweet)\n",
    "        # convert to lower case\n",
    "        tweet = re.sub(r\"[^a-zA-Z0-9]\", \" \", tweet.lower()) # Convert to lower case\n",
    "        # Tweets are usually full of emojis. We need to remove them.\n",
    "        tweet = demoji.replace(tweet, repl=\"\")\n",
    "        # Stop words don't meaning to tweets. They can be removed\n",
    "        tweet_words = tok(tweet)\n",
    "        clean_tweets = []\n",
    "        for word in tweet_words:\n",
    "          if word.is_stop==False and len(word) > 1:\n",
    "            clean_tweets.append(word.text.strip())\n",
    "\n",
    "        tweet = \" \".join(clean_tweets)\n",
    "        \n",
    "        return tweet\n"
   ]
  },
  {
   "cell_type": "code",
   "execution_count": 0,
   "metadata": {
    "colab": {},
    "colab_type": "code",
    "id": "sw7DfrEfUKV0"
   },
   "outputs": [],
   "source": []
  },
  {
   "cell_type": "code",
   "execution_count": 0,
   "metadata": {
    "colab": {
     "base_uri": "https://localhost:8080/",
     "height": 204
    },
    "colab_type": "code",
    "id": "MnrpLHWmGcJ0",
    "outputId": "2c8e69a4-5a6f-49c0-d232-880bbc8f5110"
   },
   "outputs": [
    {
     "data": {
      "text/html": [
       "<div>\n",
       "<style scoped>\n",
       "    .dataframe tbody tr th:only-of-type {\n",
       "        vertical-align: middle;\n",
       "    }\n",
       "\n",
       "    .dataframe tbody tr th {\n",
       "        vertical-align: top;\n",
       "    }\n",
       "\n",
       "    .dataframe thead th {\n",
       "        text-align: right;\n",
       "    }\n",
       "</style>\n",
       "<table border=\"1\" class=\"dataframe\">\n",
       "  <thead>\n",
       "    <tr style=\"text-align: right;\">\n",
       "      <th></th>\n",
       "      <th>spam</th>\n",
       "      <th>tweet</th>\n",
       "      <th>number_of_words</th>\n",
       "      <th>tweet_length</th>\n",
       "    </tr>\n",
       "  </thead>\n",
       "  <tbody>\n",
       "    <tr>\n",
       "      <th>0</th>\n",
       "      <td>no</td>\n",
       "      <td>building neural network peter  peteraltmaier digitalisierung grundeinkommen klima covid19 1mai mikrosteuer teilhabe pflexit energiewende cradletocradle leavenoonebehind</td>\n",
       "      <td>23</td>\n",
       "      <td>269</td>\n",
       "    </tr>\n",
       "    <tr>\n",
       "      <th>1</th>\n",
       "      <td>no</td>\n",
       "      <td>hello  find short blog cnn</td>\n",
       "      <td>13</td>\n",
       "      <td>95</td>\n",
       "    </tr>\n",
       "    <tr>\n",
       "      <th>2</th>\n",
       "      <td>no</td>\n",
       "      <td>covid 19 workforce critical workers productivity future ai  artificialintelligence coronavirus</td>\n",
       "      <td>16</td>\n",
       "      <td>165</td>\n",
       "    </tr>\n",
       "    <tr>\n",
       "      <th>3</th>\n",
       "      <td>no</td>\n",
       "      <td>phd add data science career tivadar danka data science datascience artificialintelligence machinelearning bigdata robotics</td>\n",
       "      <td>23</td>\n",
       "      <td>188</td>\n",
       "    </tr>\n",
       "    <tr>\n",
       "      <th>4</th>\n",
       "      <td>no</td>\n",
       "      <td>check todays post ine instructor gilad gressel discusses common issues machinelearning able solve</td>\n",
       "      <td>22</td>\n",
       "      <td>139</td>\n",
       "    </tr>\n",
       "  </tbody>\n",
       "</table>\n",
       "</div>"
      ],
      "text/plain": [
       "  spam  ... tweet_length\n",
       "0   no  ...          269\n",
       "1   no  ...           95\n",
       "2   no  ...          165\n",
       "3   no  ...          188\n",
       "4   no  ...          139\n",
       "\n",
       "[5 rows x 4 columns]"
      ]
     },
     "execution_count": 18,
     "metadata": {
      "tags": []
     },
     "output_type": "execute_result"
    }
   ],
   "source": [
    "datasets['tweet'] = datasets['tweet'].apply(lambda x: clean_tweet(x)) # Clean tweet\n",
    "shuffle(datasets) # Shuffle datasets\n",
    "datasets.head()"
   ]
  },
  {
   "cell_type": "markdown",
   "metadata": {
    "colab_type": "text",
    "id": "ry86aGwgCb3P"
   },
   "source": [
    "### Categorical  Data Encoding\n",
    "Tweets are categorized as spam or non-spam indicated by `yes` or `no`. Most Machine learning learning models don't do well with strings data. They have to be converted to numeric data. The process of converting categorical data  like `yes` and `no` to numeric data is known as **Encoding**\n",
    "\n",
    "In the block below, we'll encode categorical variables."
   ]
  },
  {
   "cell_type": "code",
   "execution_count": 0,
   "metadata": {
    "colab": {
     "base_uri": "https://localhost:8080/",
     "height": 221
    },
    "colab_type": "code",
    "id": "7Mqa1UUEPgYM",
    "outputId": "53e04d06-78e2-4888-f257-7e1b6041ca3d"
   },
   "outputs": [
    {
     "name": "stdout",
     "output_type": "stream",
     "text": [
      "{0: 'no', 1: 'yes'}\n"
     ]
    },
    {
     "data": {
      "text/html": [
       "<div>\n",
       "<style scoped>\n",
       "    .dataframe tbody tr th:only-of-type {\n",
       "        vertical-align: middle;\n",
       "    }\n",
       "\n",
       "    .dataframe tbody tr th {\n",
       "        vertical-align: top;\n",
       "    }\n",
       "\n",
       "    .dataframe thead th {\n",
       "        text-align: right;\n",
       "    }\n",
       "</style>\n",
       "<table border=\"1\" class=\"dataframe\">\n",
       "  <thead>\n",
       "    <tr style=\"text-align: right;\">\n",
       "      <th></th>\n",
       "      <th>spam</th>\n",
       "      <th>tweet</th>\n",
       "      <th>number_of_words</th>\n",
       "      <th>tweet_length</th>\n",
       "      <th>label</th>\n",
       "    </tr>\n",
       "  </thead>\n",
       "  <tbody>\n",
       "    <tr>\n",
       "      <th>0</th>\n",
       "      <td>no</td>\n",
       "      <td>building neural network peter  peteraltmaier digitalisierung grundeinkommen klima covid19 1mai mikrosteuer teilhabe pflexit energiewende cradletocradle leavenoonebehind</td>\n",
       "      <td>23</td>\n",
       "      <td>269</td>\n",
       "      <td>0</td>\n",
       "    </tr>\n",
       "    <tr>\n",
       "      <th>1</th>\n",
       "      <td>no</td>\n",
       "      <td>hello  find short blog cnn</td>\n",
       "      <td>13</td>\n",
       "      <td>95</td>\n",
       "      <td>0</td>\n",
       "    </tr>\n",
       "    <tr>\n",
       "      <th>2</th>\n",
       "      <td>no</td>\n",
       "      <td>covid 19 workforce critical workers productivity future ai  artificialintelligence coronavirus</td>\n",
       "      <td>16</td>\n",
       "      <td>165</td>\n",
       "      <td>0</td>\n",
       "    </tr>\n",
       "    <tr>\n",
       "      <th>3</th>\n",
       "      <td>no</td>\n",
       "      <td>phd add data science career tivadar danka data science datascience artificialintelligence machinelearning bigdata robotics</td>\n",
       "      <td>23</td>\n",
       "      <td>188</td>\n",
       "      <td>0</td>\n",
       "    </tr>\n",
       "    <tr>\n",
       "      <th>4</th>\n",
       "      <td>no</td>\n",
       "      <td>check todays post ine instructor gilad gressel discusses common issues machinelearning able solve</td>\n",
       "      <td>22</td>\n",
       "      <td>139</td>\n",
       "      <td>0</td>\n",
       "    </tr>\n",
       "  </tbody>\n",
       "</table>\n",
       "</div>"
      ],
      "text/plain": [
       "  spam  ... label\n",
       "0   no  ...     0\n",
       "1   no  ...     0\n",
       "2   no  ...     0\n",
       "3   no  ...     0\n",
       "4   no  ...     0\n",
       "\n",
       "[5 rows x 5 columns]"
      ]
     },
     "execution_count": 19,
     "metadata": {
      "tags": []
     },
     "output_type": "execute_result"
    }
   ],
   "source": [
    "# Encode categorical variables\n",
    "encoder = LabelEncoder()\n",
    "spam_encoded = encoder.fit_transform(datasets['spam'])\n",
    "\n",
    "spam_index_mapping = {index: label for index, label in \n",
    "                  enumerate(encoder.classes_)}\n",
    "print(spam_index_mapping)\n",
    "# From the block above, we know that 0 means not a spam and 1 means a spam\n",
    "datasets['label'] = spam_encoded\n",
    "datasets.head()"
   ]
  },
  {
   "cell_type": "code",
   "execution_count": 0,
   "metadata": {
    "colab": {
     "base_uri": "https://localhost:8080/",
     "height": 68
    },
    "colab_type": "code",
    "id": "76ezd4qGqtWs",
    "outputId": "744dd4e1-2bb3-4c0b-e758-786393bb9573"
   },
   "outputs": [
    {
     "name": "stdout",
     "output_type": "stream",
     "text": [
      "average number of words:  9.04165\n",
      "average lenght of tweets:  69.7605\n",
      "maximum lenght of tweets 375\n"
     ]
    }
   ],
   "source": [
    "# Calculate the mean of the length of tweets\n",
    "datasets['number_of_words'] = datasets['tweet'].apply(lambda x: len(x.split()))\n",
    "datasets['tweet_length'] = datasets['tweet'].apply(lambda x: len(x))\n",
    "\n",
    "print(\"average number of words: \",np.mean(datasets['number_of_words']))\n",
    "print(\"average lenght of tweets: \", np.mean(datasets['tweet_length']))\n",
    "print(\"maximum lenght of tweets\", np.max(datasets['tweet_length']))"
   ]
  },
  {
   "cell_type": "markdown",
   "metadata": {
    "colab_type": "text",
    "id": "rsEmLcbhSkED"
   },
   "source": [
    "### Text Analytics\n",
    " Here, we'll find the frequencies of words in the spam and non-spam in tweets."
   ]
  },
  {
   "cell_type": "code",
   "execution_count": 0,
   "metadata": {
    "colab": {
     "base_uri": "https://localhost:8080/",
     "height": 385
    },
    "colab_type": "code",
    "id": "gVb7O2OhSwLP",
    "outputId": "11fb52d7-18ea-428d-d1da-1a6d633dae72"
   },
   "outputs": [
    {
     "data": {
      "image/png": "[encoded data removed]",
      "text/plain": [
       "<Figure size 432x288 with 1 Axes>"
      ]
     },
     "metadata": {
      "needs_background": "light",
      "tags": []
     },
     "output_type": "display_data"
    }
   ],
   "source": [
    "count1 = Counter(\" \".join(datasets[datasets['spam']=='no'][\"tweet\"]).split()).most_common(20)\n",
    "df1 = pd.DataFrame.from_dict(count1)\n",
    "df1 = df1.rename(columns={0: \"words in non-spam\", 1 : \"count\"})\n",
    "\n",
    "df1.plot.bar(legend = False)\n",
    "y_pos = np.arange(len(df1[\"words in non-spam\"]))\n",
    "plt.xticks(y_pos, df1[\"words in non-spam\"])\n",
    "plt.title('More frequent words in non-spam messages')\n",
    "plt.xlabel('words')\n",
    "plt.ylabel('number')\n",
    "plt.show()\n"
   ]
  },
  {
   "cell_type": "code",
   "execution_count": 0,
   "metadata": {
    "colab": {
     "base_uri": "https://localhost:8080/",
     "height": 319
    },
    "colab_type": "code",
    "id": "TwcooG7ZTSC_",
    "outputId": "18ea1aac-dc8d-4a9a-d42c-5ace56911f2e"
   },
   "outputs": [
    {
     "data": {
      "image/png": "[encoded data removed]",
      "text/plain": [
       "<Figure size 432x288 with 1 Axes>"
      ]
     },
     "metadata": {
      "needs_background": "light",
      "tags": []
     },
     "output_type": "display_data"
    }
   ],
   "source": [
    "count2 = Counter(\" \".join(datasets[datasets['spam']=='yes'][\"tweet\"]).split()).most_common(20)\n",
    "df2 = pd.DataFrame.from_dict(count2)\n",
    "df2 = df2.rename(columns={0: \"words in spam\", 1 : \"count_\"})\n",
    "df2.plot.bar(legend = False, color = 'orange')\n",
    "\n",
    "y_pos = np.arange(len(df2[\"words in spam\"]))\n",
    "plt.xticks(y_pos, df2[\"words in spam\"])\n",
    "plt.title('More frequent words in spam messages')\n",
    "plt.xlabel('words')\n",
    "plt.ylabel('number')\n",
    "plt.show()"
   ]
  },
  {
   "cell_type": "markdown",
   "metadata": {
    "colab_type": "text",
    "id": "1QwblK2OR3Ga"
   },
   "source": [
    "### Feature engineering.\n",
    "To further preprocess the input data, we need to perform a number of steps such as:\n",
    "* Tokenization\n",
    "* Word Stemming\n",
    "* Sentence encoding"
   ]
  },
  {
   "cell_type": "code",
   "execution_count": 0,
   "metadata": {
    "colab": {},
    "colab_type": "code",
    "id": "qBQoq1jcITOG"
   },
   "outputs": [],
   "source": [
    "stemmer = SnowballStemmer(language='english')\n",
    "def stem_tweet(tweet):\n",
    "  tokenized_tweets = []\n",
    "  doc = tweet.split() # Tokenize tweet\n",
    "  for word in doc:\n",
    "    word = stemmer.stem(word) # Stem word\n",
    "    tokenized_tweets.append(word)\n",
    "  return tokenized_tweets\n",
    "\n",
    "def save_dict(filename, data):\n",
    "  json.dump(data, open( filename, 'w' ) )\n"
   ]
  },
  {
   "cell_type": "code",
   "execution_count": 0,
   "metadata": {
    "colab": {
     "base_uri": "https://localhost:8080/",
     "height": 54
    },
    "colab_type": "code",
    "id": "A6jiDvaiX_KG",
    "outputId": "351a7428-1075-44d4-8bbb-c55c4108a5f5"
   },
   "outputs": [
    {
     "name": "stdout",
     "output_type": "stream",
     "text": [
      "['best', 'practic', 'in', 'mlop', 'product', 'model', 'deploy', 'model', 'monitor', 'lifecycl', 'manag', 'amp', 'govern', 'by', 'with', 'bigdata', 'datasci', 'ai', 'machinelearn', 'analyticsstrategi', 'aistrategi', 'artificialintellig']\n"
     ]
    }
   ],
   "source": [
    "# Testing the `stem_tweet` function\n",
    "text = 'best practices in mlops production model deployment model monitoring lifecycle management amp governance by with bigdata datascience ai machinelearning analyticsstrategy aistrategy artificialintelligence'\n",
    "print(stem_tweet(text))"
   ]
  },
  {
   "cell_type": "code",
   "execution_count": 0,
   "metadata": {
    "colab": {},
    "colab_type": "code",
    "id": "QddyHzx3JRZb"
   },
   "outputs": [],
   "source": [
    "# Build a vocabulary dictionary\n",
    "counts = Counter()\n",
    "for index, row in datasets.iterrows():\n",
    "  counts.update(stem_tweet(row['tweet']))\n"
   ]
  },
  {
   "cell_type": "code",
   "execution_count": 0,
   "metadata": {
    "colab": {
     "base_uri": "https://localhost:8080/",
     "height": 357
    },
    "colab_type": "code",
    "id": "t03vTZAeYtWX",
    "outputId": "3aff05e9-24fb-4763-f8bf-4ce8631a0413"
   },
   "outputs": [
    {
     "data": {
      "text/plain": [
       "[('ai', 4069),\n",
       " ('machinelearn', 3374),\n",
       " ('artificialintellig', 2610),\n",
       " ('datasci', 2591),\n",
       " ('robot', 1790),\n",
       " ('nt', 1742),\n",
       " ('data', 1669),\n",
       " ('learn', 1493),\n",
       " ('bigdata', 1199),\n",
       " ('gt', 979),\n",
       " ('thank', 908),\n",
       " ('deeplearn', 890),\n",
       " ('iot', 834),\n",
       " ('amp', 826),\n",
       " ('python', 799),\n",
       " ('analyt', 770),\n",
       " ('like', 754),\n",
       " ('machin', 747),\n",
       " ('intellig', 710),\n",
       " ('good', 702)]"
      ]
     },
     "execution_count": 26,
     "metadata": {
      "tags": []
     },
     "output_type": "execute_result"
    }
   ],
   "source": [
    "#Return top 10 most common\n",
    "counts.most_common(20)"
   ]
  },
  {
   "cell_type": "code",
   "execution_count": 0,
   "metadata": {
    "colab": {
     "base_uri": "https://localhost:8080/",
     "height": 51
    },
    "colab_type": "code",
    "id": "ueeoG4bGKUCe",
    "outputId": "5dd52520-63b0-4771-bfa4-55a92b5b8695"
   },
   "outputs": [
    {
     "name": "stdout",
     "output_type": "stream",
     "text": [
      "num_words before: 21005\n",
      "num_words after: 9648\n"
     ]
    }
   ],
   "source": [
    "# Removing infrequent words \n",
    "print(\"num_words before:\", len(counts.keys()))\n",
    "\n",
    "for word in list(counts):\n",
    "  if(counts[word] < 2):\n",
    "    del counts[word]\n",
    "print (\"num_words after:\", len(counts.keys()))   \n"
   ]
  },
  {
   "cell_type": "code",
   "execution_count": 0,
   "metadata": {
    "colab": {},
    "colab_type": "code",
    "id": "SrBSH60gLRKt"
   },
   "outputs": [],
   "source": [
    "# Creat vocabulary list\n",
    "vocab2index = {\"\":0, \"UNK\":1}\n",
    "words = [\"\", \"UNK\"]\n",
    "\n",
    "for word in counts:\n",
    "  vocab2index[word] = len(words)\n",
    "  words.append(word)\n",
    "\n",
    "# Save word_list\n",
    "save_dict(\"words.json\", words)\n",
    "save_dict(\"vocab2index.json\", vocab2index)\n"
   ]
  },
  {
   "cell_type": "code",
   "execution_count": 0,
   "metadata": {
    "colab": {},
    "colab_type": "code",
    "id": "-zTZM91DL87-"
   },
   "outputs": [],
   "source": [
    "# According to data exploration I did earlier, the number of characters in tweets average 69\n",
    "# I'll set the number of characters to be slightly higher. N=75\n",
    "def encode_sentence(text, vocab2index, N=75):\n",
    "  tokenized = stem_tweet(text)\n",
    "  encoded = np.zeros(N, dtype=int)\n",
    "  enc = np.array([vocab2index.get(word, vocab2index[\"UNK\"]) for word in tokenized])\n",
    "  length = min(N, len(enc))\n",
    "  encoded[:length] = enc[:length]\n",
    "  return encoded, length"
   ]
  },
  {
   "cell_type": "code",
   "execution_count": 0,
   "metadata": {
    "colab": {
     "base_uri": "https://localhost:8080/",
     "height": 374
    },
    "colab_type": "code",
    "id": "rrphm8U8OHor",
    "outputId": "4625a661-ec5e-4848-ab46-9e9e37d29b10"
   },
   "outputs": [
    {
     "data": {
      "text/html": [
       "<div>\n",
       "<style scoped>\n",
       "    .dataframe tbody tr th:only-of-type {\n",
       "        vertical-align: middle;\n",
       "    }\n",
       "\n",
       "    .dataframe tbody tr th {\n",
       "        vertical-align: top;\n",
       "    }\n",
       "\n",
       "    .dataframe thead th {\n",
       "        text-align: right;\n",
       "    }\n",
       "</style>\n",
       "<table border=\"1\" class=\"dataframe\">\n",
       "  <thead>\n",
       "    <tr style=\"text-align: right;\">\n",
       "      <th></th>\n",
       "      <th>spam</th>\n",
       "      <th>tweet</th>\n",
       "      <th>number_of_words</th>\n",
       "      <th>tweet_length</th>\n",
       "      <th>label</th>\n",
       "      <th>encoded_tweet</th>\n",
       "    </tr>\n",
       "  </thead>\n",
       "  <tbody>\n",
       "    <tr>\n",
       "      <th>0</th>\n",
       "      <td>no</td>\n",
       "      <td>building neural network peter  peteraltmaier digitalisierung grundeinkommen klima covid19 1mai mikrosteuer teilhabe pflexit energiewende cradletocradle leavenoonebehind</td>\n",
       "      <td>16</td>\n",
       "      <td>169</td>\n",
       "      <td>0</td>\n",
       "      <td>[[2, 3, 4, 5, 1, 1, 1, 1, 6, 1, 1, 1, 1, 1, 1, 1, 0, 0, 0, 0, 0, 0, 0, 0, 0, 0, 0, 0, 0, 0, 0, 0, 0, 0, 0, 0, 0, 0, 0, 0, 0, 0, 0, 0, 0, 0, 0, 0, 0, 0, 0, 0, 0, 0, 0, 0, 0, 0, 0, 0, 0, 0, 0, 0, 0, 0, 0, 0, 0, 0, 0, 0, 0, 0, 0], 16]</td>\n",
       "    </tr>\n",
       "    <tr>\n",
       "      <th>1</th>\n",
       "      <td>no</td>\n",
       "      <td>hello  find short blog cnn</td>\n",
       "      <td>5</td>\n",
       "      <td>27</td>\n",
       "      <td>0</td>\n",
       "      <td>[[7, 8, 9, 10, 11, 0, 0, 0, 0, 0, 0, 0, 0, 0, 0, 0, 0, 0, 0, 0, 0, 0, 0, 0, 0, 0, 0, 0, 0, 0, 0, 0, 0, 0, 0, 0, 0, 0, 0, 0, 0, 0, 0, 0, 0, 0, 0, 0, 0, 0, 0, 0, 0, 0, 0, 0, 0, 0, 0, 0, 0, 0, 0, 0, 0, 0, 0, 0, 0, 0, 0, 0, 0, 0, 0], 5]</td>\n",
       "    </tr>\n",
       "    <tr>\n",
       "      <th>2</th>\n",
       "      <td>no</td>\n",
       "      <td>covid 19 workforce critical workers productivity future ai  artificialintelligence coronavirus</td>\n",
       "      <td>10</td>\n",
       "      <td>94</td>\n",
       "      <td>0</td>\n",
       "      <td>[[12, 13, 14, 15, 16, 17, 18, 19, 20, 21, 0, 0, 0, 0, 0, 0, 0, 0, 0, 0, 0, 0, 0, 0, 0, 0, 0, 0, 0, 0, 0, 0, 0, 0, 0, 0, 0, 0, 0, 0, 0, 0, 0, 0, 0, 0, 0, 0, 0, 0, 0, 0, 0, 0, 0, 0, 0, 0, 0, 0, 0, 0, 0, 0, 0, 0, 0, 0, 0, 0, 0, 0, 0, 0, 0], 10]</td>\n",
       "    </tr>\n",
       "    <tr>\n",
       "      <th>3</th>\n",
       "      <td>no</td>\n",
       "      <td>phd add data science career tivadar danka data science datascience artificialintelligence machinelearning bigdata robotics</td>\n",
       "      <td>14</td>\n",
       "      <td>122</td>\n",
       "      <td>0</td>\n",
       "      <td>[[22, 23, 24, 25, 26, 27, 28, 24, 25, 29, 20, 30, 31, 32, 0, 0, 0, 0, 0, 0, 0, 0, 0, 0, 0, 0, 0, 0, 0, 0, 0, 0, 0, 0, 0, 0, 0, 0, 0, 0, 0, 0, 0, 0, 0, 0, 0, 0, 0, 0, 0, 0, 0, 0, 0, 0, 0, 0, 0, 0, 0, 0, 0, 0, 0, 0, 0, 0, 0, 0, 0, 0, 0, 0, 0], 14]</td>\n",
       "    </tr>\n",
       "    <tr>\n",
       "      <th>4</th>\n",
       "      <td>no</td>\n",
       "      <td>check todays post ine instructor gilad gressel discusses common issues machinelearning able solve</td>\n",
       "      <td>13</td>\n",
       "      <td>98</td>\n",
       "      <td>0</td>\n",
       "      <td>[[33, 34, 35, 36, 37, 38, 39, 40, 41, 42, 30, 43, 44, 0, 0, 0, 0, 0, 0, 0, 0, 0, 0, 0, 0, 0, 0, 0, 0, 0, 0, 0, 0, 0, 0, 0, 0, 0, 0, 0, 0, 0, 0, 0, 0, 0, 0, 0, 0, 0, 0, 0, 0, 0, 0, 0, 0, 0, 0, 0, 0, 0, 0, 0, 0, 0, 0, 0, 0, 0, 0, 0, 0, 0, 0], 13]</td>\n",
       "    </tr>\n",
       "  </tbody>\n",
       "</table>\n",
       "</div>"
      ],
      "text/plain": [
       "  spam  ...                                                                                                                                                                                                                                          encoded_tweet\n",
       "0   no  ...                [[2, 3, 4, 5, 1, 1, 1, 1, 6, 1, 1, 1, 1, 1, 1, 1, 0, 0, 0, 0, 0, 0, 0, 0, 0, 0, 0, 0, 0, 0, 0, 0, 0, 0, 0, 0, 0, 0, 0, 0, 0, 0, 0, 0, 0, 0, 0, 0, 0, 0, 0, 0, 0, 0, 0, 0, 0, 0, 0, 0, 0, 0, 0, 0, 0, 0, 0, 0, 0, 0, 0, 0, 0, 0, 0], 16]\n",
       "1   no  ...               [[7, 8, 9, 10, 11, 0, 0, 0, 0, 0, 0, 0, 0, 0, 0, 0, 0, 0, 0, 0, 0, 0, 0, 0, 0, 0, 0, 0, 0, 0, 0, 0, 0, 0, 0, 0, 0, 0, 0, 0, 0, 0, 0, 0, 0, 0, 0, 0, 0, 0, 0, 0, 0, 0, 0, 0, 0, 0, 0, 0, 0, 0, 0, 0, 0, 0, 0, 0, 0, 0, 0, 0, 0, 0, 0], 5]\n",
       "2   no  ...      [[12, 13, 14, 15, 16, 17, 18, 19, 20, 21, 0, 0, 0, 0, 0, 0, 0, 0, 0, 0, 0, 0, 0, 0, 0, 0, 0, 0, 0, 0, 0, 0, 0, 0, 0, 0, 0, 0, 0, 0, 0, 0, 0, 0, 0, 0, 0, 0, 0, 0, 0, 0, 0, 0, 0, 0, 0, 0, 0, 0, 0, 0, 0, 0, 0, 0, 0, 0, 0, 0, 0, 0, 0, 0, 0], 10]\n",
       "3   no  ...  [[22, 23, 24, 25, 26, 27, 28, 24, 25, 29, 20, 30, 31, 32, 0, 0, 0, 0, 0, 0, 0, 0, 0, 0, 0, 0, 0, 0, 0, 0, 0, 0, 0, 0, 0, 0, 0, 0, 0, 0, 0, 0, 0, 0, 0, 0, 0, 0, 0, 0, 0, 0, 0, 0, 0, 0, 0, 0, 0, 0, 0, 0, 0, 0, 0, 0, 0, 0, 0, 0, 0, 0, 0, 0, 0], 14]\n",
       "4   no  ...   [[33, 34, 35, 36, 37, 38, 39, 40, 41, 42, 30, 43, 44, 0, 0, 0, 0, 0, 0, 0, 0, 0, 0, 0, 0, 0, 0, 0, 0, 0, 0, 0, 0, 0, 0, 0, 0, 0, 0, 0, 0, 0, 0, 0, 0, 0, 0, 0, 0, 0, 0, 0, 0, 0, 0, 0, 0, 0, 0, 0, 0, 0, 0, 0, 0, 0, 0, 0, 0, 0, 0, 0, 0, 0, 0], 13]\n",
       "\n",
       "[5 rows x 6 columns]"
      ]
     },
     "execution_count": 30,
     "metadata": {
      "tags": []
     },
     "output_type": "execute_result"
    }
   ],
   "source": [
    "datasets['encoded_tweet'] = datasets['tweet'].apply(lambda x: np.array(encode_sentence(x, vocab2index)))\n",
    "datasets.head()"
   ]
  },
  {
   "cell_type": "code",
   "execution_count": 0,
   "metadata": {
    "colab": {},
    "colab_type": "code",
    "id": "VP7mgc0GRVOK"
   },
   "outputs": [],
   "source": [
    "# Drop rows whose tweet_length =\n",
    "tweet_datasets = datasets.loc[datasets['number_of_words'] > 0]\n",
    "tweet_datasets = tweet_datasets.reset_index()"
   ]
  },
  {
   "cell_type": "markdown",
   "metadata": {
    "colab_type": "text",
    "id": "Q2TBUEk_PN10"
   },
   "source": [
    "### Datasets splitting\n",
    "One of the major challenges in machine learning is overfitting. Overfitting is when a model is so tuned to the training sets that it’s unable to make accurate predictions on data outside of the training sets.\n",
    "\n",
    "To be prevent overfitting, I'm going to split the datasets into train and test datasets.\n",
    "A train dataset will be used in learning (fitting the model).\n",
    "\n",
    "Besides holding out some data for training, I’ll also hold out some independent data for testing. \n",
    "\n",
    "60% of the dataset will be used for training and 40% will be used for validation.\n",
    "\n"
   ]
  },
  {
   "cell_type": "code",
   "execution_count": 0,
   "metadata": {
    "colab": {},
    "colab_type": "code",
    "id": "xFOsJiHFPgf2"
   },
   "outputs": [],
   "source": [
    "X = list(tweet_datasets['encoded_tweet'])\n",
    "y = list(tweet_datasets['label'])\n",
    "\n",
    "X_train, X_test, y_train, y_test = train_test_split(X, y, test_size=0.4, shuffle=True)\n",
    "\n",
    "assert len(X_train) == len(y_train)\n",
    "assert len(X_test) == len(y_test)\n",
    "assert (len(X_test)+ len(X_train) ==  tweet_datasets['encoded_tweet'].count())\n",
    "\n"
   ]
  },
  {
   "cell_type": "markdown",
   "metadata": {
    "colab_type": "text",
    "id": "ZuqFxNYAQqrI"
   },
   "source": [
    "### Creating a custom TweetLoader\n",
    " We'll create a custom dataset. This custom dataset will extend Pytorch `Dataset` class"
   ]
  },
  {
   "cell_type": "code",
   "execution_count": 0,
   "metadata": {
    "colab": {},
    "colab_type": "code",
    "id": "33y2tSlKQGYx"
   },
   "outputs": [],
   "source": [
    "class TweetDataset(Dataset):\n",
    "    def __init__(self, X, y):\n",
    "        self.X = X\n",
    "        self.y = y\n",
    "        \n",
    "    def __len__(self):\n",
    "        return len(self.y)\n",
    "    \n",
    "    def __getitem__(self, index):\n",
    "        tweet = torch.from_numpy(self.X[index][0].astype(np.int32))\n",
    "        label = self.y[index]\n",
    "        length = self.X[index][1]\n",
    "\n",
    "        return tweet, label, length\n",
    "        "
   ]
  },
  {
   "cell_type": "code",
   "execution_count": 0,
   "metadata": {
    "colab": {},
    "colab_type": "code",
    "id": "F-xwcAe_UMkL"
   },
   "outputs": [],
   "source": [
    "train_dataset = TweetDataset(X_train, y_train)\n",
    "test_dataset = TweetDataset(X_test, y_test)"
   ]
  },
  {
   "cell_type": "markdown",
   "metadata": {
    "colab_type": "text",
    "id": "8c_RrlFJnVKd"
   },
   "source": [
    "### Network Architecture\n",
    "Within the __init__ method, I define the layers of the network module.\n",
    "There are three layers: an embedding layer, LSTM layer and a linear layer.\n",
    "The embedding layer is used to transform the sparse encoded vector into a dense embedding vector. \n",
    "\n",
    "\n",
    "The linear layer takes the final hidden state and feeds it through a fully connected  layer, transforming it to the correct output dimension."
   ]
  },
  {
   "cell_type": "code",
   "execution_count": 0,
   "metadata": {
    "colab": {},
    "colab_type": "code",
    "id": "ZOgJy_LIBAYo"
   },
   "outputs": [],
   "source": [
    "import torch.nn as nn\n",
    "from torch.nn.utils.rnn import pack_padded_sequence, pad_packed_sequence\n",
    "\n",
    "class LSTMClassifier(nn.Module):\n",
    "    \"\"\"\n",
    "    This is the simple LSTM architecture\n",
    "    \"\"\"\n",
    "\n",
    "    def __init__(self, input_dim, embed_dim, hidden_dim, output_dim,\n",
    "                 n_layers, bidirectional, dropout, pad_idx):\n",
    "        \"\"\"\n",
    "        Initialize the model by settingg up the various layers.\n",
    "        \"\"\"\n",
    "        super().__init__()\n",
    "\n",
    "        self.embedding = nn.Embedding(input_dim, embed_dim, padding_idx=pad_idx)\n",
    "        self.lstm = nn.LSTM(embed_dim, \n",
    "                            hidden_dim, \n",
    "                            num_layers=n_layers,\n",
    "                            bidirectional=bidirectional,\n",
    "                            dropout=dropout,\n",
    "                            batch_first=True)\n",
    "        self.fc = nn.Linear(hidden_dim *2, output_dim)\n",
    "        self.dropout = nn.Dropout(dropout)\n",
    "        self.sig = nn.Sigmoid()\n",
    "\n",
    "        \n",
    "    def forward(self, tweet, length):\n",
    "        \"\"\"\n",
    "        Perform a forward pass of our model on input.\n",
    "        \"\"\"\n",
    "        embeds = self.dropout(self.embedding(tweet))\n",
    "        # embeds = [batch_size, length, embed dim]\n",
    "        packed_embeds = pack_padded_sequence(embeds, length, batch_first=True, enforce_sorted=False)\n",
    "\n",
    "        lstm_out, (hidden, _) = self.lstm(packed_embeds)\n",
    "        output, output_lengths = pad_packed_sequence(lstm_out, batch_first=True)\n",
    "        #output = [batch_size, length, hidden_dim * num]\n",
    "\n",
    "        hidden = self.dropout(torch.cat((hidden[-2,:,:], hidden[-1,:,:]), dim = 1))\n",
    "\n",
    "        result = self.fc(hidden)\n",
    "        \n",
    "        # output size [batch_size,  length, hidden_dim]\n",
    "        return self.sig(result)\n"
   ]
  },
  {
   "cell_type": "code",
   "execution_count": 0,
   "metadata": {
    "colab": {},
    "colab_type": "code",
    "id": "rnwH9XE52Daf"
   },
   "outputs": [],
   "source": [
    "# vocab2index = {\"\":0, \"UNK\":1}\n",
    "\n",
    "def index2word(tensor):\n",
    "  \"\"\"\n",
    "    It takes a tensor argument and contructs back to a text\n",
    "  \"\"\"\n",
    "  index2word = {index:word for word,index in vocab2index.items()}\n",
    "  data = tensor.numpy()\n",
    "  print(data.shape)\n",
    "  words_list = []\n",
    "  for row in data:\n",
    "    for cell in row:\n",
    "      word = index2word[cell]\n",
    "      words_list.append(word)\n",
    "\n",
    "  word = \" \".join(words_list)\n",
    "  print(word)\n"
   ]
  },
  {
   "cell_type": "code",
   "execution_count": 0,
   "metadata": {
    "colab": {},
    "colab_type": "code",
    "id": "8n5cpE5I_ihi"
   },
   "outputs": [],
   "source": [
    "# Trainable parameters\n",
    "def count_trainable_params(model):\n",
    "  \"\"\"\n",
    "   Print a string of trainable parameters in a model\n",
    "  Args:\n",
    "      model (object): The model object\n",
    "  \"\"\"\n",
    "  n_params = sum(p.numel() for p in model.parameters() if p.requires_grad)\n",
    "\n",
    "  print(f'The model has {n_params} trainable paramters')"
   ]
  },
  {
   "cell_type": "code",
   "execution_count": 0,
   "metadata": {
    "colab": {},
    "colab_type": "code",
    "id": "Nk_mh2NiAwC9"
   },
   "outputs": [],
   "source": [
    "# Calculate accuracy\n",
    "def cal_accuracy(preds, y):\n",
    "  \"\"\"\n",
    "  Returns accuracy per batch. i.e 6 out of 10 means 0.6\n",
    "  \"\"\"\n",
    "  preds = torch.round(preds) # Round prediction up i.e 0.0 and 1.0\n",
    "  correct = (preds == y)\n",
    "  correct = correct.float()\n",
    "  #print(f'correct: {correct.sum()}, wrong {len(correct)}')\n",
    "  acc = correct.sum()/ len(correct)\n",
    "  return acc\n",
    "\n",
    "\n",
    "def convert_pred(y_preds, y_true):\n",
    "  #y_true = y_true.cpu().detach()\n",
    "  #y_preds = y_preds.cpu().detach()\n",
    "  y_preds = torch.round(y_preds) # Round prediction up i.e 0.0 and 1.0  \n",
    "\n",
    "  return y_preds, y_true\n",
    "\n",
    "\n",
    "def cal_f1_score(y_pred, y_true):\n",
    "  \"\"\"\n",
    "    Returns an f1 score \n",
    "  \"\"\"\n",
    "  y_pred, y_true = convert_pred(y_pred, y_true)\n",
    "  f1 = f1_score(y_pred, y_true)\n",
    "\n",
    "  return f1"
   ]
  },
  {
   "cell_type": "code",
   "execution_count": 0,
   "metadata": {
    "colab": {},
    "colab_type": "code",
    "id": "1H0kmjNAJ9e2"
   },
   "outputs": [],
   "source": [
    "\n",
    "def train(model, train_loader, optimizer, loss_fn, device):\n",
    "    epoch_loss = 0\n",
    "    epoch_acc = 0\n",
    "    model.train()\n",
    "\n",
    "    for batch in train_loader:\n",
    "      optimizer.zero_grad()\n",
    "      tweet, label, length = batch\n",
    "      tweet, length, label = tweet.long(), length.long(), label.float()\n",
    "      tweet = tweet.to(device)\n",
    "      label = label.to(device)\n",
    "      length = length.to(device)\n",
    "      predictions = model(tweet, length).squeeze(1)  # Outputs is 2 dim Float tensor\n",
    "      loss = loss_fn(predictions, label)\n",
    "      acc = cal_accuracy(predictions,label)\n",
    "      loss.backward()\n",
    "      optimizer.step()\n",
    "      epoch_loss += loss.item()\n",
    "      epoch_acc += acc.item() \n",
    "\n",
    "    return epoch_loss/len(train_loader), epoch_acc/ len(train_loader)"
   ]
  },
  {
   "cell_type": "code",
   "execution_count": 0,
   "metadata": {
    "colab": {},
    "colab_type": "code",
    "id": "aTeFXkOzMNIP"
   },
   "outputs": [],
   "source": [
    "def evaluate_model(model, loader, criterion):\n",
    "  device = torch.device(\"cuda\" if torch.cuda.is_available() else \"cpu\")\n",
    "  epoch_loss = 0 \n",
    "  epoch_acc = 0\n",
    "  y_preds = None\n",
    "  y_true = None\n",
    "\n",
    "  model.eval()\n",
    "  with torch.no_grad():\n",
    "    for batch in loader:\n",
    "      tweet, label, length = batch\n",
    "      tweet, length, label = tweet.long(), length.long(), label.float()\n",
    "      tweet = tweet.to(device)\n",
    "      label = label.to(device)\n",
    "      length = length.to(device)\n",
    "      predictions = model(tweet, length).squeeze(1)\n",
    "      loss = criterion(predictions, label)\n",
    "      acc = cal_accuracy(predictions ,label)\n",
    "      pred = torch.round(predictions) # Round up to 0.0, or 1.0\n",
    "      \n",
    "      if y_preds == None:\n",
    "        y_preds = pred\n",
    "        y_true = label\n",
    "      else:\n",
    "        y_preds = torch.cat([y_preds, pred])\n",
    "        y_true = torch.cat([y_true, label])\n",
    "\n",
    "      epoch_loss += loss.item()\n",
    "      epoch_acc += acc.item()\n",
    "\n",
    "  return epoch_loss/ len(loader), epoch_acc / len(loader), y_preds, y_true"
   ]
  },
  {
   "cell_type": "code",
   "execution_count": 0,
   "metadata": {
    "colab": {},
    "colab_type": "code",
    "id": "DpJdykmlpKpm"
   },
   "outputs": [],
   "source": [
    "def epoch_time(start_time, end_time):\n",
    "    elapsed_time = end_time - start_time\n",
    "    elapsed_mins = int(elapsed_time / 60)\n",
    "    elapsed_secs = int(elapsed_time - (elapsed_mins * 60))\n",
    "    return elapsed_mins, elapsed_secs"
   ]
  },
  {
   "cell_type": "code",
   "execution_count": 0,
   "metadata": {
    "colab": {},
    "colab_type": "code",
    "id": "l2SLDr0xNYU_"
   },
   "outputs": [],
   "source": [
    "train_loss_list = []\n",
    "valid_loss_list = []\n",
    "\n",
    "def start_training(model, train_loader, test_loader, optimizer, criterion, epochs=5):\n",
    "  best_valid_loss = float('inf')\n",
    "  device = torch.device(\"cuda\" if torch.cuda.is_available() else \"cpu\")\n",
    "  # Take advantage of GPU if one is available\n",
    "  model = model.to(device)\n",
    "  criterion = criterion.to(device)\n",
    "\n",
    "  for epoch in range(epochs):\n",
    "    start_time  = time.time()\n",
    "    \n",
    "    train_loss, train_acc = train(model=model, train_loader=train_loader, optimizer=optimizer, loss_fn=criterion, device=device)\n",
    "    valid_loss, valid_acc, _, _ = evaluate_model(model= model, loader=test_loader,criterion=criterion)\n",
    "\n",
    "    end_time = time.time()\n",
    "    epoch_mins, epoch_secs = epoch_time(start_time, end_time)\n",
    "\n",
    "    train_loss_list.append(train_loss)\n",
    "    valid_loss_list.append(valid_loss)\n",
    "\n",
    "    if valid_loss < best_valid_loss:\n",
    "      best_valid_loss = best_valid_loss\n",
    "      torch.save(model.state_dict(), 'model.pt')\n",
    "    print(f'Epoch {epoch+1} | Epoch time: {epoch_mins}:{epoch_secs}s')\n",
    "    print(f'\\t Train Loss : {train_loss:.3f} | Train acc: {train_acc *100:.2f}%')\n",
    "    print(f'\\t Val. Loss : {valid_loss:.3f} | Val acc: {valid_acc *100:.2f}%')\n",
    "  \n"
   ]
  },
  {
   "cell_type": "markdown",
   "metadata": {
    "colab_type": "text",
    "id": "aJFpdYzyYwOM"
   },
   "source": [
    "### Defining model hyper-\n",
    "\n",
    "```\n",
    "# This is formatted as code\n",
    "```\n",
    "\n",
    "parametters"
   ]
  },
  {
   "cell_type": "code",
   "execution_count": 0,
   "metadata": {
    "colab": {
     "base_uri": "https://localhost:8080/",
     "height": 34
    },
    "colab_type": "code",
    "id": "PJw7T7oGbfoI",
    "outputId": "ff98ede0-5fd3-4e81-a2a5-71d8ea4cc210"
   },
   "outputs": [
    {
     "name": "stdout",
     "output_type": "stream",
     "text": [
      "9650\n"
     ]
    }
   ],
   "source": [
    "print(len(words))"
   ]
  },
  {
   "cell_type": "code",
   "execution_count": 0,
   "metadata": {
    "colab": {},
    "colab_type": "code",
    "id": "_Hyp9aNoUZS5"
   },
   "outputs": [],
   "source": [
    "batch_size = 70\n",
    "embed_dim = 160\n",
    "hidden_dim = 500\n",
    "output_dim = len(spam_index_mapping)-1 # The output dimension is usually the number of classes, however in the case of only 2 classes the output value is between 0 and 1 and thus can be 1-dimensional, i.e. a single scalar real number.\n",
    "input_dim = len(words)\n",
    "n_layers =2\n",
    "bidirectional = True\n",
    "dropout = 0.5\n",
    "pad_idx = 1\n",
    "\n",
    "lr = 1e-3\n",
    "train_loader = DataLoader(train_dataset, batch_size=batch_size, shuffle=True)\n",
    "test_loader = DataLoader(test_dataset, batch_size=batch_size, shuffle=True)\n"
   ]
  },
  {
   "cell_type": "code",
   "execution_count": 0,
   "metadata": {
    "colab": {
     "base_uri": "https://localhost:8080/",
     "height": 153
    },
    "colab_type": "code",
    "id": "pJHrsQCoUc8F",
    "outputId": "406ec396-3645-4b62-d66c-c2f31f2205b6"
   },
   "outputs": [
    {
     "name": "stdout",
     "output_type": "stream",
     "text": [
      "The model has 10201001 trainable paramters\n"
     ]
    },
    {
     "data": {
      "text/plain": [
       "LSTMClassifier(\n",
       "  (embedding): Embedding(9650, 160, padding_idx=1)\n",
       "  (lstm): LSTM(160, 500, num_layers=2, batch_first=True, dropout=0.5, bidirectional=True)\n",
       "  (fc): Linear(in_features=1000, out_features=1, bias=True)\n",
       "  (dropout): Dropout(p=0.5, inplace=False)\n",
       "  (sig): Sigmoid()\n",
       ")"
      ]
     },
     "execution_count": 63,
     "metadata": {
      "tags": []
     },
     "output_type": "execute_result"
    }
   ],
   "source": [
    "model = LSTMClassifier(input_dim=input_dim, hidden_dim=hidden_dim,\n",
    "                       embed_dim=embed_dim, output_dim=output_dim,\n",
    "                       bidirectional=bidirectional, dropout=dropout,\n",
    "                       n_layers=n_layers, pad_idx=pad_idx\n",
    "                       )\n",
    "optimizer = optim.Adam(model.parameters(), lr=lr)\n",
    "loss_fn = torch.nn.BCELoss()\n",
    "count_trainable_params(model)\n",
    "model\n"
   ]
  },
  {
   "cell_type": "markdown",
   "metadata": {
    "colab_type": "text",
    "id": "QM0z_hKgZcaa"
   },
   "source": [
    "### Training the model"
   ]
  },
  {
   "cell_type": "code",
   "execution_count": 0,
   "metadata": {
    "colab": {
     "base_uri": "https://localhost:8080/",
     "height": 527
    },
    "colab_type": "code",
    "id": "tjFJh-aLGJN4",
    "outputId": "849b50d2-831d-4639-be76-ee12e701327a"
   },
   "outputs": [
    {
     "name": "stdout",
     "output_type": "stream",
     "text": [
      "Epoch 1 | Epoch time: 0:17s\n",
      "\t Train Loss : 0.033 | Train acc: 98.78%\n",
      "\t Val. Loss : 0.113 | Val acc: 97.18%\n",
      "Epoch 2 | Epoch time: 0:17s\n",
      "\t Train Loss : 0.031 | Train acc: 98.97%\n",
      "\t Val. Loss : 0.103 | Val acc: 97.42%\n",
      "Epoch 3 | Epoch time: 0:17s\n",
      "\t Train Loss : 0.026 | Train acc: 99.08%\n",
      "\t Val. Loss : 0.117 | Val acc: 97.37%\n",
      "Epoch 4 | Epoch time: 0:17s\n",
      "\t Train Loss : 0.025 | Train acc: 99.09%\n",
      "\t Val. Loss : 0.149 | Val acc: 97.32%\n",
      "Epoch 5 | Epoch time: 0:17s\n",
      "\t Train Loss : 0.023 | Train acc: 99.24%\n",
      "\t Val. Loss : 0.140 | Val acc: 97.24%\n",
      "Epoch 6 | Epoch time: 0:16s\n",
      "\t Train Loss : 0.019 | Train acc: 99.33%\n",
      "\t Val. Loss : 0.130 | Val acc: 97.44%\n",
      "Epoch 7 | Epoch time: 0:17s\n",
      "\t Train Loss : 0.022 | Train acc: 99.15%\n",
      "\t Val. Loss : 0.130 | Val acc: 97.57%\n",
      "Epoch 8 | Epoch time: 0:17s\n",
      "\t Train Loss : 0.020 | Train acc: 99.28%\n",
      "\t Val. Loss : 0.133 | Val acc: 97.31%\n",
      "Epoch 9 | Epoch time: 0:16s\n",
      "\t Train Loss : 0.019 | Train acc: 99.29%\n",
      "\t Val. Loss : 0.127 | Val acc: 97.41%\n",
      "Epoch 10 | Epoch time: 0:16s\n",
      "\t Train Loss : 0.018 | Train acc: 99.52%\n",
      "\t Val. Loss : 0.111 | Val acc: 97.49%\n"
     ]
    }
   ],
   "source": [
    "start_training(model, train_loader, test_loader , optimizer, loss_fn, epochs=10)"
   ]
  },
  {
   "cell_type": "code",
   "execution_count": 0,
   "metadata": {
    "colab": {
     "base_uri": "https://localhost:8080/",
     "height": 295
    },
    "colab_type": "code",
    "id": "aVkilSriVwZ4",
    "outputId": "6ed72902-b481-4b4e-9e2b-ba423061b401"
   },
   "outputs": [
    {
     "data": {
      "image/png": "[encoded data removed]",
      "text/plain": [
       "<Figure size 432x288 with 1 Axes>"
      ]
     },
     "metadata": {
      "needs_background": "light",
      "tags": []
     },
     "output_type": "display_data"
    }
   ],
   "source": [
    "epochs = range(1,11)\n",
    "plt.plot(epochs, train_loss_list, 'g', label='Training loss')\n",
    "plt.plot(epochs, valid_loss_list, 'b', label='validation loss')\n",
    "plt.title('Training and Validation loss')\n",
    "plt.xlabel('Epochs')\n",
    "plt.ylabel('Loss')\n",
    "plt.legend()\n",
    "plt.show()"
   ]
  },
  {
   "cell_type": "code",
   "execution_count": 0,
   "metadata": {
    "colab": {},
    "colab_type": "code",
    "id": "8qCkcUHucNAO"
   },
   "outputs": [],
   "source": [
    "# Archive model artifacts\n",
    "! cp *.json ./drive/My\\ Drive/hubofml/\n",
    "! cp model.pt ./drive/My\\ Drive/hubofml/inference_model.pt"
   ]
  },
  {
   "cell_type": "markdown",
   "metadata": {
    "colab_type": "text",
    "id": "8uiMqQCTpzsL"
   },
   "source": [
    "## Testing the model"
   ]
  },
  {
   "cell_type": "code",
   "execution_count": 0,
   "metadata": {
    "colab": {},
    "colab_type": "code",
    "id": "kDj8ndJfkMT2"
   },
   "outputs": [],
   "source": [
    "model.load_state_dict(torch.load('model.pt'))\n",
    "test_loss, test_acc, y_preds, y_true = evaluate_model(model, test_loader, loss_fn)\n",
    "y_true = y_true.cpu().numpy()\n",
    "y_preds = y_preds.cpu().numpy()\n",
    "\n",
    "print(f'Test Loss: {test_loss:.3f} | Test Acc: {test_acc*100:.2f}% | F1 Score: {f1_score(y_true, y_preds)} |Recall {recall_score(y_true, y_preds)} | Precision {precision_score(y_true, y_preds)} '  )"
   ]
  },
  {
   "cell_type": "code",
   "execution_count": 0,
   "metadata": {
    "colab": {},
    "colab_type": "code",
    "id": "6paFHQYgkV8Y"
   },
   "outputs": [],
   "source": [
    "def predict(tweet, model, vocab2index=vocab2index):\n",
    "  device = torch.device(\"cuda\" if torch.cuda.is_available() else \"cpu\")\n",
    "  print(device)\n",
    "  tweet = clean_tweet(tweet)\n",
    "  twt, length = tweet_encoded = encode_sentence(tweet, vocab2index)\n",
    "  print(length)\n",
    "  \n",
    "  #print(length.type())\n",
    "  twt = torch.Tensor(twt).type(torch.LongTensor)\n",
    "\n",
    "  model, twt, length = model.to(device), twt.to(device), length\n",
    "  pred= model(twt, length)\n",
    "\n",
    "  return torch.round(pred)"
   ]
  },
  {
   "cell_type": "code",
   "execution_count": 0,
   "metadata": {
    "colab": {},
    "colab_type": "code",
    "id": "0K3fIfE3a_3s"
   },
   "outputs": [],
   "source": [
    "test_tweet = 'Applying #machinelearning to study women working is difficult given many went by \"Mrs husband’s name\".'\n",
    "#print(predict(test_tweet, model))"
   ]
  },
  {
   "cell_type": "code",
   "execution_count": 0,
   "metadata": {
    "colab": {},
    "colab_type": "code",
    "id": "qh5bv6JFbreY"
   },
   "outputs": [],
   "source": [
    "import torch\n",
    "print(torch.__version__)"
   ]
  },
  {
   "cell_type": "code",
   "execution_count": 0,
   "metadata": {
    "colab": {},
    "colab_type": "code",
    "id": "kyU8vKnZoeYf"
   },
   "outputs": [],
   "source": []
  }
 ],
 "metadata": {
  "accelerator": "GPU",
  "colab": {
   "authorship_tag": "ABX9TyPXzyOZ6kxv9ZrlAv38+wMM",
   "collapsed_sections": [],
   "include_colab_link": true,
   "machine_shape": "hm",
   "mount_file_id": "1PXNSK-O63wZkqE-LRa9yzWSwrFsD41WY",
   "name": "TweetClassification.ipynb",
   "provenance": [],
   "toc_visible": true
  },
  "kernelspec": {
   "display_name": "Python 3",
   "language": "python",
   "name": "python3"
  },
  "language_info": {
   "codemirror_mode": {
    "name": "ipython",
    "version": 3
   },
   "file_extension": ".py",
   "mimetype": "text/x-python",
   "name": "python",
   "nbconvert_exporter": "python",
   "pygments_lexer": "ipython3",
   "version": "3.7.4"
  }
 },
 "nbformat": 4,
 "nbformat_minor": 1
}
