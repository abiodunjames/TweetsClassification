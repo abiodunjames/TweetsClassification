{
  "nbformat": 4,
  "nbformat_minor": 0,
  "metadata": {
    "colab": {
      "name": "TweetClassification1.ipynb",
      "provenance": [],
      "collapsed_sections": [],
      "toc_visible": true,
      "machine_shape": "hm",
      "mount_file_id": "1G4afl1iOQFW3AIJYueLHnrSohfg2fLsO",
      "authorship_tag": "ABX9TyN5oAa/7eo70LxyjVcdVd1F",
      "include_colab_link": true
    },
    "kernelspec": {
      "name": "python3",
      "display_name": "Python 3"
    },
    "accelerator": "GPU"
  },
  "cells": [
    {
      "cell_type": "markdown",
      "metadata": {
        "id": "view-in-github",
        "colab_type": "text"
      },
      "source": [
        "<a href=\"https://colab.research.google.com/github/abiodunjames/TweetsClassification/blob/master/FirstAttempt.ipynb\" target=\"_parent\"><img src=\"https://colab.research.google.com/assets/colab-badge.svg\" alt=\"Open In Colab\"/></a>"
      ]
    },
    {
      "cell_type": "markdown",
      "metadata": {
        "id": "I7KyPq5jM2T_",
        "colab_type": "text"
      },
      "source": [
        "### Install Libraries\n",
        "There are python libraries needed for the training. In the block below, I'll install them using pip\n",
        "\n",
        "* `demoji` is used to remove emojis from tweets. This will be used at the pre-processing step."
      ]
    },
    {
      "cell_type": "code",
      "metadata": {
        "id": "5hX22ezxcwDi",
        "colab_type": "code",
        "outputId": "32274da1-3224-46d4-9406-f416c0f93021",
        "colab": {
          "base_uri": "https://localhost:8080/",
          "height": 700
        }
      },
      "source": [
        "! mkdir data\n",
        "! cp ./drive/My\\ Drive/hubofml/*.csv ./data\n",
        "!pip install demoji\n",
        "!python -m spacy download en"
      ],
      "execution_count": 0,
      "outputs": [
        {
          "output_type": "stream",
          "text": [
            "Collecting demoji\n",
            "  Downloading https://files.pythonhosted.org/packages/da/0b/d008f26ebbfd86d21117267e627f2f7359c76e5ecbeba08d8f631f4092c4/demoji-0.2.1-py2.py3-none-any.whl\n",
            "Requirement already satisfied: setuptools in /usr/local/lib/python3.6/dist-packages (from demoji) (46.1.3)\n",
            "Collecting colorama\n",
            "  Downloading https://files.pythonhosted.org/packages/c9/dc/45cdef1b4d119eb96316b3117e6d5708a08029992b2fee2c143c7a0a5cc5/colorama-0.4.3-py2.py3-none-any.whl\n",
            "Requirement already satisfied: requests<3.0.0 in /usr/local/lib/python3.6/dist-packages (from demoji) (2.23.0)\n",
            "Requirement already satisfied: idna<3,>=2.5 in /usr/local/lib/python3.6/dist-packages (from requests<3.0.0->demoji) (2.9)\n",
            "Requirement already satisfied: urllib3!=1.25.0,!=1.25.1,<1.26,>=1.21.1 in /usr/local/lib/python3.6/dist-packages (from requests<3.0.0->demoji) (1.24.3)\n",
            "Requirement already satisfied: certifi>=2017.4.17 in /usr/local/lib/python3.6/dist-packages (from requests<3.0.0->demoji) (2020.4.5.1)\n",
            "Requirement already satisfied: chardet<4,>=3.0.2 in /usr/local/lib/python3.6/dist-packages (from requests<3.0.0->demoji) (3.0.4)\n",
            "Installing collected packages: colorama, demoji\n",
            "Successfully installed colorama-0.4.3 demoji-0.2.1\n",
            "Requirement already satisfied: en_core_web_sm==2.2.5 from https://github.com/explosion/spacy-models/releases/download/en_core_web_sm-2.2.5/en_core_web_sm-2.2.5.tar.gz#egg=en_core_web_sm==2.2.5 in /usr/local/lib/python3.6/dist-packages (2.2.5)\n",
            "Requirement already satisfied: spacy>=2.2.2 in /usr/local/lib/python3.6/dist-packages (from en_core_web_sm==2.2.5) (2.2.4)\n",
            "Requirement already satisfied: blis<0.5.0,>=0.4.0 in /usr/local/lib/python3.6/dist-packages (from spacy>=2.2.2->en_core_web_sm==2.2.5) (0.4.1)\n",
            "Requirement already satisfied: wasabi<1.1.0,>=0.4.0 in /usr/local/lib/python3.6/dist-packages (from spacy>=2.2.2->en_core_web_sm==2.2.5) (0.6.0)\n",
            "Requirement already satisfied: catalogue<1.1.0,>=0.0.7 in /usr/local/lib/python3.6/dist-packages (from spacy>=2.2.2->en_core_web_sm==2.2.5) (1.0.0)\n",
            "Requirement already satisfied: tqdm<5.0.0,>=4.38.0 in /usr/local/lib/python3.6/dist-packages (from spacy>=2.2.2->en_core_web_sm==2.2.5) (4.41.1)\n",
            "Requirement already satisfied: murmurhash<1.1.0,>=0.28.0 in /usr/local/lib/python3.6/dist-packages (from spacy>=2.2.2->en_core_web_sm==2.2.5) (1.0.2)\n",
            "Requirement already satisfied: srsly<1.1.0,>=1.0.2 in /usr/local/lib/python3.6/dist-packages (from spacy>=2.2.2->en_core_web_sm==2.2.5) (1.0.2)\n",
            "Requirement already satisfied: setuptools in /usr/local/lib/python3.6/dist-packages (from spacy>=2.2.2->en_core_web_sm==2.2.5) (46.1.3)\n",
            "Requirement already satisfied: requests<3.0.0,>=2.13.0 in /usr/local/lib/python3.6/dist-packages (from spacy>=2.2.2->en_core_web_sm==2.2.5) (2.23.0)\n",
            "Requirement already satisfied: numpy>=1.15.0 in /usr/local/lib/python3.6/dist-packages (from spacy>=2.2.2->en_core_web_sm==2.2.5) (1.18.4)\n",
            "Requirement already satisfied: cymem<2.1.0,>=2.0.2 in /usr/local/lib/python3.6/dist-packages (from spacy>=2.2.2->en_core_web_sm==2.2.5) (2.0.3)\n",
            "Requirement already satisfied: preshed<3.1.0,>=3.0.2 in /usr/local/lib/python3.6/dist-packages (from spacy>=2.2.2->en_core_web_sm==2.2.5) (3.0.2)\n",
            "Requirement already satisfied: thinc==7.4.0 in /usr/local/lib/python3.6/dist-packages (from spacy>=2.2.2->en_core_web_sm==2.2.5) (7.4.0)\n",
            "Requirement already satisfied: plac<1.2.0,>=0.9.6 in /usr/local/lib/python3.6/dist-packages (from spacy>=2.2.2->en_core_web_sm==2.2.5) (1.1.3)\n",
            "Requirement already satisfied: importlib-metadata>=0.20; python_version < \"3.8\" in /usr/local/lib/python3.6/dist-packages (from catalogue<1.1.0,>=0.0.7->spacy>=2.2.2->en_core_web_sm==2.2.5) (1.6.0)\n",
            "Requirement already satisfied: certifi>=2017.4.17 in /usr/local/lib/python3.6/dist-packages (from requests<3.0.0,>=2.13.0->spacy>=2.2.2->en_core_web_sm==2.2.5) (2020.4.5.1)\n",
            "Requirement already satisfied: urllib3!=1.25.0,!=1.25.1,<1.26,>=1.21.1 in /usr/local/lib/python3.6/dist-packages (from requests<3.0.0,>=2.13.0->spacy>=2.2.2->en_core_web_sm==2.2.5) (1.24.3)\n",
            "Requirement already satisfied: idna<3,>=2.5 in /usr/local/lib/python3.6/dist-packages (from requests<3.0.0,>=2.13.0->spacy>=2.2.2->en_core_web_sm==2.2.5) (2.9)\n",
            "Requirement already satisfied: chardet<4,>=3.0.2 in /usr/local/lib/python3.6/dist-packages (from requests<3.0.0,>=2.13.0->spacy>=2.2.2->en_core_web_sm==2.2.5) (3.0.4)\n",
            "Requirement already satisfied: zipp>=0.5 in /usr/local/lib/python3.6/dist-packages (from importlib-metadata>=0.20; python_version < \"3.8\"->catalogue<1.1.0,>=0.0.7->spacy>=2.2.2->en_core_web_sm==2.2.5) (3.1.0)\n",
            "\u001b[38;5;2m✔ Download and installation successful\u001b[0m\n",
            "You can now load the model via spacy.load('en_core_web_sm')\n",
            "\u001b[38;5;2m✔ Linking successful\u001b[0m\n",
            "/usr/local/lib/python3.6/dist-packages/en_core_web_sm -->\n",
            "/usr/local/lib/python3.6/dist-packages/spacy/data/en\n",
            "You can now load the model via spacy.load('en')\n"
          ],
          "name": "stdout"
        }
      ]
    },
    {
      "cell_type": "code",
      "metadata": {
        "id": "UBWo1LfZXTtu",
        "colab_type": "code",
        "colab": {}
      },
      "source": [
        "import pandas as pd\n",
        "import numpy as np\n",
        "import matplotlib.pyplot as plt\n",
        "import glob\n",
        "import re\n",
        "import demoji\n",
        "from sklearn.model_selection import train_test_split\n",
        "from sklearn.preprocessing import LabelEncoder\n",
        "import demoji\n",
        "from sklearn.utils import shuffle, resample\n",
        "import math\n",
        "import spacy\n",
        "from collections import Counter\n",
        "from sklearn.feature_extraction.text import CountVectorizer\n",
        "from sklearn.metrics import accuracy_score\n",
        "import torch.optim as optim\n",
        "import torch\n",
        "from spacy.lang.en import English\n",
        "import nltk\n",
        "from nltk.stem.snowball import SnowballStemmer\n",
        "from sklearn.metrics import f1_score, recall_score, precision_score\n",
        "import matplotlib.pyplot as plt\n",
        "from sklearn.model_selection import train_test_split\n",
        "from torch.utils.data import Dataset, DataLoader\n",
        "from torchvision import transforms, utils\n",
        "import time\n",
        "import json\n",
        "\n",
        "%matplotlib inline  "
      ],
      "execution_count": 0,
      "outputs": []
    },
    {
      "cell_type": "code",
      "metadata": {
        "id": "L-TmCx3UxHsc",
        "colab_type": "code",
        "outputId": "c529bf2d-8a01-405a-a785-5a3eacd6aefe",
        "colab": {
          "base_uri": "https://localhost:8080/",
          "height": 85
        }
      },
      "source": [
        "demoji.download_codes()\n",
        "pd.options.display.max_colwidth = 8000"
      ],
      "execution_count": 0,
      "outputs": [
        {
          "output_type": "stream",
          "text": [
            "Downloading emoji data ...\n",
            "... OK (Got response in 0.16 seconds)\n",
            "Writing emoji data to /root/.demoji/codes.json ...\n",
            "... OK\n"
          ],
          "name": "stdout"
        }
      ]
    },
    {
      "cell_type": "markdown",
      "metadata": {
        "id": "Qu2g7X2PaHpe",
        "colab_type": "text"
      },
      "source": [
        "### Loading data into dataframes\n",
        "\n",
        "There are multiple files for the tweets. In the cell below we'll read the files and load **them** into dataframes."
      ]
    },
    {
      "cell_type": "code",
      "metadata": {
        "id": "k0oBj_wJYtWl",
        "colab_type": "code",
        "colab": {}
      },
      "source": [
        "df = pd.concat([pd.read_csv(f, index_col=False) for f in glob.glob('./data/tweet*.csv')],ignore_index=True, axis=0)"
      ],
      "execution_count": 0,
      "outputs": []
    },
    {
      "cell_type": "markdown",
      "metadata": {
        "id": "-b51sDGqGrIJ",
        "colab_type": "text"
      },
      "source": [
        "### Data Exploration\n",
        " To make sense of the raw datasets, I'll do the following:\n",
        "\n",
        " * Read the number of columns\n",
        " * Visualize the distribution of spam and non-spam tweets\n",
        " * Find the frequencies of words in the spam and non-spam messages \n",
        " * Drop columns not needed for training"
      ]
    },
    {
      "cell_type": "code",
      "metadata": {
        "id": "bqPHc__kGvlM",
        "colab_type": "code",
        "outputId": "9f1ca924-074d-4aeb-c93c-3b886edd71ce",
        "colab": {
          "base_uri": "https://localhost:8080/",
          "height": 187
        }
      },
      "source": [
        "df.info()"
      ],
      "execution_count": 0,
      "outputs": [
        {
          "output_type": "stream",
          "text": [
            "<class 'pandas.core.frame.DataFrame'>\n",
            "RangeIndex: 110527 entries, 0 to 110526\n",
            "Data columns (total 3 columns):\n",
            " #   Column      Non-Null Count   Dtype \n",
            "---  ------      --------------   ----- \n",
            " 0   Unnamed: 0  110527 non-null  int64 \n",
            " 1   spam        110527 non-null  object\n",
            " 2   tweet       110527 non-null  object\n",
            "dtypes: int64(1), object(2)\n",
            "memory usage: 2.5+ MB\n"
          ],
          "name": "stdout"
        }
      ]
    },
    {
      "cell_type": "markdown",
      "metadata": {
        "id": "Kh5X5i-ePJQW",
        "colab_type": "text"
      },
      "source": [
        "From the info above, there are 110,527 tweets in the datasets.\n",
        "There are 3 columns: `Unnamed :0`, `tweet` and `spam` column."
      ]
    },
    {
      "cell_type": "code",
      "metadata": {
        "id": "SyQ6Yt9W6q7T",
        "colab_type": "code",
        "outputId": "8a80c722-dbf5-4aac-de3f-7e164f89676f",
        "colab": {
          "base_uri": "https://localhost:8080/",
          "height": 170
        }
      },
      "source": [
        "# From the info above, we have an `Unnamed:0` column, let's get rid of that\n",
        "df.drop(df.columns[df.columns.str.contains('unnamed',case = False)],axis = 1, inplace = True)\n",
        "df.info()"
      ],
      "execution_count": 0,
      "outputs": [
        {
          "output_type": "stream",
          "text": [
            "<class 'pandas.core.frame.DataFrame'>\n",
            "RangeIndex: 110527 entries, 0 to 110526\n",
            "Data columns (total 2 columns):\n",
            " #   Column  Non-Null Count   Dtype \n",
            "---  ------  --------------   ----- \n",
            " 0   spam    110527 non-null  object\n",
            " 1   tweet   110527 non-null  object\n",
            "dtypes: object(2)\n",
            "memory usage: 1.7+ MB\n"
          ],
          "name": "stdout"
        }
      ]
    },
    {
      "cell_type": "code",
      "metadata": {
        "id": "gsmkBd3VqCfG",
        "colab_type": "code",
        "outputId": "2a2dd888-630b-42c3-9399-725de0f4485f",
        "colab": {
          "base_uri": "https://localhost:8080/",
          "height": 204
        }
      },
      "source": [
        "#df = shuffle(df)\n",
        "df.head()"
      ],
      "execution_count": 0,
      "outputs": [
        {
          "output_type": "execute_result",
          "data": {
            "text/html": [
              "<div>\n",
              "<style scoped>\n",
              "    .dataframe tbody tr th:only-of-type {\n",
              "        vertical-align: middle;\n",
              "    }\n",
              "\n",
              "    .dataframe tbody tr th {\n",
              "        vertical-align: top;\n",
              "    }\n",
              "\n",
              "    .dataframe thead th {\n",
              "        text-align: right;\n",
              "    }\n",
              "</style>\n",
              "<table border=\"1\" class=\"dataframe\">\n",
              "  <thead>\n",
              "    <tr style=\"text-align: right;\">\n",
              "      <th></th>\n",
              "      <th>spam</th>\n",
              "      <th>tweet</th>\n",
              "    </tr>\n",
              "  </thead>\n",
              "  <tbody>\n",
              "    <tr>\n",
              "      <th>0</th>\n",
              "      <td>no</td>\n",
              "      <td>Aprendiendo sobre #RSTUDIO para análisis estadísticos\\nhttps://t.co/9Bp1c8IjDv\\n#Statistics #investigacion #estadistica #bigdata #MachineLearning #programacion</td>\n",
              "    </tr>\n",
              "    <tr>\n",
              "      <th>1</th>\n",
              "      <td>no</td>\n",
              "      <td>RT @jamesvgingerich: #Robotics:  the Terminator scenario.  (World Economic Forum) https://t.co/hshVpJnnmQ</td>\n",
              "    </tr>\n",
              "    <tr>\n",
              "      <th>2</th>\n",
              "      <td>no</td>\n",
              "      <td>RT @machinelearnflx: Complete Deep Learning In R With Keras &amp;amp; Others https://t.co/dBtvErz1Xj  #machinelearning #ad</td>\n",
              "    </tr>\n",
              "    <tr>\n",
              "      <th>3</th>\n",
              "      <td>no</td>\n",
              "      <td>RT @mvollmer1: No, an #ArtificialIntelligence #AI can't legally invent something — only 'natural persons' can, says US patent office\\n\\n #Rob…</td>\n",
              "    </tr>\n",
              "    <tr>\n",
              "      <th>4</th>\n",
              "      <td>no</td>\n",
              "      <td>via @RichardEudes - Supervised Learning  https://t.co/fXrSOMGF1N  #datascience #ds, #machinelearning https://t.co/ucYuu9zsKI</td>\n",
              "    </tr>\n",
              "  </tbody>\n",
              "</table>\n",
              "</div>"
            ],
            "text/plain": [
              "  spam                                                                                                                                                            tweet\n",
              "0   no  Aprendiendo sobre #RSTUDIO para análisis estadísticos\\nhttps://t.co/9Bp1c8IjDv\\n#Statistics #investigacion #estadistica #bigdata #MachineLearning #programacion\n",
              "1   no                                                        RT @jamesvgingerich: #Robotics:  the Terminator scenario.  (World Economic Forum) https://t.co/hshVpJnnmQ\n",
              "2   no                                           RT @machinelearnflx: Complete Deep Learning In R With Keras &amp; Others https://t.co/dBtvErz1Xj  #machinelearning #ad\n",
              "3   no                   RT @mvollmer1: No, an #ArtificialIntelligence #AI can't legally invent something — only 'natural persons' can, says US patent office\\n\\n #Rob…\n",
              "4   no                                     via @RichardEudes - Supervised Learning  https://t.co/fXrSOMGF1N  #datascience #ds, #machinelearning https://t.co/ucYuu9zsKI"
            ]
          },
          "metadata": {
            "tags": []
          },
          "execution_count": 7
        }
      ]
    },
    {
      "cell_type": "code",
      "metadata": {
        "id": "QY_zOcP8LDR8",
        "colab_type": "code",
        "outputId": "92cb3499-49f7-44fa-bf79-4fb60b2104eb",
        "colab": {
          "base_uri": "https://localhost:8080/",
          "height": 190
        }
      },
      "source": [
        "# Let's show some basic stastictics\n",
        "df.describe()"
      ],
      "execution_count": 0,
      "outputs": [
        {
          "output_type": "execute_result",
          "data": {
            "text/html": [
              "<div>\n",
              "<style scoped>\n",
              "    .dataframe tbody tr th:only-of-type {\n",
              "        vertical-align: middle;\n",
              "    }\n",
              "\n",
              "    .dataframe tbody tr th {\n",
              "        vertical-align: top;\n",
              "    }\n",
              "\n",
              "    .dataframe thead th {\n",
              "        text-align: right;\n",
              "    }\n",
              "</style>\n",
              "<table border=\"1\" class=\"dataframe\">\n",
              "  <thead>\n",
              "    <tr style=\"text-align: right;\">\n",
              "      <th></th>\n",
              "      <th>spam</th>\n",
              "      <th>tweet</th>\n",
              "    </tr>\n",
              "  </thead>\n",
              "  <tbody>\n",
              "    <tr>\n",
              "      <th>count</th>\n",
              "      <td>110527</td>\n",
              "      <td>110527</td>\n",
              "    </tr>\n",
              "    <tr>\n",
              "      <th>unique</th>\n",
              "      <td>2</td>\n",
              "      <td>110166</td>\n",
              "    </tr>\n",
              "    <tr>\n",
              "      <th>top</th>\n",
              "      <td>yes</td>\n",
              "      <td>The Data Science Capabilities Venn Diagram identifies the key objectives and capabilities for the three key data science roles. Link &amp;gt;&amp;gt; https://t.co/5cvK5co8SS @schmarzo on @DataScienceCtrl ht @bobehayes via @antgrasso #DataScience #DigitalTransformation https://t.co/ZIsB2vsrTZ</td>\n",
              "    </tr>\n",
              "    <tr>\n",
              "      <th>freq</th>\n",
              "      <td>99989</td>\n",
              "      <td>23</td>\n",
              "    </tr>\n",
              "  </tbody>\n",
              "</table>\n",
              "</div>"
            ],
            "text/plain": [
              "          spam                                                                                                                                                                                                                                                                                         tweet\n",
              "count   110527                                                                                                                                                                                                                                                                                        110527\n",
              "unique       2                                                                                                                                                                                                                                                                                        110166\n",
              "top        yes  The Data Science Capabilities Venn Diagram identifies the key objectives and capabilities for the three key data science roles. Link &gt;&gt; https://t.co/5cvK5co8SS @schmarzo on @DataScienceCtrl ht @bobehayes via @antgrasso #DataScience #DigitalTransformation https://t.co/ZIsB2vsrTZ\n",
              "freq     99989                                                                                                                                                                                                                                                                                            23"
            ]
          },
          "metadata": {
            "tags": []
          },
          "execution_count": 8
        }
      ]
    },
    {
      "cell_type": "code",
      "metadata": {
        "id": "6THlAeWkLfr9",
        "colab_type": "code",
        "outputId": "ac7a8bae-b613-4f55-a143-38388f52c459",
        "colab": {
          "base_uri": "https://localhost:8080/",
          "height": 316
        }
      },
      "source": [
        "# Let's see how spam/ham we have in the data.\n",
        "print(df[\"spam\"].value_counts())\n",
        "df[\"spam\"].value_counts().plot.pie()\n"
      ],
      "execution_count": 0,
      "outputs": [
        {
          "output_type": "stream",
          "text": [
            "yes    99989\n",
            "no     10538\n",
            "Name: spam, dtype: int64\n"
          ],
          "name": "stdout"
        },
        {
          "output_type": "execute_result",
          "data": {
            "text/plain": [
              "<matplotlib.axes._subplots.AxesSubplot at 0x7f33aca90da0>"
            ]
          },
          "metadata": {
            "tags": []
          },
          "execution_count": 9
        },
        {
          "output_type": "display_data",
          "data": {
            "image/png": "[encoded data removed]",
            "text/plain": [
              "<Figure size 432x288 with 1 Axes>"
            ]
          },
          "metadata": {
            "tags": []
          }
        }
      ]
    },
    {
      "cell_type": "markdown",
      "metadata": {
        "id": "Rjae_L-d3UtJ",
        "colab_type": "text"
      },
      "source": [
        "### Unbalanced Datasets\n",
        "\n",
        "Looking at the pie chart above, we have unbalanced datasets which can affect how the model generalizes on unseen data. There are a total of 99,989 Spam and 10,538 Ham, which makes spam to be 10 times larger than Ham. If we use the dataset as it's now, the algorithm learns that a given class is more predominant, making it “natural” to leans towards the predominant class. One way to tackle unbalanced datasets is through **downsampling**\n",
        "\n",
        "**Downsampling** (in model training context) refers to training on a disproportionately low subset of the majority class sample.\n",
        "\n",
        "In the block below, we downsample the datasets.\n"
      ]
    },
    {
      "cell_type": "code",
      "metadata": {
        "id": "f8xi9rcn6Acn",
        "colab_type": "code",
        "colab": {}
      },
      "source": [
        "# Select spam and ham\n",
        "spam = df.loc[df['spam'] == 'yes']\n",
        "ham = df.loc[df['spam'] =='no']"
      ],
      "execution_count": 0,
      "outputs": []
    },
    {
      "cell_type": "code",
      "metadata": {
        "id": "DEiGU8yRZHu6",
        "colab_type": "code",
        "colab": {}
      },
      "source": [
        "# Downsampling\n",
        "spam_downsampled = resample(spam, replace=False, n_samples=10000, random_state=123) #\n",
        "ham_downsampled = resample(ham, replace=False, n_samples=10000, random_state=123)\n",
        "datasets = pd.concat([ham_downsampled, spam_downsampled], ignore_index=True)"
      ],
      "execution_count": 0,
      "outputs": []
    },
    {
      "cell_type": "code",
      "metadata": {
        "id": "4WFEXaHufKjC",
        "colab_type": "code",
        "outputId": "d20acc2c-f7ae-484b-838f-9f98aa4a78b0",
        "colab": {
          "base_uri": "https://localhost:8080/",
          "height": 316
        }
      },
      "source": [
        "# Plot a pie chart of the downsampled datasets\n",
        "print(datasets[\"spam\"].value_counts())\n",
        "datasets[\"spam\"].value_counts().plot.pie()"
      ],
      "execution_count": 0,
      "outputs": [
        {
          "output_type": "stream",
          "text": [
            "yes    10000\n",
            "no     10000\n",
            "Name: spam, dtype: int64\n"
          ],
          "name": "stdout"
        },
        {
          "output_type": "execute_result",
          "data": {
            "text/plain": [
              "<matplotlib.axes._subplots.AxesSubplot at 0x7f33ac9a8d30>"
            ]
          },
          "metadata": {
            "tags": []
          },
          "execution_count": 12
        },
        {
          "output_type": "display_data",
          "data": {
            "image/png": "[encoded data removed]",
            "text/plain": [
              "<Figure size 432x288 with 1 Axes>"
            ]
          },
          "metadata": {
            "tags": []
          }
        }
      ]
    },
    {
      "cell_type": "code",
      "metadata": {
        "id": "msCmgHJEBfRs",
        "colab_type": "code",
        "outputId": "3914368f-0889-4f7b-df6f-785f7729fb14",
        "colab": {
          "base_uri": "https://localhost:8080/",
          "height": 221
        }
      },
      "source": [
        "datasets.head()"
      ],
      "execution_count": 0,
      "outputs": [
        {
          "output_type": "execute_result",
          "data": {
            "text/html": [
              "<div>\n",
              "<style scoped>\n",
              "    .dataframe tbody tr th:only-of-type {\n",
              "        vertical-align: middle;\n",
              "    }\n",
              "\n",
              "    .dataframe tbody tr th {\n",
              "        vertical-align: top;\n",
              "    }\n",
              "\n",
              "    .dataframe thead th {\n",
              "        text-align: right;\n",
              "    }\n",
              "</style>\n",
              "<table border=\"1\" class=\"dataframe\">\n",
              "  <thead>\n",
              "    <tr style=\"text-align: right;\">\n",
              "      <th></th>\n",
              "      <th>spam</th>\n",
              "      <th>tweet</th>\n",
              "    </tr>\n",
              "  </thead>\n",
              "  <tbody>\n",
              "    <tr>\n",
              "      <th>0</th>\n",
              "      <td>no</td>\n",
              "      <td>Pretty kool. \\nCan anyone create a similar list regarding Christians that changed the world? Similarly, the creations of various religions &amp;amp; whether or not any other religion is able to compare with Christianity or with The One True God, in proving Love really is Divine?</td>\n",
              "    </tr>\n",
              "    <tr>\n",
              "      <th>1</th>\n",
              "      <td>no</td>\n",
              "      <td>RT @ipfconline1: Key Challenges That Healthcare #AI Needs to Overcome in 2020\\n\\nhttps://t.co/AKNxVpHgCS by @TkatchukRalph via @DataconomyMed…</td>\n",
              "    </tr>\n",
              "    <tr>\n",
              "      <th>2</th>\n",
              "      <td>no</td>\n",
              "      <td>RT @rintu_patnaik: @rshevlin @pbucquet The weights make a lot of sense. It seema to imply that sectors at the higher end (like healthcare)…</td>\n",
              "    </tr>\n",
              "    <tr>\n",
              "      <th>3</th>\n",
              "      <td>no</td>\n",
              "      <td>RT @rapid_developer: “Sometimes reality is too complex. Stories give it form\" #DataAnalytics #DataScience #storytelling #MachineLearning</td>\n",
              "    </tr>\n",
              "    <tr>\n",
              "      <th>4</th>\n",
              "      <td>no</td>\n",
              "      <td>RT @Dynam_AI: How AI &amp;amp; #MachineLearning Creates Value From Business Data \\n\\n#ArtificialIntelligence is the future of operational efficiency.…</td>\n",
              "    </tr>\n",
              "  </tbody>\n",
              "</table>\n",
              "</div>"
            ],
            "text/plain": [
              "  spam                                                                                                                                                                                                                                                                                tweet\n",
              "0   no  Pretty kool. \\nCan anyone create a similar list regarding Christians that changed the world? Similarly, the creations of various religions &amp; whether or not any other religion is able to compare with Christianity or with The One True God, in proving Love really is Divine?\n",
              "1   no                                                                                                                                       RT @ipfconline1: Key Challenges That Healthcare #AI Needs to Overcome in 2020\\n\\nhttps://t.co/AKNxVpHgCS by @TkatchukRalph via @DataconomyMed…\n",
              "2   no                                                                                                                                          RT @rintu_patnaik: @rshevlin @pbucquet The weights make a lot of sense. It seema to imply that sectors at the higher end (like healthcare)…\n",
              "3   no                                                                                                                                             RT @rapid_developer: “Sometimes reality is too complex. Stories give it form\" #DataAnalytics #DataScience #storytelling #MachineLearning\n",
              "4   no                                                                                                                                   RT @Dynam_AI: How AI &amp; #MachineLearning Creates Value From Business Data \\n\\n#ArtificialIntelligence is the future of operational efficiency.…"
            ]
          },
          "metadata": {
            "tags": []
          },
          "execution_count": 13
        }
      ]
    },
    {
      "cell_type": "code",
      "metadata": {
        "id": "7wuZyV3nhKgr",
        "colab_type": "code",
        "outputId": "2bd20032-1c58-4b38-83a6-c50dd443c367",
        "colab": {
          "base_uri": "https://localhost:8080/",
          "height": 51
        }
      },
      "source": [
        "# Calculate the mean of the length of tweets\n",
        "datasets['number_of_words'] = datasets['tweet'].apply(lambda x: len(x.split()))\n",
        "datasets['tweet_length'] = datasets['tweet'].apply(lambda x: len(x))\n",
        "\n",
        "print(\"average number of words: \",np.mean(datasets['number_of_words']))\n",
        "print(\"average lenght of tweets: \", np.mean(datasets['tweet_length']))\n"
      ],
      "execution_count": 0,
      "outputs": [
        {
          "output_type": "stream",
          "text": [
            "average number of words:  16.5232\n",
            "average lenght of tweets:  122.0355\n"
          ],
          "name": "stdout"
        }
      ]
    },
    {
      "cell_type": "markdown",
      "metadata": {
        "id": "apKodfzh9ZZP",
        "colab_type": "text"
      },
      "source": [
        "### Data Preprocessing\n",
        "\n",
        "We have balanced datasets, that is, total number of tweets that are spam are equivalent to the total number of non-spam tweets.\n",
        "\n",
        "However, the tweets are not clean.  For example:\n",
        "\n",
        "```\n",
        "An analog view of a #digital classification #algorithm &gt;&gt;&gt; \\nRT @MikeQuindazzi\\n\\n#AI #MachineLearning #DeepLearning #DataAnalytics #STEM #4IR #DigitalTransformation #EmergingTech #Technology\\n\\n@mvollmer1\\n@evankirstel\\n@HeinzVHoenen\\n@Fabriziobustama https://t.co/Y3crrNhGZ6\n",
        "```\n",
        "\n",
        "The tweets contain usernames, links, emojis, tags, \"RT\", '-'. These characters don't add meaning to the tweets themselves. They are noises and should be removed.\n",
        "\n",
        "The function `clean_tweet` below removes noises from a tweet"
      ]
    },
    {
      "cell_type": "code",
      "metadata": {
        "id": "U4otD211fY08",
        "colab_type": "code",
        "colab": {}
      },
      "source": [
        "tok = English()\n",
        "def clean_tweet(tweet):\n",
        "        # Remove usernames, \"RT\" and Hash\n",
        "        tweet = re.sub(r'(RT|[@*])(\\w*)',\" \", tweet)\n",
        "        # Hashtags are very useful. It gives context to the tweet.\n",
        "        # Remove links in tweets\n",
        "        tweet = re.sub(r'http\\S+', \" \", tweet)\n",
        "        # We remove \"#\" and keep the tags\n",
        "        tweet = re.sub(r'(\\\\n)|(\\#)|(\\.)|(\\;)|(\\:)|(\\!)|(\\')|(\\?)|(\\,)|(\\\")|(\\()|(\\))|(\\[)|(\\])','', tweet)\n",
        "        tweet = re.sub(r'(<br\\s*/><br\\s*/>)|(\\-)|(\\/)', \" \", tweet)\n",
        "        # convert to lower case\n",
        "        tweet = re.sub(r\"[^a-zA-Z0-9]\", \" \", tweet.lower()) # Convert to lower case\n",
        "        # Tweets are usually full of emojis. We need to remove them.\n",
        "        tweet = demoji.replace(tweet, repl=\"\")\n",
        "        # Stop words don't meaning to tweets. They can be removed\n",
        "        tweet_words = tok(tweet)\n",
        "        clean_tweets = []\n",
        "        for word in tweet_words:\n",
        "          if word.is_stop==False and len(word) > 1:\n",
        "            clean_tweets.append(word.text.strip())\n",
        "\n",
        "        tweet = \" \".join(clean_tweets)\n",
        "        \n",
        "        return tweet\n"
      ],
      "execution_count": 0,
      "outputs": []
    },
    {
      "cell_type": "code",
      "metadata": {
        "id": "MnrpLHWmGcJ0",
        "colab_type": "code",
        "outputId": "593b5378-ce5a-4806-8c43-18b81f8e4882",
        "colab": {
          "base_uri": "https://localhost:8080/",
          "height": 204
        }
      },
      "source": [
        "datasets['tweet'] = datasets['tweet'].apply(lambda x: clean_tweet(x)) # Clean tweet\n",
        "shuffle(datasets) # Shuffle datasets\n",
        "datasets.head()"
      ],
      "execution_count": 0,
      "outputs": [
        {
          "output_type": "execute_result",
          "data": {
            "text/html": [
              "<div>\n",
              "<style scoped>\n",
              "    .dataframe tbody tr th:only-of-type {\n",
              "        vertical-align: middle;\n",
              "    }\n",
              "\n",
              "    .dataframe tbody tr th {\n",
              "        vertical-align: top;\n",
              "    }\n",
              "\n",
              "    .dataframe thead th {\n",
              "        text-align: right;\n",
              "    }\n",
              "</style>\n",
              "<table border=\"1\" class=\"dataframe\">\n",
              "  <thead>\n",
              "    <tr style=\"text-align: right;\">\n",
              "      <th></th>\n",
              "      <th>spam</th>\n",
              "      <th>tweet</th>\n",
              "      <th>number_of_words</th>\n",
              "      <th>tweet_length</th>\n",
              "    </tr>\n",
              "  </thead>\n",
              "  <tbody>\n",
              "    <tr>\n",
              "      <th>0</th>\n",
              "      <td>no</td>\n",
              "      <td>pretty kool create similar list christians changed world similarly creations religions amp religion able compare christianity true god proving love divine</td>\n",
              "      <td>45</td>\n",
              "      <td>274</td>\n",
              "    </tr>\n",
              "    <tr>\n",
              "      <th>1</th>\n",
              "      <td>no</td>\n",
              "      <td>key challenges healthcare ai needs overcome 2020</td>\n",
              "      <td>17</td>\n",
              "      <td>140</td>\n",
              "    </tr>\n",
              "    <tr>\n",
              "      <th>2</th>\n",
              "      <td>no</td>\n",
              "      <td>weights lot sense seema imply sectors higher end like healthcare</td>\n",
              "      <td>23</td>\n",
              "      <td>139</td>\n",
              "    </tr>\n",
              "    <tr>\n",
              "      <th>3</th>\n",
              "      <td>no</td>\n",
              "      <td>reality complex stories form dataanalytics datascience storytelling machinelearning</td>\n",
              "      <td>15</td>\n",
              "      <td>136</td>\n",
              "    </tr>\n",
              "    <tr>\n",
              "      <th>4</th>\n",
              "      <td>no</td>\n",
              "      <td>ai amp machinelearning creates value business data  artificialintelligence future operational efficiency</td>\n",
              "      <td>18</td>\n",
              "      <td>144</td>\n",
              "    </tr>\n",
              "  </tbody>\n",
              "</table>\n",
              "</div>"
            ],
            "text/plain": [
              "  spam  ... tweet_length\n",
              "0   no  ...          274\n",
              "1   no  ...          140\n",
              "2   no  ...          139\n",
              "3   no  ...          136\n",
              "4   no  ...          144\n",
              "\n",
              "[5 rows x 4 columns]"
            ]
          },
          "metadata": {
            "tags": []
          },
          "execution_count": 16
        }
      ]
    },
    {
      "cell_type": "markdown",
      "metadata": {
        "id": "ry86aGwgCb3P",
        "colab_type": "text"
      },
      "source": [
        "### Categorical  Data Encoding\n",
        "Tweets are categorized as spam or non-spam indicated by `yes` or `no`. Most Machine learning learning models don't do well with strings data. They have to be converted to numeric data. The process of converting categorical data  like `yes` and `no` to numeric data is known as **Encoding**\n",
        "\n",
        "In the block below, we'll encode categorical variables."
      ]
    },
    {
      "cell_type": "code",
      "metadata": {
        "id": "7Mqa1UUEPgYM",
        "colab_type": "code",
        "outputId": "df20f1c9-5a66-4cd0-fae8-a82416faff0f",
        "colab": {
          "base_uri": "https://localhost:8080/",
          "height": 221
        }
      },
      "source": [
        "# Encode categorical variables\n",
        "encoder = LabelEncoder()\n",
        "spam_encoded = encoder.fit_transform(datasets['spam'])\n",
        "\n",
        "spam_index_mapping = {index: label for index, label in \n",
        "                  enumerate(encoder.classes_)}\n",
        "print(spam_index_mapping)\n",
        "# From the block above, we know that 0 means not a spam and 1 means a spam\n",
        "datasets['label'] = spam_encoded\n",
        "datasets.head()"
      ],
      "execution_count": 0,
      "outputs": [
        {
          "output_type": "stream",
          "text": [
            "{0: 'no', 1: 'yes'}\n"
          ],
          "name": "stdout"
        },
        {
          "output_type": "execute_result",
          "data": {
            "text/html": [
              "<div>\n",
              "<style scoped>\n",
              "    .dataframe tbody tr th:only-of-type {\n",
              "        vertical-align: middle;\n",
              "    }\n",
              "\n",
              "    .dataframe tbody tr th {\n",
              "        vertical-align: top;\n",
              "    }\n",
              "\n",
              "    .dataframe thead th {\n",
              "        text-align: right;\n",
              "    }\n",
              "</style>\n",
              "<table border=\"1\" class=\"dataframe\">\n",
              "  <thead>\n",
              "    <tr style=\"text-align: right;\">\n",
              "      <th></th>\n",
              "      <th>spam</th>\n",
              "      <th>tweet</th>\n",
              "      <th>number_of_words</th>\n",
              "      <th>tweet_length</th>\n",
              "      <th>label</th>\n",
              "    </tr>\n",
              "  </thead>\n",
              "  <tbody>\n",
              "    <tr>\n",
              "      <th>0</th>\n",
              "      <td>no</td>\n",
              "      <td>pretty kool create similar list christians changed world similarly creations religions amp religion able compare christianity true god proving love divine</td>\n",
              "      <td>45</td>\n",
              "      <td>274</td>\n",
              "      <td>0</td>\n",
              "    </tr>\n",
              "    <tr>\n",
              "      <th>1</th>\n",
              "      <td>no</td>\n",
              "      <td>key challenges healthcare ai needs overcome 2020</td>\n",
              "      <td>17</td>\n",
              "      <td>140</td>\n",
              "      <td>0</td>\n",
              "    </tr>\n",
              "    <tr>\n",
              "      <th>2</th>\n",
              "      <td>no</td>\n",
              "      <td>weights lot sense seema imply sectors higher end like healthcare</td>\n",
              "      <td>23</td>\n",
              "      <td>139</td>\n",
              "      <td>0</td>\n",
              "    </tr>\n",
              "    <tr>\n",
              "      <th>3</th>\n",
              "      <td>no</td>\n",
              "      <td>reality complex stories form dataanalytics datascience storytelling machinelearning</td>\n",
              "      <td>15</td>\n",
              "      <td>136</td>\n",
              "      <td>0</td>\n",
              "    </tr>\n",
              "    <tr>\n",
              "      <th>4</th>\n",
              "      <td>no</td>\n",
              "      <td>ai amp machinelearning creates value business data  artificialintelligence future operational efficiency</td>\n",
              "      <td>18</td>\n",
              "      <td>144</td>\n",
              "      <td>0</td>\n",
              "    </tr>\n",
              "  </tbody>\n",
              "</table>\n",
              "</div>"
            ],
            "text/plain": [
              "  spam  ... label\n",
              "0   no  ...     0\n",
              "1   no  ...     0\n",
              "2   no  ...     0\n",
              "3   no  ...     0\n",
              "4   no  ...     0\n",
              "\n",
              "[5 rows x 5 columns]"
            ]
          },
          "metadata": {
            "tags": []
          },
          "execution_count": 17
        }
      ]
    },
    {
      "cell_type": "code",
      "metadata": {
        "id": "76ezd4qGqtWs",
        "colab_type": "code",
        "outputId": "59036d35-9f99-46c8-c319-7fcbbe2bdab7",
        "colab": {
          "base_uri": "https://localhost:8080/",
          "height": 68
        }
      },
      "source": [
        "# Calculate the mean of the length of tweets\n",
        "datasets['number_of_words'] = datasets['tweet'].apply(lambda x: len(x.split()))\n",
        "datasets['tweet_length'] = datasets['tweet'].apply(lambda x: len(x))\n",
        "\n",
        "print(\"average number of words: \",np.mean(datasets['number_of_words']))\n",
        "print(\"average lenght of tweets: \", np.mean(datasets['tweet_length']))\n",
        "print(\"maximum lenght of tweets\", np.max(datasets['tweet_length']))"
      ],
      "execution_count": 0,
      "outputs": [
        {
          "output_type": "stream",
          "text": [
            "average number of words:  8.97995\n",
            "average lenght of tweets:  69.32065\n",
            "maximum lenght of tweets 375\n"
          ],
          "name": "stdout"
        }
      ]
    },
    {
      "cell_type": "markdown",
      "metadata": {
        "id": "rsEmLcbhSkED",
        "colab_type": "text"
      },
      "source": [
        "### Text Analytics\n",
        " Here, we'll find the frequencies of words in the spam and non-spam in tweets."
      ]
    },
    {
      "cell_type": "code",
      "metadata": {
        "id": "gVb7O2OhSwLP",
        "colab_type": "code",
        "outputId": "05592ab2-4829-4c6e-f5e8-b95d58ab8fb7",
        "colab": {
          "base_uri": "https://localhost:8080/",
          "height": 385
        }
      },
      "source": [
        "count1 = Counter(\" \".join(datasets[datasets['spam']=='no'][\"tweet\"]).split()).most_common(20)\n",
        "df1 = pd.DataFrame.from_dict(count1)\n",
        "df1 = df1.rename(columns={0: \"words in non-spam\", 1 : \"count\"})\n",
        "\n",
        "df1.plot.bar(legend = False)\n",
        "y_pos = np.arange(len(df1[\"words in non-spam\"]))\n",
        "plt.xticks(y_pos, df1[\"words in non-spam\"])\n",
        "plt.title('More frequent words in non-spam messages')\n",
        "plt.xlabel('words')\n",
        "plt.ylabel('number')\n",
        "plt.show()\n"
      ],
      "execution_count": 0,
      "outputs": [
        {
          "output_type": "display_data",
          "data": {
            "image/png": "[encoded data removed]",
            "text/plain": [
              "<Figure size 432x288 with 1 Axes>"
            ]
          },
          "metadata": {
            "tags": [],
            "needs_background": "light"
          }
        }
      ]
    },
    {
      "cell_type": "code",
      "metadata": {
        "id": "TwcooG7ZTSC_",
        "colab_type": "code",
        "outputId": "93bfdcae-b4fe-4ab7-e7a9-fb92549114ef",
        "colab": {
          "base_uri": "https://localhost:8080/",
          "height": 319
        }
      },
      "source": [
        "count2 = Counter(\" \".join(datasets[datasets['spam']=='yes'][\"tweet\"]).split()).most_common(20)\n",
        "df2 = pd.DataFrame.from_dict(count2)\n",
        "df2 = df2.rename(columns={0: \"words in spam\", 1 : \"count_\"})\n",
        "df2.plot.bar(legend = False, color = 'orange')\n",
        "\n",
        "y_pos = np.arange(len(df2[\"words in spam\"]))\n",
        "plt.xticks(y_pos, df2[\"words in spam\"])\n",
        "plt.title('More frequent words in spam messages')\n",
        "plt.xlabel('words')\n",
        "plt.ylabel('number')\n",
        "plt.show()"
      ],
      "execution_count": 0,
      "outputs": [
        {
          "output_type": "display_data",
          "data": {
            "image/png": "[encoded data removed]",
            "text/plain": [
              "<Figure size 432x288 with 1 Axes>"
            ]
          },
          "metadata": {
            "tags": [],
            "needs_background": "light"
          }
        }
      ]
    },
    {
      "cell_type": "markdown",
      "metadata": {
        "id": "1QwblK2OR3Ga",
        "colab_type": "text"
      },
      "source": [
        "### Feature engineering.\n",
        "To further preprocess the input data, we need to perform a number of steps such as:\n",
        "* Tokenization\n",
        "* Word Stemming\n",
        "* Sentence encoding"
      ]
    },
    {
      "cell_type": "code",
      "metadata": {
        "id": "qBQoq1jcITOG",
        "colab_type": "code",
        "colab": {}
      },
      "source": [
        "stemmer = SnowballStemmer(language='english')\n",
        "def stem_tweet(tweet):\n",
        "  tokenized_tweets = []\n",
        "  doc = tweet.split() # Tokenize tweet\n",
        "  for word in doc:\n",
        "    word = stemmer.stem(word) # Stem word\n",
        "    tokenized_tweets.append(word)\n",
        "  return tokenized_tweets"
      ],
      "execution_count": 0,
      "outputs": []
    },
    {
      "cell_type": "code",
      "metadata": {
        "id": "A6jiDvaiX_KG",
        "colab_type": "code",
        "outputId": "8e50c8e7-1779-4c5b-e62d-6ac1e61f0dd8",
        "colab": {
          "base_uri": "https://localhost:8080/",
          "height": 54
        }
      },
      "source": [
        "# Testing the `stem_tweet` function\n",
        "text = 'best practices in mlops production model deployment model monitoring lifecycle management amp governance by with bigdata datascience ai machinelearning analyticsstrategy aistrategy artificialintelligence'\n",
        "print(stem_tweet(text))"
      ],
      "execution_count": 0,
      "outputs": [
        {
          "output_type": "stream",
          "text": [
            "['best', 'practic', 'in', 'mlop', 'product', 'model', 'deploy', 'model', 'monitor', 'lifecycl', 'manag', 'amp', 'govern', 'by', 'with', 'bigdata', 'datasci', 'ai', 'machinelearn', 'analyticsstrategi', 'aistrategi', 'artificialintellig']\n"
          ],
          "name": "stdout"
        }
      ]
    },
    {
      "cell_type": "code",
      "metadata": {
        "id": "QddyHzx3JRZb",
        "colab_type": "code",
        "colab": {}
      },
      "source": [
        "# Build a vocabulary dictionary\n",
        "counts = Counter()\n",
        "for index, row in datasets.iterrows():\n",
        "  counts.update(stem_tweet(row['tweet']))\n"
      ],
      "execution_count": 0,
      "outputs": []
    },
    {
      "cell_type": "code",
      "metadata": {
        "id": "t03vTZAeYtWX",
        "colab_type": "code",
        "outputId": "fb9f494b-08c3-420b-84fb-68a4188ed0cb",
        "colab": {
          "base_uri": "https://localhost:8080/",
          "height": 357
        }
      },
      "source": [
        "#Return top 10 most common\n",
        "counts.most_common(20)"
      ],
      "execution_count": 0,
      "outputs": [
        {
          "output_type": "execute_result",
          "data": {
            "text/plain": [
              "[('ai', 4051),\n",
              " ('machinelearn', 3372),\n",
              " ('artificialintellig', 2601),\n",
              " ('datasci', 2595),\n",
              " ('robot', 1793),\n",
              " ('nt', 1744),\n",
              " ('data', 1671),\n",
              " ('learn', 1482),\n",
              " ('bigdata', 1195),\n",
              " ('gt', 987),\n",
              " ('deeplearn', 873),\n",
              " ('thank', 871),\n",
              " ('iot', 841),\n",
              " ('amp', 798),\n",
              " ('python', 794),\n",
              " ('like', 766),\n",
              " ('analyt', 756),\n",
              " ('machin', 727),\n",
              " ('good', 713),\n",
              " ('work', 712)]"
            ]
          },
          "metadata": {
            "tags": []
          },
          "execution_count": 24
        }
      ]
    },
    {
      "cell_type": "code",
      "metadata": {
        "id": "ueeoG4bGKUCe",
        "colab_type": "code",
        "outputId": "46ab423b-c3dc-4893-e246-824b9d2ba2cd",
        "colab": {
          "base_uri": "https://localhost:8080/",
          "height": 51
        }
      },
      "source": [
        "# Removing infrequent words \n",
        "print(\"num_words before:\", len(counts.keys()))\n",
        "\n",
        "for word in list(counts):\n",
        "  if(counts[word] < 2):\n",
        "    del counts[word]\n",
        "print (\"num_words after:\", len(counts.keys()))    "
      ],
      "execution_count": 0,
      "outputs": [
        {
          "output_type": "stream",
          "text": [
            "num_words before: 20941\n",
            "num_words after: 9612\n"
          ],
          "name": "stdout"
        }
      ]
    },
    {
      "cell_type": "code",
      "metadata": {
        "id": "26cRUpDgU2rm",
        "colab_type": "code",
        "colab": {}
      },
      "source": [
        ""
      ],
      "execution_count": 0,
      "outputs": []
    },
    {
      "cell_type": "code",
      "metadata": {
        "id": "SrBSH60gLRKt",
        "colab_type": "code",
        "colab": {}
      },
      "source": [
        "# Creat vocabulary list\n",
        "vocab2index = {\"\":0, \"UNK\":1}\n",
        "words = [\"\", \"UNK\"]\n",
        "\n",
        "for word in counts:\n",
        "  vocab2index[word] = len(words)\n",
        "  words.append(word)\n",
        "\n",
        "# Serialize data into file:\n",
        "json.dump(vocab2index, open( \"vocab2index.json\", 'w' ) )"
      ],
      "execution_count": 0,
      "outputs": []
    },
    {
      "cell_type": "code",
      "metadata": {
        "id": "-zTZM91DL87-",
        "colab_type": "code",
        "colab": {}
      },
      "source": [
        "# According to data exploration I did earlier, the number of characters in tweets average 69\n",
        "# I'll set the number of characters to be slightly higher. N=75\n",
        "def encode_sentence(text, vocab2index, N=75):\n",
        "  tokenized = stem_tweet(text)\n",
        "  encoded = np.zeros(N, dtype=int)\n",
        "  enc = np.array([vocab2index.get(word, vocab2index[\"UNK\"]) for word in tokenized])\n",
        "  length = min(N, len(enc))\n",
        "  encoded[:length] = enc[:length]\n",
        "  return encoded, length"
      ],
      "execution_count": 0,
      "outputs": []
    },
    {
      "cell_type": "code",
      "metadata": {
        "id": "rrphm8U8OHor",
        "colab_type": "code",
        "outputId": "75883032-5dc3-4b76-e991-f8d128b32a8f",
        "colab": {
          "base_uri": "https://localhost:8080/",
          "height": 289
        }
      },
      "source": [
        "datasets['encoded_tweet'] = datasets['tweet'].apply(lambda x: np.array(encode_sentence(x, vocab2index)))\n",
        "datasets.head()"
      ],
      "execution_count": 0,
      "outputs": [
        {
          "output_type": "execute_result",
          "data": {
            "text/html": [
              "<div>\n",
              "<style scoped>\n",
              "    .dataframe tbody tr th:only-of-type {\n",
              "        vertical-align: middle;\n",
              "    }\n",
              "\n",
              "    .dataframe tbody tr th {\n",
              "        vertical-align: top;\n",
              "    }\n",
              "\n",
              "    .dataframe thead th {\n",
              "        text-align: right;\n",
              "    }\n",
              "</style>\n",
              "<table border=\"1\" class=\"dataframe\">\n",
              "  <thead>\n",
              "    <tr style=\"text-align: right;\">\n",
              "      <th></th>\n",
              "      <th>spam</th>\n",
              "      <th>tweet</th>\n",
              "      <th>number_of_words</th>\n",
              "      <th>tweet_length</th>\n",
              "      <th>label</th>\n",
              "      <th>encoded_tweet</th>\n",
              "    </tr>\n",
              "  </thead>\n",
              "  <tbody>\n",
              "    <tr>\n",
              "      <th>0</th>\n",
              "      <td>no</td>\n",
              "      <td>pretty kool create similar list christians changed world similarly creations religions amp religion able compare christianity true god proving love divine</td>\n",
              "      <td>21</td>\n",
              "      <td>154</td>\n",
              "      <td>0</td>\n",
              "      <td>[[2, 3, 4, 5, 6, 7, 8, 9, 5, 10, 11, 12, 11, 13, 14, 7, 15, 16, 17, 18, 1, 0, 0, 0, 0, 0, 0, 0, 0, 0, 0, 0, 0, 0, 0, 0, 0, 0, 0, 0, 0, 0, 0, 0, 0, 0, 0, 0, 0, 0, 0, 0, 0, 0, 0, 0, 0, 0, 0, 0, 0, 0, 0, 0, 0, 0, 0, 0, 0, 0, 0, 0, 0, 0, 0], 21]</td>\n",
              "    </tr>\n",
              "    <tr>\n",
              "      <th>1</th>\n",
              "      <td>no</td>\n",
              "      <td>key challenges healthcare ai needs overcome 2020</td>\n",
              "      <td>7</td>\n",
              "      <td>52</td>\n",
              "      <td>0</td>\n",
              "      <td>[[19, 20, 21, 22, 23, 24, 25, 0, 0, 0, 0, 0, 0, 0, 0, 0, 0, 0, 0, 0, 0, 0, 0, 0, 0, 0, 0, 0, 0, 0, 0, 0, 0, 0, 0, 0, 0, 0, 0, 0, 0, 0, 0, 0, 0, 0, 0, 0, 0, 0, 0, 0, 0, 0, 0, 0, 0, 0, 0, 0, 0, 0, 0, 0, 0, 0, 0, 0, 0, 0, 0, 0, 0, 0, 0], 7]</td>\n",
              "    </tr>\n",
              "    <tr>\n",
              "      <th>2</th>\n",
              "      <td>no</td>\n",
              "      <td>weights lot sense seema imply sectors higher end like healthcare</td>\n",
              "      <td>10</td>\n",
              "      <td>65</td>\n",
              "      <td>0</td>\n",
              "      <td>[[26, 27, 28, 1, 29, 30, 31, 32, 33, 21, 0, 0, 0, 0, 0, 0, 0, 0, 0, 0, 0, 0, 0, 0, 0, 0, 0, 0, 0, 0, 0, 0, 0, 0, 0, 0, 0, 0, 0, 0, 0, 0, 0, 0, 0, 0, 0, 0, 0, 0, 0, 0, 0, 0, 0, 0, 0, 0, 0, 0, 0, 0, 0, 0, 0, 0, 0, 0, 0, 0, 0, 0, 0, 0, 0], 10]</td>\n",
              "    </tr>\n",
              "    <tr>\n",
              "      <th>3</th>\n",
              "      <td>no</td>\n",
              "      <td>reality complex stories form dataanalytics datascience storytelling machinelearning</td>\n",
              "      <td>8</td>\n",
              "      <td>84</td>\n",
              "      <td>0</td>\n",
              "      <td>[[34, 35, 36, 37, 38, 39, 40, 41, 0, 0, 0, 0, 0, 0, 0, 0, 0, 0, 0, 0, 0, 0, 0, 0, 0, 0, 0, 0, 0, 0, 0, 0, 0, 0, 0, 0, 0, 0, 0, 0, 0, 0, 0, 0, 0, 0, 0, 0, 0, 0, 0, 0, 0, 0, 0, 0, 0, 0, 0, 0, 0, 0, 0, 0, 0, 0, 0, 0, 0, 0, 0, 0, 0, 0, 0], 8]</td>\n",
              "    </tr>\n",
              "    <tr>\n",
              "      <th>4</th>\n",
              "      <td>no</td>\n",
              "      <td>ai amp machinelearning creates value business data  artificialintelligence future operational efficiency</td>\n",
              "      <td>11</td>\n",
              "      <td>105</td>\n",
              "      <td>0</td>\n",
              "      <td>[[22, 12, 41, 4, 42, 43, 44, 45, 46, 47, 48, 0, 0, 0, 0, 0, 0, 0, 0, 0, 0, 0, 0, 0, 0, 0, 0, 0, 0, 0, 0, 0, 0, 0, 0, 0, 0, 0, 0, 0, 0, 0, 0, 0, 0, 0, 0, 0, 0, 0, 0, 0, 0, 0, 0, 0, 0, 0, 0, 0, 0, 0, 0, 0, 0, 0, 0, 0, 0, 0, 0, 0, 0, 0, 0], 11]</td>\n",
              "    </tr>\n",
              "  </tbody>\n",
              "</table>\n",
              "</div>"
            ],
            "text/plain": [
              "  spam  ...                                                                                                                                                                                                                                      encoded_tweet\n",
              "0   no  ...  [[2, 3, 4, 5, 6, 7, 8, 9, 5, 10, 11, 12, 11, 13, 14, 7, 15, 16, 17, 18, 1, 0, 0, 0, 0, 0, 0, 0, 0, 0, 0, 0, 0, 0, 0, 0, 0, 0, 0, 0, 0, 0, 0, 0, 0, 0, 0, 0, 0, 0, 0, 0, 0, 0, 0, 0, 0, 0, 0, 0, 0, 0, 0, 0, 0, 0, 0, 0, 0, 0, 0, 0, 0, 0, 0], 21]\n",
              "1   no  ...      [[19, 20, 21, 22, 23, 24, 25, 0, 0, 0, 0, 0, 0, 0, 0, 0, 0, 0, 0, 0, 0, 0, 0, 0, 0, 0, 0, 0, 0, 0, 0, 0, 0, 0, 0, 0, 0, 0, 0, 0, 0, 0, 0, 0, 0, 0, 0, 0, 0, 0, 0, 0, 0, 0, 0, 0, 0, 0, 0, 0, 0, 0, 0, 0, 0, 0, 0, 0, 0, 0, 0, 0, 0, 0, 0], 7]\n",
              "2   no  ...   [[26, 27, 28, 1, 29, 30, 31, 32, 33, 21, 0, 0, 0, 0, 0, 0, 0, 0, 0, 0, 0, 0, 0, 0, 0, 0, 0, 0, 0, 0, 0, 0, 0, 0, 0, 0, 0, 0, 0, 0, 0, 0, 0, 0, 0, 0, 0, 0, 0, 0, 0, 0, 0, 0, 0, 0, 0, 0, 0, 0, 0, 0, 0, 0, 0, 0, 0, 0, 0, 0, 0, 0, 0, 0, 0], 10]\n",
              "3   no  ...     [[34, 35, 36, 37, 38, 39, 40, 41, 0, 0, 0, 0, 0, 0, 0, 0, 0, 0, 0, 0, 0, 0, 0, 0, 0, 0, 0, 0, 0, 0, 0, 0, 0, 0, 0, 0, 0, 0, 0, 0, 0, 0, 0, 0, 0, 0, 0, 0, 0, 0, 0, 0, 0, 0, 0, 0, 0, 0, 0, 0, 0, 0, 0, 0, 0, 0, 0, 0, 0, 0, 0, 0, 0, 0, 0], 8]\n",
              "4   no  ...  [[22, 12, 41, 4, 42, 43, 44, 45, 46, 47, 48, 0, 0, 0, 0, 0, 0, 0, 0, 0, 0, 0, 0, 0, 0, 0, 0, 0, 0, 0, 0, 0, 0, 0, 0, 0, 0, 0, 0, 0, 0, 0, 0, 0, 0, 0, 0, 0, 0, 0, 0, 0, 0, 0, 0, 0, 0, 0, 0, 0, 0, 0, 0, 0, 0, 0, 0, 0, 0, 0, 0, 0, 0, 0, 0], 11]\n",
              "\n",
              "[5 rows x 6 columns]"
            ]
          },
          "metadata": {
            "tags": []
          },
          "execution_count": 29
        }
      ]
    },
    {
      "cell_type": "code",
      "metadata": {
        "id": "VP7mgc0GRVOK",
        "colab_type": "code",
        "colab": {}
      },
      "source": [
        "# Drop rows whose tweet_length =\n",
        " tweet_datasets = datasets.loc[datasets['number_of_words'] > 0]\n",
        " tweet_datasets = tweet_datasets.reset_index()"
      ],
      "execution_count": 0,
      "outputs": []
    },
    {
      "cell_type": "markdown",
      "metadata": {
        "id": "Q2TBUEk_PN10",
        "colab_type": "text"
      },
      "source": [
        "### Datasets splitting\n",
        "One of the major challenges in machine learning is overfitting. Overfitting is when a model is so tuned to the training sets that it’s unable to make accurate predictions on data outside of the training sets.\n",
        "\n",
        "To be prevent overfitting, I'm going to split the datasets into train and test datasets.\n",
        "A train dataset will be used in learning (fitting the model).\n",
        "\n",
        "Besides holding out some data for training, I’ll also hold out some independent data for testing. \n",
        "\n",
        "60% of the dataset will be used for training and 40% will be used for validation.\n",
        "\n"
      ]
    },
    {
      "cell_type": "code",
      "metadata": {
        "id": "xFOsJiHFPgf2",
        "colab_type": "code",
        "colab": {}
      },
      "source": [
        "X = list(tweet_datasets['encoded_tweet'])\n",
        "y = list(tweet_datasets['label'])\n",
        "\n",
        "X_train, X_test, y_train, y_test = train_test_split(X, y, test_size=0.4, shuffle=True)\n",
        "\n",
        "assert len(X_train) == len(y_train)\n",
        "assert len(X_test) == len(y_test)\n",
        "assert (len(X_test)+ len(X_train) ==  tweet_datasets['encoded_tweet'].count())\n",
        "\n"
      ],
      "execution_count": 0,
      "outputs": []
    },
    {
      "cell_type": "markdown",
      "metadata": {
        "id": "ZuqFxNYAQqrI",
        "colab_type": "text"
      },
      "source": [
        "### Creating a custom TweetLoader\n",
        " We'll create a custom dataset. This custom dataset will extend Pytorch `Dataset` class"
      ]
    },
    {
      "cell_type": "code",
      "metadata": {
        "id": "33y2tSlKQGYx",
        "colab_type": "code",
        "colab": {}
      },
      "source": [
        "class TweetDataset(Dataset):\n",
        "    def __init__(self, X, y):\n",
        "        self.X = X\n",
        "        self.y = y\n",
        "        \n",
        "    def __len__(self):\n",
        "        return len(self.y)\n",
        "    \n",
        "    def __getitem__(self, index):\n",
        "        tweet = torch.from_numpy(self.X[index][0].astype(np.int32))\n",
        "        label = self.y[index]\n",
        "\n",
        "        return tweet, label\n",
        "        "
      ],
      "execution_count": 0,
      "outputs": []
    },
    {
      "cell_type": "code",
      "metadata": {
        "id": "F-xwcAe_UMkL",
        "colab_type": "code",
        "colab": {}
      },
      "source": [
        "train_dataset = TweetDataset(X_train, y_train)\n",
        "test_dataset = TweetDataset(X_test, y_test)"
      ],
      "execution_count": 0,
      "outputs": []
    },
    {
      "cell_type": "markdown",
      "metadata": {
        "id": "8c_RrlFJnVKd",
        "colab_type": "text"
      },
      "source": [
        "### Network Architecture\n",
        "Within the __init__ method, I define the layers of the network module.\n",
        "There are three layers: an embedding layer, LSTM layer and a linear layer.\n",
        "The embedding layer is used to transform the sparse encoded vector into a dense embedding vector. \n",
        "\n",
        "\n",
        "The linear layer takes the final hidden state and feeds it through a fully connected  layer, transforming it to the correct output dimension."
      ]
    },
    {
      "cell_type": "code",
      "metadata": {
        "id": "ZOgJy_LIBAYo",
        "colab_type": "code",
        "colab": {}
      },
      "source": [
        "import torch.nn as nn\n",
        "from torch.nn.utils.rnn import pack_padded_sequence, pad_packed_sequence\n",
        "\n",
        "class RNN(nn.Module):\n",
        "    \"\"\"\n",
        "    This is the simple LSTM architecture\n",
        "    \"\"\"\n",
        "\n",
        "    def __init__(self, input_size, hidden_size, embed_dim,output_size):\n",
        "        \"\"\"\n",
        "        Initialize the model by settingg up the various layers.\n",
        "        \"\"\"\n",
        "        super(RNN, self).__init__()\n",
        "        \n",
        "        self.embed = nn.Embedding(input_size, embed_dim)\n",
        "\n",
        "        self.rnn = nn.RNN(embed_dim,\n",
        "                          hidden_size,\n",
        "                          batch_first=True\n",
        "                          )\n",
        "\n",
        "\n",
        "        self.fc = nn.Linear(hidden_dim, output_size)\n",
        "        \n",
        "    def forward(self, tweet):\n",
        "        \"\"\"\n",
        "        Perform a forward pass of our model on input.\n",
        "        \"\"\"\n",
        "        # tweet = [len, batch_size]\n",
        "        embedded= self.embed(tweet)\n",
        "        output, hidden = self.rnn(embedded)\n",
        "        output = self.fc(hidden.squeeze(0))\n",
        "        return output\n"
      ],
      "execution_count": 0,
      "outputs": []
    },
    {
      "cell_type": "code",
      "metadata": {
        "id": "rnwH9XE52Daf",
        "colab_type": "code",
        "colab": {}
      },
      "source": [
        "# vocab2index = {\"\":0, \"UNK\":1}\n",
        "\n",
        "def index2word(tensor):\n",
        "  \"\"\"\n",
        "    It takes a tensor argument and contructs back to a text\n",
        "  \"\"\"\n",
        "  index2word = {index:word for word,index in vocab2index.items()}\n",
        "  data = tensor.numpy()\n",
        "  print(data.shape)\n",
        "  words_list = []\n",
        "  for row in data:\n",
        "    for cell in row:\n",
        "      word = index2word[cell]\n",
        "      words_list.append(word)\n",
        "\n",
        "  word = \" \".join(words_list)\n",
        "  print(word)\n"
      ],
      "execution_count": 0,
      "outputs": []
    },
    {
      "cell_type": "code",
      "metadata": {
        "id": "8n5cpE5I_ihi",
        "colab_type": "code",
        "colab": {}
      },
      "source": [
        "# Trainable parameters\n",
        "def count_trainable_params(model):\n",
        "  \"\"\"\n",
        "   Print a string of trainable parameters in a model\n",
        "  Args:\n",
        "      model (object): The model object\n",
        "  \"\"\"\n",
        "  n_params = sum(p.numel() for p in model.parameters() if p.requires_grad)\n",
        "\n",
        "  print(f'The model has {n_params} trainable paramters')"
      ],
      "execution_count": 0,
      "outputs": []
    },
    {
      "cell_type": "code",
      "metadata": {
        "id": "Nk_mh2NiAwC9",
        "colab_type": "code",
        "colab": {}
      },
      "source": [
        "# Calculate accuracy\n",
        "def cal_accuracy(preds, y):\n",
        "  \"\"\"\n",
        "  Returns accuracy per batch. i.e 6 out of 10 means 0.6\n",
        "  \"\"\"\n",
        "  preds = torch.round(preds) # Round prediction up i.e 0.0 and 1.0\n",
        "  correct = (preds == y)\n",
        "  correct = correct.float()\n",
        "  #print(f'correct: {correct.sum()}, wrong {len(correct)}')\n",
        "  acc = correct.sum()/ len(correct)\n",
        "  return acc\n",
        "\n",
        "\n",
        "def convert_pred(y_preds, y_true):\n",
        "  #y_true = y_true.cpu().detach()\n",
        "  #y_preds = y_preds.cpu().detach()\n",
        "  y_preds = torch.round(y_preds) # Round prediction up i.e 0.0 and 1.0  \n",
        "\n",
        "  return y_preds, y_true\n",
        "\n",
        "\n",
        "def cal_f1_score(y_pred, y_true):\n",
        "  \"\"\"\n",
        "    Returns an f1 score \n",
        "  \"\"\"\n",
        "  y_pred, y_true = convert_pred(y_pred, y_true)\n",
        "  f1 = f1_score(y_pred, y_true)\n",
        "\n",
        "  return f1\n",
        "\n"
      ],
      "execution_count": 0,
      "outputs": []
    },
    {
      "cell_type": "code",
      "metadata": {
        "id": "1H0kmjNAJ9e2",
        "colab_type": "code",
        "colab": {}
      },
      "source": [
        "def train(model, train_loader, optimizer, loss_fn, device):\n",
        "    epoch_loss = 0\n",
        "    epoch_acc = 0\n",
        "    model.train()\n",
        "\n",
        "    for batch in train_loader:\n",
        "      optimizer.zero_grad()\n",
        "      tweet, label = batch\n",
        "      tweet, label = tweet.long(), label.float()\n",
        "      tweet = tweet.to(device)\n",
        "      label = label.to(device)\n",
        "      predictions = model(tweet).squeeze(1)\n",
        "      loss = loss_fn(predictions, label)\n",
        "      acc = cal_accuracy(predictions,label)\n",
        "      loss.backward()\n",
        "      optimizer.step()\n",
        "      epoch_loss += loss.item()\n",
        "      epoch_acc += acc.item() \n",
        "    return epoch_loss/len(train_loader), epoch_acc/ len(train_loader)"
      ],
      "execution_count": 0,
      "outputs": []
    },
    {
      "cell_type": "code",
      "metadata": {
        "id": "aTeFXkOzMNIP",
        "colab_type": "code",
        "colab": {}
      },
      "source": [
        "def evaluate_model(model, loader, criterion):\n",
        "  device = torch.device(\"cuda\" if torch.cuda.is_available() else \"cpu\")\n",
        "  epoch_loss = 0 \n",
        "  epoch_acc = 0\n",
        "  y_preds = None\n",
        "  y_true = None\n",
        "  model.eval()\n",
        "  with torch.no_grad():\n",
        "    for batch in loader:\n",
        "      tweet, label = batch\n",
        "      tweet, label = tweet.long(), label.float()\n",
        "      tweet = tweet.to(device)\n",
        "      label = label.to(device)\n",
        "      predictions = model(tweet).squeeze(1)\n",
        "      loss = criterion(predictions, label)\n",
        "      acc = cal_accuracy(predictions ,label)\n",
        "\n",
        "      pred = torch.round(predictions) # Round up to 0.0, or 1.0\n",
        "      \n",
        "      if y_preds == None:\n",
        "        y_preds = pred\n",
        "        y_true = label\n",
        "      else:\n",
        "        y_preds = torch.cat([y_preds, pred])\n",
        "        y_true = torch.cat([y_true, label])\n",
        "\n",
        "      epoch_loss += loss.item()\n",
        "      epoch_acc += acc.item()\n",
        "  return epoch_loss/ len(loader), epoch_acc / len(loader), y_preds, y_true"
      ],
      "execution_count": 0,
      "outputs": []
    },
    {
      "cell_type": "code",
      "metadata": {
        "id": "DpJdykmlpKpm",
        "colab_type": "code",
        "colab": {}
      },
      "source": [
        "def epoch_time(start_time, end_time):\n",
        "    elapsed_time = end_time - start_time\n",
        "    elapsed_mins = int(elapsed_time / 60)\n",
        "    elapsed_secs = int(elapsed_time - (elapsed_mins * 60))\n",
        "    return elapsed_mins, elapsed_secs"
      ],
      "execution_count": 0,
      "outputs": []
    },
    {
      "cell_type": "code",
      "metadata": {
        "id": "l2SLDr0xNYU_",
        "colab_type": "code",
        "colab": {}
      },
      "source": [
        "def start_training(model, train_loader, test_loader, optimizer, criterion, epochs=5):\n",
        "  best_valid_loss = float('inf')\n",
        "  device = torch.device(\"cuda\" if torch.cuda.is_available() else \"cpu\")\n",
        "  # Take advantage of GPU if one is available\n",
        "  model = model.to(device)\n",
        "  criterion = criterion.to(device)\n",
        "\n",
        "  for epoch in range(epochs):\n",
        "    start_time  = time.time()\n",
        "    \n",
        "    train_loss, train_acc = train(model=model, train_loader=train_loader, optimizer=optimizer, loss_fn=criterion, device=device)\n",
        "    valid_loss, valid_acc _,_= evaluate_model(model= model, loader=test_loader,criterion=criterion)\n",
        "\n",
        "    end_time = time.time()\n",
        "    epoch_mins, epoch_secs = epoch_time(start_time, end_time)\n",
        "\n",
        "    if valid_loss < best_valid_loss:\n",
        "      best_valid_loss = best_valid_loss\n",
        "      torch.save(model.state_dict(), 'model.pt')\n",
        "    print(f'Epoch {epoch+1} | Epoch time: {epoch_mins}:{epoch_secs}s')\n",
        "    print(f'\\t Train Loss : {train_loss:.3f} | Train acc: {train_acc *100:.2f}%')\n",
        "    print(f'\\t Val. Loss : {valid_loss:.3f} | Val acc: {valid_acc *100:.2f}%')\n",
        "    print(f'\\t F1 Score : {f1:.3f}')\n"
      ],
      "execution_count": 0,
      "outputs": []
    },
    {
      "cell_type": "markdown",
      "metadata": {
        "id": "aJFpdYzyYwOM",
        "colab_type": "text"
      },
      "source": [
        "### Defining model hyper-\n",
        "\n",
        "```\n",
        "# This is formatted as code\n",
        "```\n",
        "\n",
        "parametters"
      ]
    },
    {
      "cell_type": "code",
      "metadata": {
        "id": "_Hyp9aNoUZS5",
        "colab_type": "code",
        "outputId": "4359ab15-79e0-4a1e-eaa6-5f14528edb57",
        "colab": {
          "base_uri": "https://localhost:8080/",
          "height": 34
        }
      },
      "source": [
        "batch_size = 50\n",
        "embed_dim = 160\n",
        "hidden_dim = 500\n",
        "input_size = len(words)\n",
        "output_size = 1\n",
        "lr = 1e-3\n",
        "train_loader = DataLoader(train_dataset, batch_size=batch_size, shuffle=True)\n",
        "test_loader = DataLoader(test_dataset, batch_size=batch_size, shuffle=True)\n",
        "print(input_size)"
      ],
      "execution_count": 0,
      "outputs": [
        {
          "output_type": "stream",
          "text": [
            "9614\n"
          ],
          "name": "stdout"
        }
      ]
    },
    {
      "cell_type": "code",
      "metadata": {
        "id": "pJHrsQCoUc8F",
        "colab_type": "code",
        "outputId": "0143cc32-d01d-4e54-dc28-093fee2f64a7",
        "colab": {
          "base_uri": "https://localhost:8080/",
          "height": 119
        }
      },
      "source": [
        "model = RNN(input_size=input_size, hidden_size=hidden_dim, output_size=1, embed_dim=100)\n",
        "optimizer = optim.Adam(model.parameters(), lr=lr)\n",
        "loss_fn = torch.nn.BCELoss()\n",
        "count_trainable_params(model)\n",
        "model"
      ],
      "execution_count": 0,
      "outputs": [
        {
          "output_type": "stream",
          "text": [
            "The model has 1262901 trainable paramters\n"
          ],
          "name": "stdout"
        },
        {
          "output_type": "execute_result",
          "data": {
            "text/plain": [
              "RNN(\n",
              "  (embed): Embedding(9614, 100)\n",
              "  (rnn): RNN(100, 500, batch_first=True)\n",
              "  (fc): Linear(in_features=500, out_features=1, bias=True)\n",
              ")"
            ]
          },
          "metadata": {
            "tags": []
          },
          "execution_count": 43
        }
      ]
    },
    {
      "cell_type": "markdown",
      "metadata": {
        "id": "QM0z_hKgZcaa",
        "colab_type": "text"
      },
      "source": [
        "### Training the model"
      ]
    },
    {
      "cell_type": "code",
      "metadata": {
        "id": "tjFJh-aLGJN4",
        "colab_type": "code",
        "outputId": "bf510604-4917-4322-dea9-1b27f3aff667",
        "colab": {
          "base_uri": "https://localhost:8080/",
          "height": 697
        }
      },
      "source": [
        "start_training(model, train_loader, test_loader , optimizer, loss_fn, epochs=10)"
      ],
      "execution_count": 0,
      "outputs": [
        {
          "output_type": "stream",
          "text": [
            "Epoch 1 | Epoch time: 0:2s\n",
            "\t Train Loss : nan | Train acc: 50.16%\n",
            "\t Val. Loss : 1.726 | Val acc: 49.46%\n",
            "\t F1 Score : 0.625\n",
            "Epoch 2 | Epoch time: 0:2s\n",
            "\t Train Loss : 1.704 | Train acc: 50.10%\n",
            "\t Val. Loss : 1.730 | Val acc: 49.32%\n",
            "\t F1 Score : 0.308\n",
            "Epoch 3 | Epoch time: 0:2s\n",
            "\t Train Loss : 1.704 | Train acc: 50.10%\n",
            "\t Val. Loss : 1.723 | Val acc: 49.54%\n",
            "\t F1 Score : 0.778\n",
            "Epoch 4 | Epoch time: 0:2s\n",
            "\t Train Loss : 1.704 | Train acc: 50.12%\n",
            "\t Val. Loss : 1.726 | Val acc: 49.46%\n",
            "\t F1 Score : 0.625\n",
            "Epoch 5 | Epoch time: 0:2s\n",
            "\t Train Loss : 1.707 | Train acc: 50.03%\n",
            "\t Val. Loss : 1.726 | Val acc: 49.46%\n",
            "\t F1 Score : 0.625\n",
            "Epoch 6 | Epoch time: 0:2s\n",
            "\t Train Loss : 1.707 | Train acc: 50.03%\n",
            "\t Val. Loss : 1.724 | Val acc: 49.50%\n",
            "\t F1 Score : 0.706\n",
            "Epoch 7 | Epoch time: 0:2s\n",
            "\t Train Loss : 1.703 | Train acc: 50.14%\n",
            "\t Val. Loss : 1.724 | Val acc: 49.50%\n",
            "\t F1 Score : 0.706\n",
            "Epoch 8 | Epoch time: 0:2s\n",
            "\t Train Loss : 1.704 | Train acc: 50.12%\n",
            "\t Val. Loss : 1.727 | Val acc: 49.41%\n",
            "\t F1 Score : 0.533\n",
            "Epoch 9 | Epoch time: 0:2s\n",
            "\t Train Loss : 1.703 | Train acc: 50.14%\n",
            "\t Val. Loss : 1.723 | Val acc: 49.54%\n",
            "\t F1 Score : 0.778\n",
            "Epoch 10 | Epoch time: 0:2s\n",
            "\t Train Loss : 1.704 | Train acc: 50.10%\n",
            "\t Val. Loss : 1.721 | Val acc: 49.59%\n",
            "\t F1 Score : 0.842\n"
          ],
          "name": "stdout"
        }
      ]
    },
    {
      "cell_type": "markdown",
      "metadata": {
        "id": "ZhHkuziohpgp",
        "colab_type": "text"
      },
      "source": [
        ""
      ]
    },
    {
      "cell_type": "markdown",
      "metadata": {
        "id": "8uiMqQCTpzsL",
        "colab_type": "text"
      },
      "source": [
        "## Testing the model"
      ]
    },
    {
      "cell_type": "code",
      "metadata": {
        "id": "tLc3oOZKhzXl",
        "colab_type": "code",
        "outputId": "7d8c2c99-61bd-427a-c306-639a12195c0d",
        "colab": {
          "base_uri": "https://localhost:8080/",
          "height": 34
        }
      },
      "source": [
        "model.load_state_dict(torch.load('model.pt'))\n",
        "test_loss, test_acc, y_preds, y_true = evaluate_model(model, test_loader, loss_fn)\n",
        "y_true = y_true.cpu().numpy()\n",
        "y_preds = y_preds.cpu().numpy()\n",
        "\n",
        "print(f'Test Loss: {test_loss:.3f} | Test Acc: {test_acc*100:.2f}% | F1 Score: {f1_score(y_true, y_preds)} |Recall {recall_score(y_true, y_preds)} | Precision {precision_score(y_true, y_preds)} '  )"
      ],
      "execution_count": 0,
      "outputs": [
        {
          "output_type": "stream",
          "text": [
            "Test Loss: 1.730 | Test Acc: 49.32% | F1 Score: 0.6619873150105708 |Recall 1.0 | Precision 0.49475413980533434 \n"
          ],
          "name": "stdout"
        }
      ]
    },
    {
      "cell_type": "code",
      "metadata": {
        "id": "6paFHQYgkV8Y",
        "colab_type": "code",
        "colab": {}
      },
      "source": [
        "def predict(tweet, model, vocab2index=vocab2index):\n",
        "  device = torch.device(\"cuda\" if torch.cuda.is_available() else \"cpu\")\n",
        "  tweet = clean_tweet(tweet)\n",
        "  twt, length = tweet_encoded = encode_sentence(tweet, vocab2index)\n",
        "  print(length)\n",
        "  length = torch.tensor(length).type(torch.LongTensor)\n",
        "  print(length)\n",
        "  twt = torch.Tensor(twt).type(torch.LongTensor)\n",
        "\n",
        "  model, twt, length = model.to(device), twt.to(device), length.to(device)\n",
        "  pred= model(twt, length)\n",
        "\n",
        "  return torch.round(pred)"
      ],
      "execution_count": 0,
      "outputs": []
    },
    {
      "cell_type": "code",
      "metadata": {
        "id": "0K3fIfE3a_3s",
        "colab_type": "code",
        "colab": {}
      },
      "source": [
        "test_tweet = 'Applying #machinelearning to study women working is difficult given many went by \"Mrs husband’s name\".'\n",
        "#print(predict(test_tweet, model))"
      ],
      "execution_count": 0,
      "outputs": []
    },
    {
      "cell_type": "code",
      "metadata": {
        "id": "qh5bv6JFbreY",
        "colab_type": "code",
        "colab": {}
      },
      "source": [
        ""
      ],
      "execution_count": 0,
      "outputs": []
    }
  ]
}